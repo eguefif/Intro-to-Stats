{
 "cells": [
  {
   "cell_type": "code",
   "execution_count": 55,
   "id": "77396a50-e4d2-436a-be60-9171a7ad9746",
   "metadata": {},
   "outputs": [],
   "source": [
    "# To do\n",
    "# the IQR\n",
    "\n",
    "import math\n",
    "\n",
    "# median calculator\n",
    "def median(distribution):\n",
    "    n = len(distribution)\n",
    "    distribution.sort()\n",
    "    if n % 2 == 0:\n",
    "        half = int(n/2)\n",
    "        return mean([distribution[half], distribution[half-1]])\n",
    "    half = int((n+1) / 2)\n",
    "    return distribution[half]\n",
    "\n",
    "# mean calculator\n",
    "def mean(distribution):\n",
    "    add_result = 0\n",
    "    for i in distribution:\n",
    "        add_result += i\n",
    "    return add_result / len(distribution)\n",
    "\n",
    "# range\n",
    "def rang(distribution):\n",
    "    return max(distribution) - min(distribution)\n",
    "\n",
    "# standard deviation\n",
    "def sd(distribution):\n",
    "    mean = mean(distribution)\n",
    "    residuals = 0\n",
    "    for i in distribution:\n",
    "        residuals += (i - mean)**2\n",
    "    \n",
    "    return math.sqrt(residuals/(len(distribution)-1))"
   ]
  },
  {
   "cell_type": "code",
   "execution_count": 50,
   "id": "c201f417-744c-42eb-b306-ed4338ca72f7",
   "metadata": {},
   "outputs": [
    {
     "name": "stdout",
     "output_type": "stream",
     "text": [
      "4 4.933333333333334 14 3.0\n"
     ]
    }
   ],
   "source": [
    "from scipy.stats import iqr\n",
    "sample = [2, 3, 5, 4, 1, 2, 4, 5, 6, 7, 12 ,15, 3, 4, 1]\n",
    "print(median(sample), mean(sample), rang(sample), iqr(sample))\n"
   ]
  },
  {
   "cell_type": "code",
   "execution_count": 40,
   "id": "5e757ed2-7330-4f50-bf4f-de2308b226a2",
   "metadata": {},
   "outputs": [
    {
     "data": {
      "text/plain": [
       "4"
      ]
     },
     "execution_count": 40,
     "metadata": {},
     "output_type": "execute_result"
    }
   ],
   "source": [
    "import statistics\n",
    "\n",
    "statistics.median([2, 3, 5, 4, 1, 2, 4, 5, 6, 7, 12 ,15, 3, 4, 1])"
   ]
  },
  {
   "cell_type": "code",
   "execution_count": null,
   "id": "1f99350b-41b5-47ab-a08a-8511c907381d",
   "metadata": {},
   "outputs": [],
   "source": [
    "statistics.stdev("
   ]
  }
 ],
 "metadata": {
  "kernelspec": {
   "display_name": "Python 3 (ipykernel)",
   "language": "python",
   "name": "python3"
  },
  "language_info": {
   "codemirror_mode": {
    "name": "ipython",
    "version": 3
   },
   "file_extension": ".py",
   "mimetype": "text/x-python",
   "name": "python",
   "nbconvert_exporter": "python",
   "pygments_lexer": "ipython3",
   "version": "3.9.7"
  }
 },
 "nbformat": 4,
 "nbformat_minor": 5
}
