{
 "cells": [
  {
   "cell_type": "code",
   "execution_count": 1,
   "id": "33a8302e-2b6c-4511-bb04-1c65bdd031ae",
   "metadata": {},
   "outputs": [],
   "source": [
    "import seaborn as sns\n",
    "import scipy.stats as st\n",
    "import numpy as np\n",
    "import pandas as pd"
   ]
  },
  {
   "cell_type": "code",
   "execution_count": 15,
   "id": "23fd4e74-adc3-436f-adf3-c148d5305c26",
   "metadata": {},
   "outputs": [
    {
     "data": {
      "text/plain": [
       "<AxesSubplot:ylabel='Count'>"
      ]
     },
     "execution_count": 15,
     "metadata": {},
     "output_type": "execute_result"
    },
    {
     "data": {
      "image/png": "[encoded data removed]",
      "text/plain": [
       "<Figure size 432x288 with 1 Axes>"
      ]
     },
     "metadata": {
      "needs_background": "light"
     },
     "output_type": "display_data"
    }
   ],
   "source": [
    "# exercice 1\n",
    "p = [51, 48, 50, 48, 45, 52, 53, 49, 43, 42, 45, 52, 52, 46, 50]\n",
    "\n",
    "sns.histplot(p, bins=8)"
   ]
  },
  {
   "cell_type": "code",
   "execution_count": 8,
   "id": "feb1a96a-a87a-4116-95d8-e71da6273ea5",
   "metadata": {},
   "outputs": [
    {
     "name": "stdout",
     "output_type": "stream",
     "text": [
      "\n",
      "Median: 48.0\n",
      "IQR: 6.5\n",
      "q1: 45.0\n",
      "q3: 51.5\n",
      "\n"
     ]
    }
   ],
   "source": [
    "print(f'''\n",
    "Median: {np.median(p)}\n",
    "IQR: {np.percentile(p, 75) - np.percentile(p, 25)}\n",
    "q1: {np.percentile(p, 25)}\n",
    "q3: {np.percentile(p, 75)}\n",
    "\n",
    "The distribution is unimodal at 52. It is not symetric at all. All the data are on the right of the mode.\n",
    "The median is not the mode.\n",
    "''')"
   ]
  },
  {
   "cell_type": "markdown",
   "id": "0b78fc48-6285-4acf-bd89-204ab974a746",
   "metadata": {},
   "source": [
    "# Exercice 3\n",
    "a. It happens if there are no one with a size between the median and the upper quartile size.\n",
    "\n",
    "b. Most of the men population is taller than women. THe alto have, with tenor, a bigger spread than bass and soprano.\n",
    "\n",
    "c. With could order by median starting from the smallest to the greatest."
   ]
  },
  {
   "cell_type": "markdown",
   "id": "d2ca85fb-2db4-4d64-a4ef-92704c04b807",
   "metadata": {},
   "source": [
    "# Exercice 5\n",
    "It means that men size are less consistent than women's size. The spread is bigger."
   ]
  },
  {
   "cell_type": "code",
   "execution_count": 18,
   "id": "a779a4d2-7c1b-4f2f-bc09-c9518ca9489f",
   "metadata": {},
   "outputs": [],
   "source": [
    "tall_y_men = 6*12 + 2\n",
    "tall_y_woman = 5*12 + 10"
   ]
  },
  {
   "cell_type": "code",
   "execution_count": 19,
   "id": "93791b59-2498-4b40-9cb5-758667f8ec4e",
   "metadata": {},
   "outputs": [],
   "source": [
    "z_tall_men = (tall_y_men - 69.1) / 2.8\n",
    "z_tall_women = (tall_y_woman - 64) / 2.5"
   ]
  },
  {
   "cell_type": "code",
   "execution_count": 20,
   "id": "126e3585-4c32-40d2-93d1-1c40218760f7",
   "metadata": {},
   "outputs": [
    {
     "data": {
      "text/plain": [
       "1.7500000000000022"
      ]
     },
     "execution_count": 20,
     "metadata": {},
     "output_type": "execute_result"
    }
   ],
   "source": [
    "z_tall_men"
   ]
  },
  {
   "cell_type": "code",
   "execution_count": 21,
   "id": "0a2864af-95ce-479a-b2a4-0bf72c4d4722",
   "metadata": {},
   "outputs": [
    {
     "data": {
      "text/plain": [
       "2.4"
      ]
     },
     "execution_count": 21,
     "metadata": {},
     "output_type": "execute_result"
    }
   ],
   "source": [
    "z_tall_women"
   ]
  },
  {
   "cell_type": "markdown",
   "id": "98269d54-2597-4a36-b874-3ce53fe09b1e",
   "metadata": {
    "tags": []
   },
   "source": [
    "# Exercice 7\n",
    "who: 850 local residents\n",
    "what: their ages, attendance to college, favorable opinion of the universiy\n",
    "where: vicinity of the university\n",
    "when: not define\n",
    "why: opinion survey\n",
    "how: over the phone\n",
    "\n",
    "age -> quantitative in year\n",
    "attendance to college -> cat yes or not\n",
    "opinion -> categorical, might be a scale over 10 or 5\n",
    "\n",
    "I would not, the survey is voluntary, non anonymous and with locals. We know that the population of local is composed by staff member and students. They tend to have a more favorable opinion either by loyalty or fear."
   ]
  },
  {
   "cell_type": "code",
   "execution_count": 31,
   "id": "90ed6419-3b0c-42e3-99f2-64cc2983b921",
   "metadata": {},
   "outputs": [
    {
     "data": {
      "text/plain": [
       "<AxesSubplot:>"
      ]
     },
     "execution_count": 31,
     "metadata": {},
     "output_type": "execute_result"
    },
    {
     "data": {
      "image/png": "[encoded data removed]",
      "text/plain": [
       "<Figure size 432x288 with 1 Axes>"
      ]
     },
     "metadata": {
      "needs_background": "light"
     },
     "output_type": "display_data"
    }
   ],
   "source": [
    "# Exercice 11\n",
    "df = pd.read_csv('./ChRevI/Cramming.txt', sep='\\t')\n",
    "sns.boxplot(data=df[['Fri', 'Mon']])"
   ]
  },
  {
   "cell_type": "markdown",
   "id": "3e975f9c-4248-4e73-aee6-84386317a0ff",
   "metadata": {},
   "source": [
    "There are significant differences between monday's and friday's score. THe median is lower on monday. Most of the monday's score are lower than friday. But the median is more central on monday than friday. Also. the spread is wider on friday."
   ]
  },
  {
   "cell_type": "code",
   "execution_count": 32,
   "id": "c0d7b96d-39fd-4f69-9e12-7d5a851722bf",
   "metadata": {},
   "outputs": [],
   "source": [
    "df['changes'] = df.Fri - df.Mon"
   ]
  },
  {
   "cell_type": "code",
   "execution_count": 36,
   "id": "db1236e0-770b-48ca-b585-7d5b1d2b932a",
   "metadata": {},
   "outputs": [
    {
     "data": {
      "text/plain": [
       "<AxesSubplot:xlabel='changes', ylabel='Count'>"
      ]
     },
     "execution_count": 36,
     "metadata": {},
     "output_type": "execute_result"
    },
    {
     "data": {
      "image/png": "[encoded data removed]",
      "text/plain": [
       "<Figure size 432x288 with 1 Axes>"
      ]
     },
     "metadata": {
      "needs_background": "light"
     },
     "output_type": "display_data"
    }
   ],
   "source": [
    "sns.histplot(data=df, x='changes', bins=10)"
   ]
  },
  {
   "cell_type": "markdown",
   "id": "ccdaf894-afb8-42a5-8f8c-54e6f2cacde4",
   "metadata": {},
   "source": [
    "The ditribution is unimodal and asymetric. It says that most of the scores has diminished. A few scores have imporved."
   ]
  },
  {
   "cell_type": "markdown",
   "id": "b4358af1-18b2-44c8-9952-321a3b8552a6",
   "metadata": {},
   "source": [
    "# Exercice 13\n",
    "a. It is categorical for both. The number represents the name of a card.\n",
    "\n",
    "b. "
   ]
  },
  {
   "cell_type": "markdown",
   "id": "206470e4-415b-4cf0-b161-63f485915602",
   "metadata": {},
   "source": [
    "# Exercice 15\n",
    "a. mortality rate for males: deaths per 100 000\n",
    "water hardness: calcium cocentration parts per million ppm\n",
    "both quantitative, individuals for the first one, ppm for the other one. It is a percentage.\n",
    "\n",
    "b. Calcium\n",
    "This distribution is unimodal around 20, asymetric and skewed to the left.\n",
    "Mortality\n",
    "It is unimodal around 1500 and symetric with no outliers. Slightly skwed to the left."
   ]
  },
  {
   "cell_type": "markdown",
   "id": "faac72c8-71f8-43f3-b855-839c50369b63",
   "metadata": {},
   "source": [
    "# Exercice 17\n",
    "a. The x axe tickle are not in the same range.\n",
    "\n",
    "b. January is skewed to the right with a few outliers. Unimodal, July is skewd to the left.\n",
    "\n",
    "c. "
   ]
  },
  {
   "cell_type": "markdown",
   "id": "2af812a4-6c2f-4aa6-8f3e-0c1511a62262",
   "metadata": {},
   "source": [
    "# Exercice 19\n",
    "a. It seems there are two modes. One around 4.6 and the other one around 1.8. Both distribution are skwed toward the middle of the graph.\n",
    "\n",
    "b. Since the disbituion is bimodal, center and spread statistics will explain nothin.\n",
    "\n",
    "c. IT seems that when the eruption are short, the interval to next eruption is shorter too. We may have a relation between these two variables."
   ]
  },
  {
   "cell_type": "code",
   "execution_count": 47,
   "id": "62cb566c-663f-4123-8d3b-4e66d9d6900a",
   "metadata": {},
   "outputs": [
    {
     "data": {
      "text/plain": [
       "<AxesSubplot:xlabel='arm/nose_ratio', ylabel='Count'>"
      ]
     },
     "execution_count": 47,
     "metadata": {},
     "output_type": "execute_result"
    },
    {
     "data": {
      "image/png": "[encoded data removed]",
      "text/plain": [
       "<Figure size 432x288 with 1 Axes>"
      ]
     },
     "metadata": {
      "needs_background": "light"
     },
     "output_type": "display_data"
    }
   ],
   "source": [
    "# Exercice 21\n",
    "df = pd.read_csv('./ChRevI/Libertys_nose.txt', sep='\\t')\n",
    "sns.histplot(data=df, x='arm/nose_ratio',)"
   ]
  },
  {
   "cell_type": "markdown",
   "id": "dafba062-8b23-4cbc-a8eb-a745e80f0667",
   "metadata": {},
   "source": [
    "It is unimodal, skewed to the left."
   ]
  },
  {
   "cell_type": "code",
   "execution_count": 49,
   "id": "52caa29f-9ba0-4bbd-b8bb-720d98844f02",
   "metadata": {},
   "outputs": [
    {
     "data": {
      "text/html": [
       "<div>\n",
       "<style scoped>\n",
       "    .dataframe tbody tr th:only-of-type {\n",
       "        vertical-align: middle;\n",
       "    }\n",
       "\n",
       "    .dataframe tbody tr th {\n",
       "        vertical-align: top;\n",
       "    }\n",
       "\n",
       "    .dataframe thead th {\n",
       "        text-align: right;\n",
       "    }\n",
       "</style>\n",
       "<table border=\"1\" class=\"dataframe\">\n",
       "  <thead>\n",
       "    <tr style=\"text-align: right;\">\n",
       "      <th></th>\n",
       "      <th>Arm(cm)</th>\n",
       "      <th>Nose(cm)</th>\n",
       "      <th>arm/nose_ratio</th>\n",
       "    </tr>\n",
       "  </thead>\n",
       "  <tbody>\n",
       "    <tr>\n",
       "      <th>count</th>\n",
       "      <td>18.000000</td>\n",
       "      <td>18.000000</td>\n",
       "      <td>18.000000</td>\n",
       "    </tr>\n",
       "    <tr>\n",
       "      <th>mean</th>\n",
       "      <td>68.633333</td>\n",
       "      <td>4.600000</td>\n",
       "      <td>14.977778</td>\n",
       "    </tr>\n",
       "    <tr>\n",
       "      <th>std</th>\n",
       "      <td>3.399827</td>\n",
       "      <td>0.295057</td>\n",
       "      <td>1.252083</td>\n",
       "    </tr>\n",
       "    <tr>\n",
       "      <th>min</th>\n",
       "      <td>62.500000</td>\n",
       "      <td>4.100000</td>\n",
       "      <td>11.800000</td>\n",
       "    </tr>\n",
       "    <tr>\n",
       "      <th>25%</th>\n",
       "      <td>67.100000</td>\n",
       "      <td>4.400000</td>\n",
       "      <td>14.450000</td>\n",
       "    </tr>\n",
       "    <tr>\n",
       "      <th>50%</th>\n",
       "      <td>69.200000</td>\n",
       "      <td>4.500000</td>\n",
       "      <td>15.250000</td>\n",
       "    </tr>\n",
       "    <tr>\n",
       "      <th>75%</th>\n",
       "      <td>70.925000</td>\n",
       "      <td>4.775000</td>\n",
       "      <td>15.675000</td>\n",
       "    </tr>\n",
       "    <tr>\n",
       "      <th>max</th>\n",
       "      <td>74.000000</td>\n",
       "      <td>5.400000</td>\n",
       "      <td>16.900000</td>\n",
       "    </tr>\n",
       "  </tbody>\n",
       "</table>\n",
       "</div>"
      ],
      "text/plain": [
       "         Arm(cm)   Nose(cm)  arm/nose_ratio\n",
       "count  18.000000  18.000000       18.000000\n",
       "mean   68.633333   4.600000       14.977778\n",
       "std     3.399827   0.295057        1.252083\n",
       "min    62.500000   4.100000       11.800000\n",
       "25%    67.100000   4.400000       14.450000\n",
       "50%    69.200000   4.500000       15.250000\n",
       "75%    70.925000   4.775000       15.675000\n",
       "max    74.000000   5.400000       16.900000"
      ]
     },
     "execution_count": 49,
     "metadata": {},
     "output_type": "execute_result"
    }
   ],
   "source": [
    "df.describe()"
   ]
  },
  {
   "cell_type": "markdown",
   "id": "1f597431-9912-4662-9f62-8f48fe892678",
   "metadata": {},
   "source": [
    "Since the distributionf is asymetric but unimodal, we'll use the median and IQR.\n",
    "Median is 15.25 and IQR is 1.47\n",
    "\n",
    "According to this distribution, the liberty's statue nos to arm ration is under the min. It would be interesting to have more data to check the realistic possibility further."
   ]
  },
  {
   "cell_type": "code",
   "execution_count": 2,
   "id": "781219e0-f9a6-473b-ba95-885227821b98",
   "metadata": {},
   "outputs": [],
   "source": [
    "df = pd.read_csv('./ChRevI/Mail.txt', sep='\\t')"
   ]
  },
  {
   "cell_type": "code",
   "execution_count": 3,
   "id": "035ad1cb-42d9-46e2-81ed-e6fb5fa590bf",
   "metadata": {},
   "outputs": [
    {
     "data": {
      "text/plain": [
       "<AxesSubplot:ylabel='Count'>"
      ]
     },
     "execution_count": 3,
     "metadata": {},
     "output_type": "execute_result"
    },
    {
     "data": {
      "image/png": "[encoded data removed]",
      "text/plain": [
       "<Figure size 432x288 with 1 Axes>"
      ]
     },
     "metadata": {
      "needs_background": "light"
     },
     "output_type": "display_data"
    }
   ],
   "source": [
    "sns.histplot(df)"
   ]
  },
  {
   "cell_type": "code",
   "execution_count": 4,
   "id": "aa41c26b-5b32-47e2-9ae0-ce662c47e27d",
   "metadata": {},
   "outputs": [
    {
     "data": {
      "text/html": [
       "<div>\n",
       "<style scoped>\n",
       "    .dataframe tbody tr th:only-of-type {\n",
       "        vertical-align: middle;\n",
       "    }\n",
       "\n",
       "    .dataframe tbody tr th {\n",
       "        vertical-align: top;\n",
       "    }\n",
       "\n",
       "    .dataframe thead th {\n",
       "        text-align: right;\n",
       "    }\n",
       "</style>\n",
       "<table border=\"1\" class=\"dataframe\">\n",
       "  <thead>\n",
       "    <tr style=\"text-align: right;\">\n",
       "      <th></th>\n",
       "      <th>No_of_Pieces</th>\n",
       "    </tr>\n",
       "  </thead>\n",
       "  <tbody>\n",
       "    <tr>\n",
       "      <th>count</th>\n",
       "      <td>36.000000</td>\n",
       "    </tr>\n",
       "    <tr>\n",
       "      <th>mean</th>\n",
       "      <td>100.250000</td>\n",
       "    </tr>\n",
       "    <tr>\n",
       "      <th>std</th>\n",
       "      <td>25.539186</td>\n",
       "    </tr>\n",
       "    <tr>\n",
       "      <th>min</th>\n",
       "      <td>52.000000</td>\n",
       "    </tr>\n",
       "    <tr>\n",
       "      <th>25%</th>\n",
       "      <td>79.500000</td>\n",
       "    </tr>\n",
       "    <tr>\n",
       "      <th>50%</th>\n",
       "      <td>100.000000</td>\n",
       "    </tr>\n",
       "    <tr>\n",
       "      <th>75%</th>\n",
       "      <td>118.000000</td>\n",
       "    </tr>\n",
       "    <tr>\n",
       "      <th>max</th>\n",
       "      <td>151.000000</td>\n",
       "    </tr>\n",
       "  </tbody>\n",
       "</table>\n",
       "</div>"
      ],
      "text/plain": [
       "       No_of_Pieces\n",
       "count     36.000000\n",
       "mean     100.250000\n",
       "std       25.539186\n",
       "min       52.000000\n",
       "25%       79.500000\n",
       "50%      100.000000\n",
       "75%      118.000000\n",
       "max      151.000000"
      ]
     },
     "execution_count": 4,
     "metadata": {},
     "output_type": "execute_result"
    }
   ],
   "source": [
    "df.describe()"
   ]
  },
  {
   "cell_type": "markdown",
   "id": "7122ddab-a425-434c-aebb-b35d9a1b7c37",
   "metadata": {},
   "source": [
    "# Exercice 29\n",
    "who: customers of a health product store\n",
    "what: efficacy of herbal remedy for colds\n",
    "where: in a health product store\n",
    "when: not stated\n",
    "why: the measure the effectiveness of herbal medicine\n",
    "how: ask people to rate the efficacy of herbal medicine\n",
    "\n",
    "effectiveness: quantitative between 1 and 10\n",
    "took the herb: cat yes or not\n",
    "\n",
    "I am not confident. The population is taken from herbal store customer. They tend to have a laudative opinion on herbal medicine. Plus the survey is not respecting basic bias coping strategy.\n"
   ]
  },
  {
   "cell_type": "markdown",
   "id": "9d35757a-f90e-4417-8899-dbc8fdbebcac",
   "metadata": {},
   "source": [
    "# Exercice 31\n",
    "a. There were 38 cars\n",
    "b. It means the distribution is skewed to the right. The mean is pulled by the far end of the data.\n",
    "c. Median is 148.5. 50% of the cylinder are between 105 and 231.\n",
    "d. The IQR is 126. This engin is bigger than most engine but as extraordinary. It is less than the 25% biggest engine.\n",
    "e May be, the range is pretty big, the biggest engine might be an outlier.\n",
    "f. The distribution is not normal because of the spread between the median and the mean. But we never know without calculating precisely.\n",
    "g. Every statistic would be rescale by 16.5, spread and center."
   ]
  },
  {
   "cell_type": "markdown",
   "id": "f6018240-2758-420e-824a-c82b8c698717",
   "metadata": {},
   "source": [
    "# Exercice 33\n",
    "a. It seems to be the year 2014. The median is bigger so is the spread.\n",
    "\n",
    "b. The boxplot show the median of every year. 2014 seems to be the bigger median.\n",
    "\n",
    "c. It does not seems to indicate they are a trends that says there are more damage."
   ]
  },
  {
   "cell_type": "markdown",
   "id": "11e79030-1a2d-40a4-886c-aff962098ae6",
   "metadata": {},
   "source": [
    "# Exercice 35\n",
    "a. July is the month that shows historically the most number of fires. Both plots can be use for that, it is clear on both of them\n",
    "\n",
    "b. The transformed plot is easier to read the data. We can see more nuance. It appears that january is a good candidated. It is not easy to know for sure.\n",
    "\n",
    "c. The risk of wild fire are higher in the summer and dfall. They decrease in the winter and early spring."
   ]
  },
  {
   "cell_type": "code",
   "execution_count": 16,
   "id": "d361b8cd-b22a-4967-8282-57156c632c4b",
   "metadata": {},
   "outputs": [],
   "source": [
    "df = pd.read_csv('./ChRevI/Hopkins_Forest.txt', sep='\\t')"
   ]
  },
  {
   "cell_type": "code",
   "execution_count": 4,
   "id": "0b9c4ffe-cb6d-4f43-9d20-844ff3be1dc8",
   "metadata": {},
   "outputs": [
    {
     "data": {
      "text/plain": [
       "Index(['Date', 'Year', 'Month', 'Day', 'Day of Year', 'Avg Temp (C)',\n",
       "       'Max Temp (C)', 'Min Temp (C)', 'Avg Temp (F)', 'Max Temp (F)',\n",
       "       'Min Temp (F)', 'Avg Rel Hum (%)', 'Max Rel Hum (%)', 'Min Rel Hum (%)',\n",
       "       'Avg Sol Rad (w/m^2)', 'Max Sol Rad (w/m^2)', 'Min Sol Rad (w/m^2)',\n",
       "       'Total Sol Rad (w/m^2)', 'Avg Wind (mph)', 'Max Wind (mph)',\n",
       "       'Min Wind (mph)', 'Avg Barom (mb)', 'Max Barom (mb)', 'Min Barom (mb)',\n",
       "       'Precip (in)', 'Deep Well (ft)', 'Shallow Well (ft)', '80 cm Soil (C)',\n",
       "       '10 cm Soil (C)'],\n",
       "      dtype='object')"
      ]
     },
     "execution_count": 4,
     "metadata": {},
     "output_type": "execute_result"
    }
   ],
   "source": [
    "df.columns"
   ]
  },
  {
   "cell_type": "code",
   "execution_count": 17,
   "id": "add5783c-c8b9-4102-a8b3-cb552d8d90a1",
   "metadata": {},
   "outputs": [
    {
     "ename": "TypeError",
     "evalue": "boxplot() got multiple values for argument 'data'",
     "output_type": "error",
     "traceback": [
      "\u001b[1;31m---------------------------------------------------------------------------\u001b[0m",
      "\u001b[1;31mTypeError\u001b[0m                                 Traceback (most recent call last)",
      "\u001b[1;32m~\\AppData\\Local\\Temp/ipykernel_19228/3286761115.py\u001b[0m in \u001b[0;36m<module>\u001b[1;34m\u001b[0m\n\u001b[1;32m----> 1\u001b[1;33m \u001b[0mdf\u001b[0m\u001b[1;33m.\u001b[0m\u001b[0mboxplot\u001b[0m\u001b[1;33m(\u001b[0m\u001b[0mdata\u001b[0m\u001b[1;33m=\u001b[0m\u001b[0mdf\u001b[0m\u001b[1;33m,\u001b[0m \u001b[0mx\u001b[0m\u001b[1;33m=\u001b[0m\u001b[1;34m'Month'\u001b[0m\u001b[1;33m)\u001b[0m\u001b[1;33m\u001b[0m\u001b[1;33m\u001b[0m\u001b[0m\n\u001b[0m",
      "\u001b[1;32m~\\anaconda3\\lib\\site-packages\\pandas\\plotting\\_core.py\u001b[0m in \u001b[0;36mboxplot_frame\u001b[1;34m(self, column, by, ax, fontsize, rot, grid, figsize, layout, return_type, backend, **kwargs)\u001b[0m\n\u001b[0;32m    509\u001b[0m ):\n\u001b[0;32m    510\u001b[0m     \u001b[0mplot_backend\u001b[0m \u001b[1;33m=\u001b[0m \u001b[0m_get_plot_backend\u001b[0m\u001b[1;33m(\u001b[0m\u001b[0mbackend\u001b[0m\u001b[1;33m)\u001b[0m\u001b[1;33m\u001b[0m\u001b[1;33m\u001b[0m\u001b[0m\n\u001b[1;32m--> 511\u001b[1;33m     return plot_backend.boxplot_frame(\n\u001b[0m\u001b[0;32m    512\u001b[0m         \u001b[0mself\u001b[0m\u001b[1;33m,\u001b[0m\u001b[1;33m\u001b[0m\u001b[1;33m\u001b[0m\u001b[0m\n\u001b[0;32m    513\u001b[0m         \u001b[0mcolumn\u001b[0m\u001b[1;33m=\u001b[0m\u001b[0mcolumn\u001b[0m\u001b[1;33m,\u001b[0m\u001b[1;33m\u001b[0m\u001b[1;33m\u001b[0m\u001b[0m\n",
      "\u001b[1;32m~\\anaconda3\\lib\\site-packages\\pandas\\plotting\\_matplotlib\\boxplot.py\u001b[0m in \u001b[0;36mboxplot_frame\u001b[1;34m(self, column, by, ax, fontsize, rot, grid, figsize, layout, return_type, **kwds)\u001b[0m\n\u001b[0;32m    392\u001b[0m     \u001b[1;32mimport\u001b[0m \u001b[0mmatplotlib\u001b[0m\u001b[1;33m.\u001b[0m\u001b[0mpyplot\u001b[0m \u001b[1;32mas\u001b[0m \u001b[0mplt\u001b[0m\u001b[1;33m\u001b[0m\u001b[1;33m\u001b[0m\u001b[0m\n\u001b[0;32m    393\u001b[0m \u001b[1;33m\u001b[0m\u001b[0m\n\u001b[1;32m--> 394\u001b[1;33m     ax = boxplot(\n\u001b[0m\u001b[0;32m    395\u001b[0m         \u001b[0mself\u001b[0m\u001b[1;33m,\u001b[0m\u001b[1;33m\u001b[0m\u001b[1;33m\u001b[0m\u001b[0m\n\u001b[0;32m    396\u001b[0m         \u001b[0mcolumn\u001b[0m\u001b[1;33m=\u001b[0m\u001b[0mcolumn\u001b[0m\u001b[1;33m,\u001b[0m\u001b[1;33m\u001b[0m\u001b[1;33m\u001b[0m\u001b[0m\n",
      "\u001b[1;31mTypeError\u001b[0m: boxplot() got multiple values for argument 'data'"
     ]
    }
   ],
   "source": [
    "df.boxplot(data=df, x='Month')"
   ]
  },
  {
   "cell_type": "code",
   "execution_count": 6,
   "id": "47ec314c-1263-48b6-a509-ca015b0caae1",
   "metadata": {},
   "outputs": [
    {
     "data": {
      "text/html": [
       "<div>\n",
       "<style scoped>\n",
       "    .dataframe tbody tr th:only-of-type {\n",
       "        vertical-align: middle;\n",
       "    }\n",
       "\n",
       "    .dataframe tbody tr th {\n",
       "        vertical-align: top;\n",
       "    }\n",
       "\n",
       "    .dataframe thead th {\n",
       "        text-align: right;\n",
       "    }\n",
       "</style>\n",
       "<table border=\"1\" class=\"dataframe\">\n",
       "  <thead>\n",
       "    <tr style=\"text-align: right;\">\n",
       "      <th></th>\n",
       "      <th>Date</th>\n",
       "      <th>Year</th>\n",
       "      <th>Month</th>\n",
       "      <th>Day</th>\n",
       "      <th>Day of Year</th>\n",
       "      <th>Avg Temp (C)</th>\n",
       "      <th>Max Temp (C)</th>\n",
       "      <th>Min Temp (C)</th>\n",
       "      <th>Avg Temp (F)</th>\n",
       "      <th>Max Temp (F)</th>\n",
       "      <th>...</th>\n",
       "      <th>Max Wind (mph)</th>\n",
       "      <th>Min Wind (mph)</th>\n",
       "      <th>Avg Barom (mb)</th>\n",
       "      <th>Max Barom (mb)</th>\n",
       "      <th>Min Barom (mb)</th>\n",
       "      <th>Precip (in)</th>\n",
       "      <th>Deep Well (ft)</th>\n",
       "      <th>Shallow Well (ft)</th>\n",
       "      <th>80 cm Soil (C)</th>\n",
       "      <th>10 cm Soil (C)</th>\n",
       "    </tr>\n",
       "  </thead>\n",
       "  <tbody>\n",
       "    <tr>\n",
       "      <th>0</th>\n",
       "      <td>01/01/2011 12:00 AM</td>\n",
       "      <td>2011</td>\n",
       "      <td>1</td>\n",
       "      <td>1</td>\n",
       "      <td>1</td>\n",
       "      <td>5.21</td>\n",
       "      <td>10.57</td>\n",
       "      <td>1.59</td>\n",
       "      <td>41.38</td>\n",
       "      <td>51.03</td>\n",
       "      <td>...</td>\n",
       "      <td>8.55</td>\n",
       "      <td>0</td>\n",
       "      <td>1011.47</td>\n",
       "      <td>1014</td>\n",
       "      <td>1008</td>\n",
       "      <td>0.00</td>\n",
       "      <td>5.23</td>\n",
       "      <td>1.60</td>\n",
       "      <td>5.17</td>\n",
       "      <td>2.74</td>\n",
       "    </tr>\n",
       "    <tr>\n",
       "      <th>1</th>\n",
       "      <td>01/02/2011 12:00 AM</td>\n",
       "      <td>2011</td>\n",
       "      <td>1</td>\n",
       "      <td>2</td>\n",
       "      <td>2</td>\n",
       "      <td>2.53</td>\n",
       "      <td>6.22</td>\n",
       "      <td>-2.96</td>\n",
       "      <td>36.55</td>\n",
       "      <td>43.20</td>\n",
       "      <td>...</td>\n",
       "      <td>27.40</td>\n",
       "      <td>0</td>\n",
       "      <td>1008.17</td>\n",
       "      <td>1010</td>\n",
       "      <td>1007</td>\n",
       "      <td>0.07</td>\n",
       "      <td>5.20</td>\n",
       "      <td>1.18</td>\n",
       "      <td>5.20</td>\n",
       "      <td>2.67</td>\n",
       "    </tr>\n",
       "    <tr>\n",
       "      <th>2</th>\n",
       "      <td>01/03/2011 12:00 AM</td>\n",
       "      <td>2011</td>\n",
       "      <td>1</td>\n",
       "      <td>3</td>\n",
       "      <td>3</td>\n",
       "      <td>-4.17</td>\n",
       "      <td>-1.63</td>\n",
       "      <td>-5.59</td>\n",
       "      <td>24.50</td>\n",
       "      <td>29.07</td>\n",
       "      <td>...</td>\n",
       "      <td>26.74</td>\n",
       "      <td>0</td>\n",
       "      <td>1011.17</td>\n",
       "      <td>1013</td>\n",
       "      <td>1008</td>\n",
       "      <td>0.00</td>\n",
       "      <td>4.89</td>\n",
       "      <td>1.36</td>\n",
       "      <td>5.14</td>\n",
       "      <td>2.64</td>\n",
       "    </tr>\n",
       "    <tr>\n",
       "      <th>3</th>\n",
       "      <td>01/04/2011 12:00 AM</td>\n",
       "      <td>2011</td>\n",
       "      <td>1</td>\n",
       "      <td>4</td>\n",
       "      <td>4</td>\n",
       "      <td>-3.97</td>\n",
       "      <td>1.79</td>\n",
       "      <td>-8.63</td>\n",
       "      <td>24.85</td>\n",
       "      <td>35.22</td>\n",
       "      <td>...</td>\n",
       "      <td>11.84</td>\n",
       "      <td>0</td>\n",
       "      <td>1005.70</td>\n",
       "      <td>1012</td>\n",
       "      <td>1001</td>\n",
       "      <td>0.00</td>\n",
       "      <td>4.66</td>\n",
       "      <td>1.47</td>\n",
       "      <td>5.07</td>\n",
       "      <td>2.15</td>\n",
       "    </tr>\n",
       "    <tr>\n",
       "      <th>4</th>\n",
       "      <td>01/05/2011 12:00 AM</td>\n",
       "      <td>2011</td>\n",
       "      <td>1</td>\n",
       "      <td>5</td>\n",
       "      <td>5</td>\n",
       "      <td>-3.13</td>\n",
       "      <td>0.47</td>\n",
       "      <td>-6.92</td>\n",
       "      <td>26.37</td>\n",
       "      <td>32.85</td>\n",
       "      <td>...</td>\n",
       "      <td>26.08</td>\n",
       "      <td>0</td>\n",
       "      <td>1001.78</td>\n",
       "      <td>1003</td>\n",
       "      <td>1001</td>\n",
       "      <td>0.00</td>\n",
       "      <td>4.59</td>\n",
       "      <td>1.54</td>\n",
       "      <td>4.97</td>\n",
       "      <td>1.91</td>\n",
       "    </tr>\n",
       "    <tr>\n",
       "      <th>...</th>\n",
       "      <td>...</td>\n",
       "      <td>...</td>\n",
       "      <td>...</td>\n",
       "      <td>...</td>\n",
       "      <td>...</td>\n",
       "      <td>...</td>\n",
       "      <td>...</td>\n",
       "      <td>...</td>\n",
       "      <td>...</td>\n",
       "      <td>...</td>\n",
       "      <td>...</td>\n",
       "      <td>...</td>\n",
       "      <td>...</td>\n",
       "      <td>...</td>\n",
       "      <td>...</td>\n",
       "      <td>...</td>\n",
       "      <td>...</td>\n",
       "      <td>...</td>\n",
       "      <td>...</td>\n",
       "      <td>...</td>\n",
       "      <td>...</td>\n",
       "    </tr>\n",
       "    <tr>\n",
       "      <th>360</th>\n",
       "      <td>12/27/2011 12:00 AM</td>\n",
       "      <td>2011</td>\n",
       "      <td>12</td>\n",
       "      <td>27</td>\n",
       "      <td>361</td>\n",
       "      <td>1.14</td>\n",
       "      <td>7.80</td>\n",
       "      <td>-4.82</td>\n",
       "      <td>34.05</td>\n",
       "      <td>46.04</td>\n",
       "      <td>...</td>\n",
       "      <td>22.58</td>\n",
       "      <td>0</td>\n",
       "      <td>1003.20</td>\n",
       "      <td>1015</td>\n",
       "      <td>985</td>\n",
       "      <td>0.80</td>\n",
       "      <td>3.70</td>\n",
       "      <td>1.47</td>\n",
       "      <td>5.74</td>\n",
       "      <td>2.46</td>\n",
       "    </tr>\n",
       "    <tr>\n",
       "      <th>361</th>\n",
       "      <td>12/28/2011 12:00 AM</td>\n",
       "      <td>2011</td>\n",
       "      <td>12</td>\n",
       "      <td>28</td>\n",
       "      <td>362</td>\n",
       "      <td>-0.22</td>\n",
       "      <td>9.69</td>\n",
       "      <td>-7.17</td>\n",
       "      <td>31.60</td>\n",
       "      <td>49.44</td>\n",
       "      <td>...</td>\n",
       "      <td>39.46</td>\n",
       "      <td>0</td>\n",
       "      <td>992.26</td>\n",
       "      <td>1001</td>\n",
       "      <td>986</td>\n",
       "      <td>0.04</td>\n",
       "      <td>3.59</td>\n",
       "      <td>0.95</td>\n",
       "      <td>5.54</td>\n",
       "      <td>3.33</td>\n",
       "    </tr>\n",
       "    <tr>\n",
       "      <th>362</th>\n",
       "      <td>12/29/2011 12:00 AM</td>\n",
       "      <td>2011</td>\n",
       "      <td>12</td>\n",
       "      <td>29</td>\n",
       "      <td>363</td>\n",
       "      <td>-8.37</td>\n",
       "      <td>-4.04</td>\n",
       "      <td>-11.10</td>\n",
       "      <td>16.94</td>\n",
       "      <td>24.73</td>\n",
       "      <td>...</td>\n",
       "      <td>20.17</td>\n",
       "      <td>0</td>\n",
       "      <td>1006.50</td>\n",
       "      <td>1009</td>\n",
       "      <td>1001</td>\n",
       "      <td>0.00</td>\n",
       "      <td>3.57</td>\n",
       "      <td>1.48</td>\n",
       "      <td>5.49</td>\n",
       "      <td>2.30</td>\n",
       "    </tr>\n",
       "    <tr>\n",
       "      <th>363</th>\n",
       "      <td>12/30/2011 12:00 AM</td>\n",
       "      <td>2011</td>\n",
       "      <td>12</td>\n",
       "      <td>30</td>\n",
       "      <td>364</td>\n",
       "      <td>-0.96</td>\n",
       "      <td>3.12</td>\n",
       "      <td>-7.90</td>\n",
       "      <td>30.26</td>\n",
       "      <td>37.62</td>\n",
       "      <td>...</td>\n",
       "      <td>10.08</td>\n",
       "      <td>0</td>\n",
       "      <td>1009.44</td>\n",
       "      <td>1010</td>\n",
       "      <td>1008</td>\n",
       "      <td>0.00</td>\n",
       "      <td>3.68</td>\n",
       "      <td>1.64</td>\n",
       "      <td>5.42</td>\n",
       "      <td>1.83</td>\n",
       "    </tr>\n",
       "    <tr>\n",
       "      <th>364</th>\n",
       "      <td>12/31/2011 12:00 AM</td>\n",
       "      <td>2011</td>\n",
       "      <td>12</td>\n",
       "      <td>31</td>\n",
       "      <td>365</td>\n",
       "      <td>4.01</td>\n",
       "      <td>7.31</td>\n",
       "      <td>2.18</td>\n",
       "      <td>39.21</td>\n",
       "      <td>45.16</td>\n",
       "      <td>...</td>\n",
       "      <td>13.81</td>\n",
       "      <td>0</td>\n",
       "      <td>1006.44</td>\n",
       "      <td>1009</td>\n",
       "      <td>1004</td>\n",
       "      <td>0.02</td>\n",
       "      <td>3.78</td>\n",
       "      <td>1.53</td>\n",
       "      <td>5.29</td>\n",
       "      <td>2.26</td>\n",
       "    </tr>\n",
       "  </tbody>\n",
       "</table>\n",
       "<p>365 rows × 29 columns</p>\n",
       "</div>"
      ],
      "text/plain": [
       "                    Date  Year  Month  Day  Day of Year  Avg Temp (C)  \\\n",
       "0    01/01/2011 12:00 AM  2011      1    1            1          5.21   \n",
       "1    01/02/2011 12:00 AM  2011      1    2            2          2.53   \n",
       "2    01/03/2011 12:00 AM  2011      1    3            3         -4.17   \n",
       "3    01/04/2011 12:00 AM  2011      1    4            4         -3.97   \n",
       "4    01/05/2011 12:00 AM  2011      1    5            5         -3.13   \n",
       "..                   ...   ...    ...  ...          ...           ...   \n",
       "360  12/27/2011 12:00 AM  2011     12   27          361          1.14   \n",
       "361  12/28/2011 12:00 AM  2011     12   28          362         -0.22   \n",
       "362  12/29/2011 12:00 AM  2011     12   29          363         -8.37   \n",
       "363  12/30/2011 12:00 AM  2011     12   30          364         -0.96   \n",
       "364  12/31/2011 12:00 AM  2011     12   31          365          4.01   \n",
       "\n",
       "     Max Temp (C)  Min Temp (C)  Avg Temp (F)  Max Temp (F)  ...  \\\n",
       "0           10.57          1.59         41.38         51.03  ...   \n",
       "1            6.22         -2.96         36.55         43.20  ...   \n",
       "2           -1.63         -5.59         24.50         29.07  ...   \n",
       "3            1.79         -8.63         24.85         35.22  ...   \n",
       "4            0.47         -6.92         26.37         32.85  ...   \n",
       "..            ...           ...           ...           ...  ...   \n",
       "360          7.80         -4.82         34.05         46.04  ...   \n",
       "361          9.69         -7.17         31.60         49.44  ...   \n",
       "362         -4.04        -11.10         16.94         24.73  ...   \n",
       "363          3.12         -7.90         30.26         37.62  ...   \n",
       "364          7.31          2.18         39.21         45.16  ...   \n",
       "\n",
       "     Max Wind (mph)  Min Wind (mph)  Avg Barom (mb)  Max Barom (mb)  \\\n",
       "0              8.55               0         1011.47            1014   \n",
       "1             27.40               0         1008.17            1010   \n",
       "2             26.74               0         1011.17            1013   \n",
       "3             11.84               0         1005.70            1012   \n",
       "4             26.08               0         1001.78            1003   \n",
       "..              ...             ...             ...             ...   \n",
       "360           22.58               0         1003.20            1015   \n",
       "361           39.46               0          992.26            1001   \n",
       "362           20.17               0         1006.50            1009   \n",
       "363           10.08               0         1009.44            1010   \n",
       "364           13.81               0         1006.44            1009   \n",
       "\n",
       "     Min Barom (mb)  Precip (in)  Deep Well (ft)  Shallow Well (ft)  \\\n",
       "0              1008         0.00            5.23               1.60   \n",
       "1              1007         0.07            5.20               1.18   \n",
       "2              1008         0.00            4.89               1.36   \n",
       "3              1001         0.00            4.66               1.47   \n",
       "4              1001         0.00            4.59               1.54   \n",
       "..              ...          ...             ...                ...   \n",
       "360             985         0.80            3.70               1.47   \n",
       "361             986         0.04            3.59               0.95   \n",
       "362            1001         0.00            3.57               1.48   \n",
       "363            1008         0.00            3.68               1.64   \n",
       "364            1004         0.02            3.78               1.53   \n",
       "\n",
       "     80 cm Soil (C)  10 cm Soil (C)  \n",
       "0              5.17            2.74  \n",
       "1              5.20            2.67  \n",
       "2              5.14            2.64  \n",
       "3              5.07            2.15  \n",
       "4              4.97            1.91  \n",
       "..              ...             ...  \n",
       "360            5.74            2.46  \n",
       "361            5.54            3.33  \n",
       "362            5.49            2.30  \n",
       "363            5.42            1.83  \n",
       "364            5.29            2.26  \n",
       "\n",
       "[365 rows x 29 columns]"
      ]
     },
     "execution_count": 6,
     "metadata": {},
     "output_type": "execute_result"
    }
   ],
   "source": []
  },
  {
   "cell_type": "code",
   "execution_count": null,
   "id": "795e482e-02f0-435b-870a-dfc7522a9daa",
   "metadata": {},
   "outputs": [],
   "source": []
  }
 ],
 "metadata": {
  "kernelspec": {
   "display_name": "Python 3 (ipykernel)",
   "language": "python",
   "name": "python3"
  },
  "language_info": {
   "codemirror_mode": {
    "name": "ipython",
    "version": 3
   },
   "file_extension": ".py",
   "mimetype": "text/x-python",
   "name": "python",
   "nbconvert_exporter": "python",
   "pygments_lexer": "ipython3",
   "version": "3.9.7"
  }
 },
 "nbformat": 4,
 "nbformat_minor": 5
}
