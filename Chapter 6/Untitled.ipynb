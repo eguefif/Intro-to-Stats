{
 "cells": [
  {
   "cell_type": "markdown",
   "id": "5625b1fa-e4f5-49d7-afe7-da2e9dcf8f61",
   "metadata": {},
   "source": [
    "# 6.2 Correlations\n",
    "Just checking\n",
    "\n",
    "1. I would like to see a graph to check the three conditions\n",
    "2. The correlations won't change since every value is standardize\n",
    "3. Nothin, it will be standardized anyway\n",
    "4. Depending on the graph and the link, it seems that the two scores are corelated in both direction."
   ]
  },
  {
   "cell_type": "markdown",
   "id": "a57e203c-07f0-455f-b864-fcc1326410ca",
   "metadata": {},
   "source": [
    "# exercice 1\n",
    "a. either variable could be use for both predictor and explanatory. It is just a conversion. The scatter plot will be strong, tight. The direction will change depending on what we decided for predictor. If we choose grams to ounces, the scatter plot will be positive.\n",
    "\n",
    "b. I would use the circumference as apredictor to explain weight. The DNA of the apple is about the structure. It is bigger because the blueprint says it is bigger. As a consequence, the apple weight more. The scatterplot will be strong and positive since the bigger the apple is, the heavier the apple will be.THere are more matter in a bigger apple because they have the same structure. The scatterplot will be straight.\n",
    "\n",
    "c. I would not try to find a correlation. There is no relationship between these variables.\n",
    "\n",
    "d. I would use the number of miles drove since filling up to explain the gallons remaining in the tank. The engine use to put thecar in motion consume gas. The longer we use it, as it is when we drive, the more gas it will use. I expect a strong negative straight scatterplot. It might be stlightly downward bend as the car tend to be lighter as it is consumming gas."
   ]
  },
  {
   "cell_type": "code",
   "execution_count": 1,
   "id": "042fb344-2635-4c98-81cb-071482de013a",
   "metadata": {},
   "outputs": [],
   "source": [
    "import pandas as pd\n",
    "import numpy as np\n",
    "import matplotlib.pyplot as plt"
   ]
  },
  {
   "cell_type": "code",
   "execution_count": 4,
   "id": "d241a0d6-0b79-401a-a0f8-7a8fbcc984c0",
   "metadata": {},
   "outputs": [
    {
     "data": {
      "text/plain": [
       "Index(['Number of Sales People Working', 'Sales (in $1000)'], dtype='object')"
      ]
     },
     "execution_count": 4,
     "metadata": {},
     "output_type": "execute_result"
    }
   ],
   "source": [
    "# Exercice 3\n",
    "df = pd.read_csv('./Ch6/Bookstore_sales.txt', sep='\\t')\n",
    "df.columns"
   ]
  },
  {
   "cell_type": "code",
   "execution_count": 6,
   "id": "d6b039c8-8300-4f45-9b30-0d48a45f71b5",
   "metadata": {},
   "outputs": [
    {
     "data": {
      "text/plain": [
       "<matplotlib.collections.PathCollection at 0x1ec03546a00>"
      ]
     },
     "execution_count": 6,
     "metadata": {},
     "output_type": "execute_result"
    },
    {
     "data": {
      "image/png": "[encoded data removed]",
      "text/plain": [
       "<Figure size 432x288 with 1 Axes>"
      ]
     },
     "metadata": {
      "needs_background": "light"
     },
     "output_type": "display_data"
    }
   ],
   "source": [
    "plt.scatter(df.iloc[:, 0], df.iloc[:,1])"
   ]
  },
  {
   "cell_type": "markdown",
   "id": "a4cbaf97-9e26-4b86-bfb6-74b61926ba85",
   "metadata": {},
   "source": [
    "b. The scatterplot is rouglhy straight, positive and strong.\n",
    "c. There is an association, pretty strong.\n",
    "d. no outliers"
   ]
  },
  {
   "cell_type": "markdown",
   "id": "af32aa25-10c1-4c90-84e2-d550ce6733fb",
   "metadata": {},
   "source": [
    "# Exercice 5\n",
    "a. Yes\n",
    "b. no because correlation are calculated using z-score. The latters are immune from rescaling and shifting.\n",
    "c. no there are no units in correlation."
   ]
  },
  {
   "cell_type": "markdown",
   "id": "495242ee-e076-487b-930d-a291c21a335d",
   "metadata": {},
   "source": [
    "# Exercice 7\n",
    "Eventhough there is an association between sales and staff working, we have to look for a lurking variable. One of the reason why there are mo people working might be because there are rush time. If there are more customers, the bookstore sell more books. But it also need more staff to serve the customers. Then, the associarion would be explain because of the amount of customers in the booktstore."
   ]
  },
  {
   "cell_type": "code",
   "execution_count": 12,
   "id": "af7477b2-69e6-4375-b2cb-4a61b752ab0b",
   "metadata": {},
   "outputs": [
    {
     "name": "stdout",
     "output_type": "stream",
     "text": [
      "[4.301029995663981, 5.0, 6.0]\n"
     ]
    },
    {
     "data": {
      "image/png": "[encoded data removed]",
      "text/plain": [
       "<Figure size 432x288 with 1 Axes>"
      ]
     },
     "metadata": {
      "needs_background": "light"
     },
     "output_type": "display_data"
    }
   ],
   "source": [
    "# exercice 9\n",
    "x = [1, 15, 30]\n",
    "y = [np.log10(20000), np.log10(100000), np.log10(1000000)]\n",
    "plt.scatter(x, y)\n",
    "print(y)"
   ]
  },
  {
   "cell_type": "markdown",
   "id": "b4cf7220-ee7d-483c-9ff5-bd1896d69100",
   "metadata": {},
   "source": [
    "I would double the salary of the clerck since he works part time. I would also have to rexpresse wage with a log10 funcion. I could then try to explain wage using the years spent in the company. The plot will be straight thanks to the rexpression. "
   ]
  },
  {
   "cell_type": "markdown",
   "id": "44470f73-7f52-4339-b5e2-91731cea4797",
   "metadata": {},
   "source": [
    "# Exercice 13\n",
    "a. 4\n",
    "b. 3\n",
    "c.  3 2\n",
    "d. 2\n",
    "e.  3 1"
   ]
  },
  {
   "cell_type": "code",
   "execution_count": 19,
   "id": "c6f98be8-a8e7-4dfe-ae03-9a030507289c",
   "metadata": {},
   "outputs": [],
   "source": [
    "n = [0, 0 , 0, 0, 1, 1, 1, 1, 1, 1, 1, 2, 2, 2, 2, 2, 3, 3, 3,\n",
    "     4, 4, 4, 5, 6]"
   ]
  },
  {
   "cell_type": "code",
   "execution_count": 21,
   "id": "a99690b8-f700-4c91-9a7d-0c82fe681584",
   "metadata": {},
   "outputs": [
    {
     "data": {
      "text/plain": [
       "(array([4., 7., 0., 5., 0., 3., 3., 0., 1., 1.]),\n",
       " array([0. , 0.6, 1.2, 1.8, 2.4, 3. , 3.6, 4.2, 4.8, 5.4, 6. ]),\n",
       " <BarContainer object of 10 artists>)"
      ]
     },
     "execution_count": 21,
     "metadata": {},
     "output_type": "execute_result"
    },
    {
     "data": {
      "image/png": "[encoded data removed]",
      "text/plain": [
       "<Figure size 432x288 with 1 Axes>"
      ]
     },
     "metadata": {
      "needs_background": "light"
     },
     "output_type": "display_data"
    }
   ],
   "source": [
    "# Exercice 17\n",
    "plt.hist(n)"
   ]
  },
  {
   "cell_type": "markdown",
   "id": "db4e52ca-9706-45b0-a0ec-9e67586cf4d2",
   "metadata": {},
   "source": [
    "b. most of the batches have a broken piece.\n",
    "c. There is an association between the batch and broken piece. The latter the batch is made, the more broken pieces there are."
   ]
  },
  {
   "cell_type": "code",
   "execution_count": 29,
   "id": "cf2f5af5-b44f-491a-89fb-dc29f43956a7",
   "metadata": {},
   "outputs": [
    {
     "data": {
      "text/plain": [
       "<matplotlib.collections.PathCollection at 0x1ec04a5ba00>"
      ]
     },
     "execution_count": 29,
     "metadata": {},
     "output_type": "execute_result"
    },
    {
     "data": {
      "image/png": "[encoded data removed]",
      "text/plain": [
       "<Figure size 432x288 with 1 Axes>"
      ]
     },
     "metadata": {
      "needs_background": "light"
     },
     "output_type": "display_data"
    }
   ],
   "source": [
    "# Exercice 25\n",
    "df = pd.read_csv('./Ch6/Streams.txt', sep='\\t')\n",
    "plt.scatter(x=df.iloc[:, 5], y=df.iloc[:,2])"
   ]
  },
  {
   "cell_type": "markdown",
   "id": "fe2cad59-206c-43a1-9828-84c2d4a0d9ac",
   "metadata": {},
   "source": [
    "No, because the scatter is not straight enoug."
   ]
  },
  {
   "cell_type": "markdown",
   "id": "76c97c2a-b98f-405b-9641-a42bfc67eee9",
   "metadata": {},
   "source": [
    "# Exercice 37\n",
    "First the correlation is low meaning there is no associarion. IT rededuces the odds of baldness being a cause for heart disease.\n",
    "Also, it is super hard to make a connection between the heart and heart.\n",
    "\n"
   ]
  },
  {
   "cell_type": "code",
   "execution_count": 32,
   "id": "d00979d6-90f3-4627-bd0d-335d432d89ba",
   "metadata": {},
   "outputs": [
    {
     "data": {
      "text/plain": [
       "Index(['State', 'Median income', 'Housing Cost'], dtype='object')"
      ]
     },
     "execution_count": 32,
     "metadata": {},
     "output_type": "execute_result"
    }
   ],
   "source": [
    "df = pd.read_csv('./Ch6/Income_and_housing.txt', sep='\\t')\n",
    "df.columns"
   ]
  },
  {
   "cell_type": "code",
   "execution_count": 36,
   "id": "183a46dc-23cc-45d9-a491-f597896ef24e",
   "metadata": {},
   "outputs": [
    {
     "data": {
      "text/plain": [
       "<matplotlib.collections.PathCollection at 0x1ec04c0b3a0>"
      ]
     },
     "execution_count": 36,
     "metadata": {},
     "output_type": "execute_result"
    },
    {
     "data": {
      "image/png": "[encoded data removed]",
      "text/plain": [
       "<Figure size 432x288 with 1 Axes>"
      ]
     },
     "metadata": {
      "needs_background": "light"
     },
     "output_type": "display_data"
    }
   ],
   "source": [
    "plt.scatter(df.iloc[:,1], df.iloc[:,2])\n"
   ]
  },
  {
   "cell_type": "markdown",
   "id": "c9ca79bb-7da6-475b-b1f2-33a5e926def9",
   "metadata": {},
   "source": [
    "a. There is a moderatly strong association between median family income and the housing cost index.\n",
    "\n",
    "b. It would not change a thing sine correlation are calculated from standardized data.\n",
    "\n",
    "c. Nothing would have changed. Standardized value are not influenced by rescaling.\n",
    "\n",
    "d. It would reduce the correlation a bit since this datum is farther from the main data.\n",
    "\n",
    "e. Correlation does not mean causation. We so"
   ]
  },
  {
   "cell_type": "code",
   "execution_count": 42,
   "id": "e2e1b801-da4e-475a-a70d-723d4c8308be",
   "metadata": {},
   "outputs": [
    {
     "data": {
      "text/plain": [
       "Index(['Model.Year', 'Mfr', 'Division', 'Car.line', 'Class', 'CityMPG',\n",
       "       'HighwayMPG', 'CombinedMPG', 'Displacement', 'Cylinders',\n",
       "       'Transmission', 'Gears', 'CityCO2', 'HwyCO2', 'CombCO2'],\n",
       "      dtype='object')"
      ]
     },
     "execution_count": 42,
     "metadata": {},
     "output_type": "execute_result"
    }
   ],
   "source": [
    "df = pd.read_csv('./Ch6/Fuel_economy_2019.txt', sep='\\t')\n",
    "sample = df.sample(n=50)\n",
    "df.columns"
   ]
  },
  {
   "cell_type": "code",
   "execution_count": 44,
   "id": "04303267-28e2-48ee-b29e-d45bf6b6c3fd",
   "metadata": {},
   "outputs": [
    {
     "data": {
      "text/plain": [
       "<matplotlib.collections.PathCollection at 0x1ec052bf940>"
      ]
     },
     "execution_count": 44,
     "metadata": {},
     "output_type": "execute_result"
    },
    {
     "data": {
      "image/png": "[encoded data removed]",
      "text/plain": [
       "<Figure size 432x288 with 1 Axes>"
      ]
     },
     "metadata": {
      "needs_background": "light"
     },
     "output_type": "display_data"
    }
   ],
   "source": [
    "plt.scatter(sample.CombinedMPG, sample.Displacement)"
   ]
  },
  {
   "cell_type": "markdown",
   "id": "19db4cbc-8134-4258-8711-a35278dab71c",
   "metadata": {},
   "source": [
    "The scatterplot is negative and strong. It is slightly bend downward."
   ]
  },
  {
   "cell_type": "code",
   "execution_count": null,
   "id": "3d3dc09d-8c96-448f-9f36-a7bf672b5db5",
   "metadata": {},
   "outputs": [],
   "source": [
    "sample['reexpressed'] = 1 / sample.CombinedMPG"
   ]
  },
  {
   "cell_type": "code",
   "execution_count": 47,
   "id": "d8aa6c8b-1930-4a48-9096-32eac6b97cd2",
   "metadata": {},
   "outputs": [
    {
     "data": {
      "text/plain": [
       "<matplotlib.collections.PathCollection at 0x1ec04d0c4c0>"
      ]
     },
     "execution_count": 47,
     "metadata": {},
     "output_type": "execute_result"
    },
    {
     "data": {
      "image/png": "[encoded data removed]",
      "text/plain": [
       "<Figure size 432x288 with 1 Axes>"
      ]
     },
     "metadata": {
      "needs_background": "light"
     },
     "output_type": "display_data"
    }
   ],
   "source": [
    "plt.scatter(-sample.reexpressed, sample.Displacement)"
   ]
  },
  {
   "cell_type": "code",
   "execution_count": 52,
   "id": "5807b8fe-cb82-4379-94a9-616bccfcb99e",
   "metadata": {},
   "outputs": [],
   "source": [
    "y_cmpg = sample.CombinedMPG.mean()\n",
    "sd_cmpg = sample.CombinedMPG.std()\n",
    "\n",
    "y_displacement = sample.Displacement.mean()\n",
    "sd_displacement = sample.Displacement.std()\n",
    "\n",
    "z_cmpg = (sample.CombinedMPG - y_cmpg) / sd_cmpg\n",
    "z_displacement = (sample.Displacement - y_displacement) / sd_displacement\n",
    "corr = sum(z_cmpg*z_displacement) / 51"
   ]
  },
  {
   "cell_type": "code",
   "execution_count": 53,
   "id": "dcd44538-8690-4cc9-9f75-31051b36dad7",
   "metadata": {},
   "outputs": [
    {
     "data": {
      "text/plain": [
       "-0.7044241680837757"
      ]
     },
     "execution_count": 53,
     "metadata": {},
     "output_type": "execute_result"
    }
   ],
   "source": [
    "corr"
   ]
  },
  {
   "cell_type": "code",
   "execution_count": 55,
   "id": "f7bba864-2338-40ae-8a9e-b04fc5837d22",
   "metadata": {},
   "outputs": [
    {
     "data": {
      "text/html": [
       "<div>\n",
       "<style scoped>\n",
       "    .dataframe tbody tr th:only-of-type {\n",
       "        vertical-align: middle;\n",
       "    }\n",
       "\n",
       "    .dataframe tbody tr th {\n",
       "        vertical-align: top;\n",
       "    }\n",
       "\n",
       "    .dataframe thead th {\n",
       "        text-align: right;\n",
       "    }\n",
       "</style>\n",
       "<table border=\"1\" class=\"dataframe\">\n",
       "  <thead>\n",
       "    <tr style=\"text-align: right;\">\n",
       "      <th></th>\n",
       "      <th>Model.Year</th>\n",
       "      <th>CityMPG</th>\n",
       "      <th>HighwayMPG</th>\n",
       "      <th>CombinedMPG</th>\n",
       "      <th>Displacement</th>\n",
       "      <th>Cylinders</th>\n",
       "      <th>Gears</th>\n",
       "      <th>CityCO2</th>\n",
       "      <th>HwyCO2</th>\n",
       "      <th>CombCO2</th>\n",
       "      <th>reexpressed</th>\n",
       "    </tr>\n",
       "  </thead>\n",
       "  <tbody>\n",
       "    <tr>\n",
       "      <th>Model.Year</th>\n",
       "      <td>NaN</td>\n",
       "      <td>NaN</td>\n",
       "      <td>NaN</td>\n",
       "      <td>NaN</td>\n",
       "      <td>NaN</td>\n",
       "      <td>NaN</td>\n",
       "      <td>NaN</td>\n",
       "      <td>NaN</td>\n",
       "      <td>NaN</td>\n",
       "      <td>NaN</td>\n",
       "      <td>NaN</td>\n",
       "    </tr>\n",
       "    <tr>\n",
       "      <th>CityMPG</th>\n",
       "      <td>NaN</td>\n",
       "      <td>1.000000</td>\n",
       "      <td>0.919290</td>\n",
       "      <td>0.984741</td>\n",
       "      <td>-0.726366</td>\n",
       "      <td>-0.692065</td>\n",
       "      <td>-0.537919</td>\n",
       "      <td>-0.944088</td>\n",
       "      <td>-0.854231</td>\n",
       "      <td>-0.928131</td>\n",
       "      <td>-0.921306</td>\n",
       "    </tr>\n",
       "    <tr>\n",
       "      <th>HighwayMPG</th>\n",
       "      <td>NaN</td>\n",
       "      <td>0.919290</td>\n",
       "      <td>1.000000</td>\n",
       "      <td>0.969908</td>\n",
       "      <td>-0.700525</td>\n",
       "      <td>-0.653342</td>\n",
       "      <td>-0.480464</td>\n",
       "      <td>-0.934925</td>\n",
       "      <td>-0.966692</td>\n",
       "      <td>-0.961868</td>\n",
       "      <td>-0.959141</td>\n",
       "    </tr>\n",
       "    <tr>\n",
       "      <th>CombinedMPG</th>\n",
       "      <td>NaN</td>\n",
       "      <td>0.984741</td>\n",
       "      <td>0.969908</td>\n",
       "      <td>1.000000</td>\n",
       "      <td>-0.733176</td>\n",
       "      <td>-0.693321</td>\n",
       "      <td>-0.524650</td>\n",
       "      <td>-0.960808</td>\n",
       "      <td>-0.919368</td>\n",
       "      <td>-0.962606</td>\n",
       "      <td>-0.959332</td>\n",
       "    </tr>\n",
       "    <tr>\n",
       "      <th>Displacement</th>\n",
       "      <td>NaN</td>\n",
       "      <td>-0.726366</td>\n",
       "      <td>-0.700525</td>\n",
       "      <td>-0.733176</td>\n",
       "      <td>1.000000</td>\n",
       "      <td>0.930595</td>\n",
       "      <td>0.355666</td>\n",
       "      <td>0.832122</td>\n",
       "      <td>0.703015</td>\n",
       "      <td>0.799132</td>\n",
       "      <td>0.790895</td>\n",
       "    </tr>\n",
       "    <tr>\n",
       "      <th>Cylinders</th>\n",
       "      <td>NaN</td>\n",
       "      <td>-0.692065</td>\n",
       "      <td>-0.653342</td>\n",
       "      <td>-0.693321</td>\n",
       "      <td>0.930595</td>\n",
       "      <td>1.000000</td>\n",
       "      <td>0.327963</td>\n",
       "      <td>0.799740</td>\n",
       "      <td>0.675949</td>\n",
       "      <td>0.768361</td>\n",
       "      <td>0.755470</td>\n",
       "    </tr>\n",
       "    <tr>\n",
       "      <th>Gears</th>\n",
       "      <td>NaN</td>\n",
       "      <td>-0.537919</td>\n",
       "      <td>-0.480464</td>\n",
       "      <td>-0.524650</td>\n",
       "      <td>0.355666</td>\n",
       "      <td>0.327963</td>\n",
       "      <td>1.000000</td>\n",
       "      <td>0.424395</td>\n",
       "      <td>0.394226</td>\n",
       "      <td>0.419708</td>\n",
       "      <td>0.403221</td>\n",
       "    </tr>\n",
       "    <tr>\n",
       "      <th>CityCO2</th>\n",
       "      <td>NaN</td>\n",
       "      <td>-0.944088</td>\n",
       "      <td>-0.934925</td>\n",
       "      <td>-0.960808</td>\n",
       "      <td>0.832122</td>\n",
       "      <td>0.799740</td>\n",
       "      <td>0.424395</td>\n",
       "      <td>1.000000</td>\n",
       "      <td>0.927970</td>\n",
       "      <td>0.990782</td>\n",
       "      <td>0.981851</td>\n",
       "    </tr>\n",
       "    <tr>\n",
       "      <th>HwyCO2</th>\n",
       "      <td>NaN</td>\n",
       "      <td>-0.854231</td>\n",
       "      <td>-0.966692</td>\n",
       "      <td>-0.919368</td>\n",
       "      <td>0.703015</td>\n",
       "      <td>0.675949</td>\n",
       "      <td>0.394226</td>\n",
       "      <td>0.927970</td>\n",
       "      <td>1.000000</td>\n",
       "      <td>0.969372</td>\n",
       "      <td>0.964737</td>\n",
       "    </tr>\n",
       "    <tr>\n",
       "      <th>CombCO2</th>\n",
       "      <td>NaN</td>\n",
       "      <td>-0.928131</td>\n",
       "      <td>-0.961868</td>\n",
       "      <td>-0.962606</td>\n",
       "      <td>0.799132</td>\n",
       "      <td>0.768361</td>\n",
       "      <td>0.419708</td>\n",
       "      <td>0.990782</td>\n",
       "      <td>0.969372</td>\n",
       "      <td>1.000000</td>\n",
       "      <td>0.992455</td>\n",
       "    </tr>\n",
       "    <tr>\n",
       "      <th>reexpressed</th>\n",
       "      <td>NaN</td>\n",
       "      <td>-0.921306</td>\n",
       "      <td>-0.959141</td>\n",
       "      <td>-0.959332</td>\n",
       "      <td>0.790895</td>\n",
       "      <td>0.755470</td>\n",
       "      <td>0.403221</td>\n",
       "      <td>0.981851</td>\n",
       "      <td>0.964737</td>\n",
       "      <td>0.992455</td>\n",
       "      <td>1.000000</td>\n",
       "    </tr>\n",
       "  </tbody>\n",
       "</table>\n",
       "</div>"
      ],
      "text/plain": [
       "              Model.Year   CityMPG  HighwayMPG  CombinedMPG  Displacement  \\\n",
       "Model.Year           NaN       NaN         NaN          NaN           NaN   \n",
       "CityMPG              NaN  1.000000    0.919290     0.984741     -0.726366   \n",
       "HighwayMPG           NaN  0.919290    1.000000     0.969908     -0.700525   \n",
       "CombinedMPG          NaN  0.984741    0.969908     1.000000     -0.733176   \n",
       "Displacement         NaN -0.726366   -0.700525    -0.733176      1.000000   \n",
       "Cylinders            NaN -0.692065   -0.653342    -0.693321      0.930595   \n",
       "Gears                NaN -0.537919   -0.480464    -0.524650      0.355666   \n",
       "CityCO2              NaN -0.944088   -0.934925    -0.960808      0.832122   \n",
       "HwyCO2               NaN -0.854231   -0.966692    -0.919368      0.703015   \n",
       "CombCO2              NaN -0.928131   -0.961868    -0.962606      0.799132   \n",
       "reexpressed          NaN -0.921306   -0.959141    -0.959332      0.790895   \n",
       "\n",
       "              Cylinders     Gears   CityCO2    HwyCO2   CombCO2  reexpressed  \n",
       "Model.Year          NaN       NaN       NaN       NaN       NaN          NaN  \n",
       "CityMPG       -0.692065 -0.537919 -0.944088 -0.854231 -0.928131    -0.921306  \n",
       "HighwayMPG    -0.653342 -0.480464 -0.934925 -0.966692 -0.961868    -0.959141  \n",
       "CombinedMPG   -0.693321 -0.524650 -0.960808 -0.919368 -0.962606    -0.959332  \n",
       "Displacement   0.930595  0.355666  0.832122  0.703015  0.799132     0.790895  \n",
       "Cylinders      1.000000  0.327963  0.799740  0.675949  0.768361     0.755470  \n",
       "Gears          0.327963  1.000000  0.424395  0.394226  0.419708     0.403221  \n",
       "CityCO2        0.799740  0.424395  1.000000  0.927970  0.990782     0.981851  \n",
       "HwyCO2         0.675949  0.394226  0.927970  1.000000  0.969372     0.964737  \n",
       "CombCO2        0.768361  0.419708  0.990782  0.969372  1.000000     0.992455  \n",
       "reexpressed    0.755470  0.403221  0.981851  0.964737  0.992455     1.000000  "
      ]
     },
     "execution_count": 55,
     "metadata": {},
     "output_type": "execute_result"
    }
   ],
   "source": [
    "sample.corr()"
   ]
  },
  {
   "cell_type": "markdown",
   "id": "a89281f4-6474-4d61-ad70-f50ebc2d7e65",
   "metadata": {},
   "source": [
    "# Exercie 45\n",
    "a. The graph shows a linear but moderatly weak association.Both variables are quantitative.\n",
    "b. The correlation is higher than the graph shows.\n",
    "c. There is no causation for sure. We might dig up a little bit to find more proof because the association is strong enough to trigger some curiosity."
   ]
  },
  {
   "cell_type": "code",
   "execution_count": 2,
   "id": "dc7768fb-b8f6-4861-a1ec-ec581e4f0fa9",
   "metadata": {},
   "outputs": [
    {
     "data": {
      "text/plain": [
       "Index(['Rank', 'Roller Coaster', 'Park', 'Location', 'Drop(ft)',\n",
       "       'Duration(sec)', 'Height', 'Max speed', 'Max vert angle', 'Length'],\n",
       "      dtype='object')"
      ]
     },
     "execution_count": 2,
     "metadata": {},
     "output_type": "execute_result"
    }
   ],
   "source": [
    "# Exercice 49\n",
    "df =pd.read_csv('./Ch6/Thrills_2013.txt', sep='\\t')\n",
    "df.columns"
   ]
  },
  {
   "cell_type": "code",
   "execution_count": 3,
   "id": "e3b2f90f-3c3c-49da-8b85-95cf2fd2ce50",
   "metadata": {},
   "outputs": [
    {
     "data": {
      "text/plain": [
       "<matplotlib.collections.PathCollection at 0x1e1e086af40>"
      ]
     },
     "execution_count": 3,
     "metadata": {},
     "output_type": "execute_result"
    },
    {
     "data": {
      "image/png": "[encoded data removed]",
      "text/plain": [
       "<Figure size 432x288 with 1 Axes>"
      ]
     },
     "metadata": {
      "needs_background": "light"
     },
     "output_type": "display_data"
    }
   ],
   "source": [
    "plt.scatter(df.iloc[:, -1], df.iloc[:,5])"
   ]
  },
  {
   "cell_type": "markdown",
   "id": "2edba929-90f8-41b7-bfaa-76e631bd1bb4",
   "metadata": {},
   "source": [
    "The scatter is moderetly straight but positive and moderately strong. There is a moderate association."
   ]
  },
  {
   "cell_type": "code",
   "execution_count": 12,
   "id": "8560dda6-214e-47c5-b40d-d734ee417bdb",
   "metadata": {},
   "outputs": [
    {
     "data": {
      "text/html": [
       "<div>\n",
       "<style scoped>\n",
       "    .dataframe tbody tr th:only-of-type {\n",
       "        vertical-align: middle;\n",
       "    }\n",
       "\n",
       "    .dataframe tbody tr th {\n",
       "        vertical-align: top;\n",
       "    }\n",
       "\n",
       "    .dataframe thead th {\n",
       "        text-align: right;\n",
       "    }\n",
       "</style>\n",
       "<table border=\"1\" class=\"dataframe\">\n",
       "  <thead>\n",
       "    <tr style=\"text-align: right;\">\n",
       "      <th></th>\n",
       "      <th>Position Number</th>\n",
       "      <th>Distance from sun(million miles)</th>\n",
       "      <th>Length of year(earth years)</th>\n",
       "    </tr>\n",
       "  </thead>\n",
       "  <tbody>\n",
       "    <tr>\n",
       "      <th>count</th>\n",
       "      <td>9.000000</td>\n",
       "      <td>9.000000</td>\n",
       "      <td>9.000000</td>\n",
       "    </tr>\n",
       "    <tr>\n",
       "      <th>mean</th>\n",
       "      <td>5.000000</td>\n",
       "      <td>1107.000000</td>\n",
       "      <td>60.180000</td>\n",
       "    </tr>\n",
       "    <tr>\n",
       "      <th>std</th>\n",
       "      <td>2.738613</td>\n",
       "      <td>1347.538868</td>\n",
       "      <td>89.441044</td>\n",
       "    </tr>\n",
       "    <tr>\n",
       "      <th>min</th>\n",
       "      <td>1.000000</td>\n",
       "      <td>36.000000</td>\n",
       "      <td>0.240000</td>\n",
       "    </tr>\n",
       "    <tr>\n",
       "      <th>25%</th>\n",
       "      <td>3.000000</td>\n",
       "      <td>93.000000</td>\n",
       "      <td>1.000000</td>\n",
       "    </tr>\n",
       "    <tr>\n",
       "      <th>50%</th>\n",
       "      <td>5.000000</td>\n",
       "      <td>484.000000</td>\n",
       "      <td>11.860000</td>\n",
       "    </tr>\n",
       "    <tr>\n",
       "      <th>75%</th>\n",
       "      <td>7.000000</td>\n",
       "      <td>1784.000000</td>\n",
       "      <td>84.070000</td>\n",
       "    </tr>\n",
       "    <tr>\n",
       "      <th>max</th>\n",
       "      <td>9.000000</td>\n",
       "      <td>3675.000000</td>\n",
       "      <td>247.680000</td>\n",
       "    </tr>\n",
       "  </tbody>\n",
       "</table>\n",
       "</div>"
      ],
      "text/plain": [
       "       Position Number  Distance from sun(million miles)  \\\n",
       "count         9.000000                          9.000000   \n",
       "mean          5.000000                       1107.000000   \n",
       "std           2.738613                       1347.538868   \n",
       "min           1.000000                         36.000000   \n",
       "25%           3.000000                         93.000000   \n",
       "50%           5.000000                        484.000000   \n",
       "75%           7.000000                       1784.000000   \n",
       "max           9.000000                       3675.000000   \n",
       "\n",
       "       Length of year(earth years)  \n",
       "count                     9.000000  \n",
       "mean                     60.180000  \n",
       "std                      89.441044  \n",
       "min                       0.240000  \n",
       "25%                       1.000000  \n",
       "50%                      11.860000  \n",
       "75%                      84.070000  \n",
       "max                     247.680000  "
      ]
     },
     "execution_count": 12,
     "metadata": {},
     "output_type": "execute_result"
    },
    {
     "data": {
      "image/png": "[encoded data removed]",
      "text/plain": [
       "<Figure size 432x288 with 1 Axes>"
      ]
     },
     "metadata": {
      "needs_background": "light"
     },
     "output_type": "display_data"
    }
   ],
   "source": [
    "# Exercice 53\n",
    "df = pd.read_csv('./Ch6/Planets.txt', sep='\\t')\n",
    "plt.scatter(df.iloc[:, 1], df.iloc[:, 2])\n",
    "df.describe()"
   ]
  },
  {
   "cell_type": "markdown",
   "id": "752a151e-3cec-41ab-9305-7cc94ca2fba1",
   "metadata": {},
   "source": [
    "The scatter plot is posisitive and strong. The shape is curvy and downward.\n",
    "\n",
    "The position is an ordinal number which is not a quantity. We cannot calculate correlation from it."
   ]
  },
  {
   "cell_type": "code",
   "execution_count": 20,
   "id": "dae09ba0-885e-4041-ba46-7bd294b36b32",
   "metadata": {},
   "outputs": [],
   "source": [
    "df['log_dist'] = np.log10(df.iloc[:,2])\n",
    "df['log_year'] = np.log10(df.iloc[:, 1])"
   ]
  },
  {
   "cell_type": "code",
   "execution_count": 22,
   "id": "091c7361-a5a0-4896-8cfd-c52524dbf34c",
   "metadata": {},
   "outputs": [
    {
     "data": {
      "text/plain": [
       "<matplotlib.collections.PathCollection at 0x1e1e0ddf160>"
      ]
     },
     "execution_count": 22,
     "metadata": {},
     "output_type": "execute_result"
    },
    {
     "data": {
      "image/png": "[encoded data removed]",
      "text/plain": [
       "<Figure size 432x288 with 1 Axes>"
      ]
     },
     "metadata": {
      "needs_background": "light"
     },
     "output_type": "display_data"
    }
   ],
   "source": [
    "plt.scatter(df.iloc[:, 3], df.iloc[:, 2])"
   ]
  },
  {
   "cell_type": "code",
   "execution_count": null,
   "id": "94cbca6b-2171-414c-853d-384cb39085ef",
   "metadata": {},
   "outputs": [],
   "source": []
  }
 ],
 "metadata": {
  "kernelspec": {
   "display_name": "Python 3 (ipykernel)",
   "language": "python",
   "name": "python3"
  },
  "language_info": {
   "codemirror_mode": {
    "name": "ipython",
    "version": 3
   },
   "file_extension": ".py",
   "mimetype": "text/x-python",
   "name": "python",
   "nbconvert_exporter": "python",
   "pygments_lexer": "ipython3",
   "version": "3.9.7"
  }
 },
 "nbformat": 4,
 "nbformat_minor": 5
}
