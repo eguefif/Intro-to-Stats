{
 "cells": [
  {
   "cell_type": "code",
   "execution_count": 114,
   "id": "7d962cf7-6892-4c88-983e-cb4b1392bbbf",
   "metadata": {},
   "outputs": [],
   "source": [
    "import pandas as pd\n",
    "import numpy as np\n",
    "import matplotlib.pyplot as plt\n",
    "from math import sqrt"
   ]
  },
  {
   "cell_type": "code",
   "execution_count": 16,
   "id": "eb45097e-c815-4acf-95c4-a401dfe729e9",
   "metadata": {},
   "outputs": [
    {
     "data": {
      "text/plain": [
       "Index(['Item', 'Serving.size', 'Calories', 'Fat.Cal', 'Protein(g)', 'Fat(g)',\n",
       "       'Sat.Fat(g)', 'Trans.fat(g)', 'Chol(mg)', 'Sodium(mg)', 'Carbs(g)',\n",
       "       'Fiber(g)', 'Sugar(g)', 'Meat', 'Breakfast', 'Not Breakfast',\n",
       "       'CarbsxMeat'],\n",
       "      dtype='object')"
      ]
     },
     "execution_count": 16,
     "metadata": {},
     "output_type": "execute_result"
    }
   ],
   "source": [
    "df = pd.read_csv('./Ch7/Burger_king_items.txt', sep='\\t')\n",
    "df.columns"
   ]
  },
  {
   "cell_type": "code",
   "execution_count": 17,
   "id": "e79c0a02-b41b-44e3-b8c6-753aa601d359",
   "metadata": {},
   "outputs": [
    {
     "data": {
      "text/plain": [
       "0.9131342674466059"
      ]
     },
     "execution_count": 17,
     "metadata": {},
     "output_type": "execute_result"
    }
   ],
   "source": [
    "x = df['Protein(g)'].mean()\n",
    "y = df['Fat(g)'].mean()\n",
    "x_sd = df['Protein(g)'].std()\n",
    "y_sd = df['Fat(g)'].std()\n",
    "\n",
    "corr = df['Protein(g)'].corr(df['Fat(g)'])\n",
    "\n",
    "b1 = corr*(y_sd/x_sd)\n",
    "b1"
   ]
  },
  {
   "cell_type": "code",
   "execution_count": 20,
   "id": "d7a93141-40c4-4490-b4eb-472fd3d09888",
   "metadata": {},
   "outputs": [
    {
     "data": {
      "text/plain": [
       "Index(['Municipality', 'Location', 'Route', 'Owner', 'Built', 'Date.Inspected',\n",
       "       'SD.FO.Status', 'Condition', 'YearInspected', 'AgeAtInspection'],\n",
       "      dtype='object')"
      ]
     },
     "execution_count": 20,
     "metadata": {},
     "output_type": "execute_result"
    }
   ],
   "source": [
    "df = pd.read_csv('./Ch7/Tompkins_county_bridges_2016.txt', sep='\\t')\n",
    "df.columns"
   ]
  },
  {
   "cell_type": "markdown",
   "id": "abf92c26-89a1-453a-a0ac-8c07467b8ea3",
   "metadata": {},
   "source": [
    "Who: New-York bridges\n",
    "what: when it was built and the safety score\n",
    "when: 2016\n",
    "where: USA newyork state\n",
    "How: people goes there and check\n",
    "why: public safety\n"
   ]
  },
  {
   "cell_type": "code",
   "execution_count": 22,
   "id": "94f96d93-613d-46ee-90e2-26648f4e91cf",
   "metadata": {},
   "outputs": [
    {
     "data": {
      "text/plain": [
       "<matplotlib.collections.PathCollection at 0x2547e45a490>"
      ]
     },
     "execution_count": 22,
     "metadata": {},
     "output_type": "execute_result"
    },
    {
     "data": {
      "image/png": "[encoded data removed]",
      "text/plain": [
       "<Figure size 432x288 with 1 Axes>"
      ]
     },
     "metadata": {
      "needs_background": "light"
     },
     "output_type": "display_data"
    }
   ],
   "source": [
    "plt.scatter(df.Built, df.Condition)"
   ]
  },
  {
   "cell_type": "code",
   "execution_count": 53,
   "id": "11c85e96-3ec1-41e0-ae30-12e7dc3ee79a",
   "metadata": {},
   "outputs": [
    {
     "name": "stdout",
     "output_type": "stream",
     "text": [
      "Correlation: -0.61, x_mean = 48.97, y_mean = 5.23, x_std = 30.60, y_std = 0.88\n",
      "y hat = 6.09 + -0.02*x\n"
     ]
    },
    {
     "data": {
      "text/plain": [
       "[<matplotlib.lines.Line2D at 0x25401655370>]"
      ]
     },
     "execution_count": 53,
     "metadata": {},
     "output_type": "execute_result"
    },
    {
     "data": {
      "image/png": "[encoded data removed]",
      "text/plain": [
       "<Figure size 432x288 with 1 Axes>"
      ]
     },
     "metadata": {
      "needs_background": "light"
     },
     "output_type": "display_data"
    }
   ],
   "source": [
    "x = df.AgeAtInspection\n",
    "y = df.Condition\n",
    "\n",
    "corr = y.corr(x)\n",
    "x_mean = x.mean()\n",
    "x_std = x.std()\n",
    "y_mean = y.mean()\n",
    "y_std = y.std()\n",
    "print(f'Correlation: {corr:0.2f}, x_mean = {x_mean:0.2f}, y_mean = {y_mean:0.2f}, x_std = {x_std:0.2f}'\n",
    "f', y_std = {y_std:0.2f}')\n",
    "\n",
    "b1 = corr*(y_std/x_std)\n",
    "b0 = y_mean - b1*x_mean\n",
    "print(f'y hat = {b0:0.2f} + {b1:.2f}*x')\n",
    "\n",
    "plt.scatter(x, y)\n",
    "plt.plot(x, b0 + b1*y, color='red')"
   ]
  },
  {
   "cell_type": "markdown",
   "id": "57bb33a3-8146-4b10-8617-38e6dffd115c",
   "metadata": {},
   "source": [
    "# Just checking\n",
    "size = -2\n",
    "price = 8400 + 88.67 * size\n",
    "priceWe can expect, on average, for bridges that are a year younger to be 0.02 point safer."
   ]
  },
  {
   "cell_type": "code",
   "execution_count": 6,
   "id": "13e69af3-b4e6-4936-8fce-e975ffe43955",
   "metadata": {},
   "outputs": [
    {
     "data": {
      "text/plain": [
       "0.76"
      ]
     },
     "execution_count": 6,
     "metadata": {},
     "output_type": "execute_result"
    }
   ],
   "source": [
    "# Just checking\n",
    "size = 1\n",
    "sd = 0.76 * size\n",
    "sd"
   ]
  },
  {
   "cell_type": "code",
   "execution_count": 13,
   "id": "0ae0f17f-f43c-418e-bc90-9812b649b8e8",
   "metadata": {},
   "outputs": [
    {
     "name": "stdout",
     "output_type": "stream",
     "text": [
      "226528.2\n",
      "8400.0 88.66666666666667\n"
     ]
    }
   ],
   "source": [
    "sd_price = 77000\n",
    "y_price = 168000\n",
    "0.76*sd_price\n",
    "y_price + 0.76*sd_price\n",
    "\n",
    "y_size = 1800\n",
    "sd_size = 660\n",
    "\n",
    "pred = 8400 + 88.67*2460\n",
    "print(pred)\n",
    "\n",
    "b1 = 0.76*(sd_price/sd_size)\n",
    "b0 = y_price - b1*y_size\n",
    "print(b0, b1)"
   ]
  },
  {
   "cell_type": "markdown",
   "id": "af3e16d4-3bb9-4b37-a8e3-ec478c46cc4a",
   "metadata": {},
   "source": [
    "1. 0.76\n",
    "2. -1.52 sd\n",
    "3. It would be 0.5 above the mean in square feet since there is a perfect correlation between square meters and square feet.\n",
    "4. 58 520 above the mean price\n",
    "5. 226 520\n",
    "6. "
   ]
  },
  {
   "cell_type": "code",
   "execution_count": 14,
   "id": "272c10fb-7dc0-4861-9e59-3c3edda8ddb0",
   "metadata": {},
   "outputs": [
    {
     "data": {
      "text/plain": [
       "133.94000000000005"
      ]
     },
     "execution_count": 14,
     "metadata": {},
     "output_type": "execute_result"
    }
   ],
   "source": [
    "pressure = 920\n",
    "pred = 1028.18 - 0.972*pressure\n",
    "pred"
   ]
  },
  {
   "cell_type": "code",
   "execution_count": 15,
   "id": "d7776548-d683-4b76-9c1e-d81585388c88",
   "metadata": {},
   "outputs": [
    {
     "data": {
      "text/plain": [
       "-16.059999999999945"
      ]
     },
     "execution_count": 15,
     "metadata": {},
     "output_type": "execute_result"
    }
   ],
   "source": [
    "e = pred - 150\n",
    "e"
   ]
  },
  {
   "cell_type": "markdown",
   "id": "cb521dc7-ea81-4661-8af4-82454c3533e4",
   "metadata": {},
   "source": [
    "# Residual\n",
    "I'm gonna calculate the residual and plot the residuals against the y and x values.\n",
    "I' gonn calculate the residual sd and plot an histogram"
   ]
  },
  {
   "cell_type": "code",
   "execution_count": 31,
   "id": "7850a4eb-3b02-4d7d-887e-121ce9addd33",
   "metadata": {},
   "outputs": [
    {
     "data": {
      "text/plain": [
       "10.570739718301777"
      ]
     },
     "execution_count": 31,
     "metadata": {},
     "output_type": "execute_result"
    }
   ],
   "source": [
    "x = df['Protein(g)'].mean()\n",
    "y = df['Fat(g)'].mean()\n",
    "x_sd = df['Protein(g)'].std()\n",
    "y_sd = df['Fat(g)'].std()\n",
    "\n",
    "corr = df['Protein(g)'].corr(df['Fat(g)'])\n",
    "\n",
    "b1 = corr*(y_sd/x_sd)\n",
    "b0 = y - b1*x\n",
    "\n",
    "residual = [b0+b1*a for a in df['Protein(g)']]\n",
    "residual = residual - df['Fat(g)']\n",
    "residual_squared = [a**2 for a in residual]\n",
    "e = sqrt(sum(residual_squared)/(df.shape[0]-2))\n",
    "e"
   ]
  },
  {
   "cell_type": "code",
   "execution_count": 37,
   "id": "327fe18a-cc2a-4f73-8f96-f26915b84b59",
   "metadata": {},
   "outputs": [
    {
     "data": {
      "text/plain": [
       "<matplotlib.collections.PathCollection at 0x17689757f70>"
      ]
     },
     "execution_count": 37,
     "metadata": {},
     "output_type": "execute_result"
    },
    {
     "data": {
      "image/png": "[encoded data removed]",
      "text/plain": [
       "<Figure size 432x288 with 1 Axes>"
      ]
     },
     "metadata": {
      "needs_background": "light"
     },
     "output_type": "display_data"
    }
   ],
   "source": [
    "plt.scatter(df['Protein(g)'], residual)"
   ]
  },
  {
   "cell_type": "code",
   "execution_count": 35,
   "id": "0ca22ee3-dc80-4b64-9efe-aa2b6e13898f",
   "metadata": {},
   "outputs": [
    {
     "data": {
      "text/plain": [
       "<matplotlib.collections.PathCollection at 0x1768968e130>"
      ]
     },
     "execution_count": 35,
     "metadata": {},
     "output_type": "execute_result"
    },
    {
     "data": {
      "image/png": "[encoded data removed]",
      "text/plain": [
       "<Figure size 432x288 with 1 Axes>"
      ]
     },
     "metadata": {
      "needs_background": "light"
     },
     "output_type": "display_data"
    }
   ],
   "source": [
    "plt.scatter(df['Fat(g)'], residual)"
   ]
  },
  {
   "cell_type": "code",
   "execution_count": 36,
   "id": "fea84d29-3a84-4ab6-af28-02511c98fe4c",
   "metadata": {},
   "outputs": [
    {
     "data": {
      "text/plain": [
       "(array([ 2.,  2.,  3., 26., 32., 32., 17.,  4.,  2.,  2.]),\n",
       " array([-34.37755407, -27.42098694, -20.46441981, -13.50785267,\n",
       "         -6.55128554,   0.40528159,   7.36184873,  14.31841586,\n",
       "         21.274983  ,  28.23155013,  35.18811726]),\n",
       " <BarContainer object of 10 artists>)"
      ]
     },
     "execution_count": 36,
     "metadata": {},
     "output_type": "execute_result"
    },
    {
     "data": {
      "image/png": "[encoded data removed]",
      "text/plain": [
       "<Figure size 432x288 with 1 Axes>"
      ]
     },
     "metadata": {
      "needs_background": "light"
     },
     "output_type": "display_data"
    }
   ],
   "source": [
    "plt.hist(residual)"
   ]
  },
  {
   "cell_type": "code",
   "execution_count": 4,
   "id": "8d70e4d5-e0b7-4b23-aa7c-540f7d903e8f",
   "metadata": {},
   "outputs": [],
   "source": [
    "# Just checking\n",
    "size = 2\n",
    "price = 8400 + 88.67 * size\n",
    "\n",
    "r_squared = 57.8\n",
    "sd_residual = 53790"
   ]
  },
  {
   "cell_type": "markdown",
   "id": "11c7628d-1b02-4210-a8f2-2aa31634e7cc",
   "metadata": {},
   "source": [
    "7. It means that 57.8% of the price variation is explain by the size.\n",
    "8. the correlation is positive since the coefficient of the least square line is positive.\n",
    "9. It is just a 1 SD variation. It is not particularly large since 68% of data is comprised between -1 anf 1 SD."
   ]
  },
  {
   "cell_type": "code",
   "execution_count": 3,
   "id": "614e6528-054a-4370-8f76-859cd45906c0",
   "metadata": {},
   "outputs": [
    {
     "data": {
      "text/plain": [
       "Index(['name', 'mfr', 'calories', 'sugars', 'carbo', 'protein', 'fat',\n",
       "       'sodium', 'fiber', 'potass', 'shelf', 'Middle', 'shelf_1', 'shelf_2',\n",
       "       'shelf_3'],\n",
       "      dtype='object')"
      ]
     },
     "execution_count": 3,
     "metadata": {},
     "output_type": "execute_result"
    }
   ],
   "source": [
    "# Cereals\n",
    "\n",
    "df = pd.read_csv('./Ch7/Cereals.txt', sep='\\t')\n",
    "df.columns"
   ]
  },
  {
   "cell_type": "code",
   "execution_count": 33,
   "id": "5c45baeb-3648-4047-90fd-d1283a55f801",
   "metadata": {},
   "outputs": [
    {
     "data": {
      "image/png": "[encoded data removed]",
      "text/plain": [
       "<Figure size 432x288 with 1 Axes>"
      ]
     },
     "metadata": {
      "needs_background": "light"
     },
     "output_type": "display_data"
    },
    {
     "data": {
      "image/png": "[encoded data removed]",
      "text/plain": [
       "<Figure size 432x288 with 1 Axes>"
      ]
     },
     "metadata": {
      "needs_background": "light"
     },
     "output_type": "display_data"
    },
    {
     "data": {
      "image/png": "[encoded data removed]",
      "text/plain": [
       "<Figure size 432x288 with 1 Axes>"
      ]
     },
     "metadata": {
      "needs_background": "light"
     },
     "output_type": "display_data"
    }
   ],
   "source": [
    "df = pd.read_csv('./Ch7/Cereals.txt', sep='\\t')\n",
    "df.columns\n",
    "\n",
    "sugar = df['sugars']\n",
    "cal = df['calories']\n",
    "\n",
    "plt.scatter(sugar, cal)\n",
    "plt.xlabel('sugar [g]')\n",
    "plt.ylabel('Calories [kcal]')\n",
    "plt.title('Relation between calories and sugar for 77 cereals.')\n",
    "plt.show()\n",
    "\n",
    "plt.hist(sugar)\n",
    "plt.title('Sugar distribution.')\n",
    "plt.show()\n",
    "\n",
    "plt.hist(cal)\n",
    "plt.title('Calories distribution.')\n",
    "plt.show()"
   ]
  },
  {
   "cell_type": "code",
   "execution_count": 6,
   "id": "6004a498-4a32-4919-8556-cabba6fc9727",
   "metadata": {},
   "outputs": [
    {
     "name": "stdout",
     "output_type": "stream",
     "text": [
      "          Mean     St     Median   IQR\n",
      "Sugar     6.94     4.42    7.0     8.0\n",
      "Calories  106.88   19.48  110.0   10.0\n",
      "Correlation : 0.56\n",
      "Least square line : cal hat = 89.65 + 2.49*sugar\n"
     ]
    }
   ],
   "source": [
    "sugar_mean = sugar.mean()\n",
    "sugar_std = sugar.std()\n",
    "sugar_median = sugar.median()\n",
    "sugar_iqr = sugar.quantile(0.75) - sugar.quantile(0.25)\n",
    "\n",
    "cal_mean = cal.mean()\n",
    "cal_std = cal.std()\n",
    "cal_median = cal.median()\n",
    "cal_iqr = cal.quantile(0.75) - cal.quantile(0.25)\n",
    "\n",
    "cor = sugar.corr(cal)\n",
    "\n",
    "b1 = cor * cal_std / sugar_std\n",
    "b0 = cal_mean - b1*sugar_mean\n",
    "\n",
    "print('          Mean     St     Median   IQR')\n",
    "print(f'Sugar     {sugar_mean:.2f}     {sugar_std:.2f}    {sugar_median}     {sugar_iqr}')\n",
    "print(f'Calories  {cal_mean:.2f}   {cal_std:.2f}  {cal_median}   {cal_iqr}')\n",
    "print(f'Correlation : {cor:.2f}')\n",
    "print(f'Least square line : cal hat = {b0:.2f} + {b1:.2f}*sugar')"
   ]
  },
  {
   "cell_type": "code",
   "execution_count": 7,
   "id": "fc83e9d4-cfdf-428a-81ba-52f99a6ffca3",
   "metadata": {},
   "outputs": [
    {
     "name": "stdout",
     "output_type": "stream",
     "text": [
      "\n",
      "e = 262.28\n",
      "s_e = 16.09\n",
      "r^2 = 0.32\n",
      "\n",
      "0.6817999669657488\n",
      "\n"
     ]
    }
   ],
   "source": [
    "# Model analysis\n",
    "\n",
    "prediction = [b0+b1*x for x in sugar]\n",
    "residuals = cal - prediction\n",
    "\n",
    "pred_std = np.std(prediction)\n",
    "e = sum(residuals**2) / (len(residuals)-2)\n",
    "\n",
    "s_e = residuals.std()\n",
    "r_squared = cor**2\n",
    "print(f'''\n",
    "e = {e:.2f}\n",
    "s_e = {s_e:.2f}\n",
    "r^2 = {r_squared:.2f}\n",
    "\n",
    "{s_e**2 / cal_std**2 }\n",
    "''')"
   ]
  },
  {
   "cell_type": "code",
   "execution_count": 9,
   "id": "8808a744-5e40-47f2-bd85-d5ed1b21f80b",
   "metadata": {},
   "outputs": [
    {
     "data": {
      "image/png": "[encoded data removed]",
      "text/plain": [
       "<Figure size 432x288 with 1 Axes>"
      ]
     },
     "metadata": {
      "needs_background": "light"
     },
     "output_type": "display_data"
    },
    {
     "data": {
      "image/png": "[encoded data removed]",
      "text/plain": [
       "<Figure size 432x288 with 1 Axes>"
      ]
     },
     "metadata": {
      "needs_background": "light"
     },
     "output_type": "display_data"
    },
    {
     "data": {
      "image/png": "[encoded data removed]",
      "text/plain": [
       "<Figure size 432x288 with 1 Axes>"
      ]
     },
     "metadata": {
      "needs_background": "light"
     },
     "output_type": "display_data"
    }
   ],
   "source": [
    "plt.scatter(sugar, cal)\n",
    "plt.plot(sugar, prediction, color='red', label='Linear regression')\n",
    "plt.title('Sugar against calories with linea model')\n",
    "plt.show()\n",
    "\n",
    "plt.hist(residuals)\n",
    "plt.title('Distribution of residuals')\n",
    "plt.show()\n",
    "\n",
    "plt.scatter(prediction, residuals, )\n",
    "plt.xlabel('Predicted')\n",
    "plt.ylabel('Residuals')\n",
    "plt.title('Prediction against residuals')\n",
    "plt.show()"
   ]
  },
  {
   "cell_type": "markdown",
   "id": "b0353890-8b1b-47b4-945c-83bdbb8f5c0b",
   "metadata": {},
   "source": [
    "# Exercice 1\n",
    "a. It is wrong. The linear model we choose may not pass through a single point. It is the one that has the least error with every point.\n",
    "\n",
    "b. Yes it is\n",
    "\n",
    "c. False, it is the sum of the square of all the residuals that is minimized."
   ]
  },
  {
   "cell_type": "markdown",
   "id": "4d8ff3e6-4880-4816-8092-c0df43a71f02",
   "metadata": {},
   "source": [
    "# Exercice 3\n",
    "It means that, on average, we expect that the weight of a newborn will be 0.1875 kg bigger if the lenght is a cm bigger."
   ]
  },
  {
   "cell_type": "code",
   "execution_count": 10,
   "id": "d793c69b-f1b2-4fa3-8f8c-dcf1f3fa262c",
   "metadata": {},
   "outputs": [
    {
     "data": {
      "text/plain": [
       "Index(['Number of Sales People Working', 'Sales (in $1000)'], dtype='object')"
      ]
     },
     "execution_count": 10,
     "metadata": {},
     "output_type": "execute_result"
    }
   ],
   "source": [
    "df = pd.read_csv('./Ch7/Bookstore_sales.txt', sep='\\t')\n",
    "df.columns"
   ]
  },
  {
   "cell_type": "code",
   "execution_count": 25,
   "id": "9121a6a8-1893-4b2d-8212-dc0167d6217e",
   "metadata": {},
   "outputs": [
    {
     "data": {
      "text/plain": [
       "0    10\n",
       "1    11\n",
       "2    13\n",
       "3    14\n",
       "4    18\n",
       "5    20\n",
       "6    20\n",
       "7    22\n",
       "8    22\n",
       "9    26\n",
       "Name: Sales (in $1000), dtype: int64"
      ]
     },
     "execution_count": 25,
     "metadata": {},
     "output_type": "execute_result"
    }
   ],
   "source": [
    "df.iloc[:, 1]"
   ]
  },
  {
   "cell_type": "code",
   "execution_count": 11,
   "id": "fe04e446-ce27-4f4c-892d-111abc307b99",
   "metadata": {},
   "outputs": [
    {
     "data": {
      "text/plain": [
       "(0.9136702127659574, 8.097829787234044)"
      ]
     },
     "execution_count": 11,
     "metadata": {},
     "output_type": "execute_result"
    }
   ],
   "source": [
    "x_mean = 10.4\n",
    "y_mean = 17.6\n",
    "x_std = 5.64\n",
    "y_std = 5.34\n",
    "r = 0.965\n",
    "\n",
    "b1 = r*y_std/x_std\n",
    "b0 = y_mean - b1*x_mean\n",
    "b1, b0"
   ]
  },
  {
   "cell_type": "markdown",
   "id": "5775e8e3-149d-47bb-8e24-24589b644eac",
   "metadata": {},
   "source": [
    "b. It means that, on variation, the bookstore will make $910 more for 1 more sale people working.\n",
    "The intercept means that if there is no worker, the shop makes $8000.\n",
    "It is plausible. 9 000 for one sales people is too much 90 is too low.\n",
    "\n",
    "sales = 8.1 + 0.91*number"
   ]
  },
  {
   "cell_type": "code",
   "execution_count": 27,
   "id": "1b348ba1-b236-4ecd-ba6b-9d6b33eecafe",
   "metadata": {},
   "outputs": [
    {
     "name": "stdout",
     "output_type": "stream",
     "text": [
      "For 18 people the booksore would make $24.54.\n",
      "Residual: $24975.46 and we have underestimated the value.\n"
     ]
    }
   ],
   "source": [
    "def model(x):\n",
    "    return (b1*x + b0)\n",
    "pred = model(18)\n",
    "print(f'For 18 people the booksore would make ${model(18):.2f}.')\n",
    "print(f'Residual: ${25000-pred:.2f} and we have underestimated the value.')"
   ]
  },
  {
   "cell_type": "code",
   "execution_count": 28,
   "id": "ef4c1b71-5f8d-4e08-8852-9e2390bee55a",
   "metadata": {},
   "outputs": [],
   "source": [
    "prediction = [model(x) for x in df.iloc[:, 0]]\n",
    "residuals = [a - b for a in df.iloc[:, 1] for b in prediction]\n"
   ]
  },
  {
   "cell_type": "markdown",
   "id": "2f618e85-6277-43ad-8064-711ef3074774",
   "metadata": {},
   "source": [
    "a. Unit of the residual is 1000 of dollars\n",
    "b. It is 2.77 that contribute the most.\n",
    "c. The least is 0.07"
   ]
  },
  {
   "cell_type": "code",
   "execution_count": 31,
   "id": "dd04ba3b-f2ac-4094-a658-9ce434212660",
   "metadata": {},
   "outputs": [
    {
     "data": {
      "text/plain": [
       "0.9319324728296398"
      ]
     },
     "execution_count": 31,
     "metadata": {},
     "output_type": "execute_result"
    }
   ],
   "source": [
    "corr = df.iloc[:, 0].corr(df.iloc[:,1])\n",
    "r_squared = corr**2\n",
    "r_squared"
   ]
  },
  {
   "cell_type": "markdown",
   "id": "00ad0818-283f-44b0-b761-2ae97fc55bfc",
   "metadata": {},
   "source": [
    "# Exercice 13\n",
    "a. It is not straight enough\n",
    "b. there is an outlierm\n",
    "c. It thinckens"
   ]
  },
  {
   "cell_type": "code",
   "execution_count": 38,
   "id": "0290bd8f-6709-4975-8818-dc8c6e2e7a02",
   "metadata": {},
   "outputs": [
    {
     "data": {
      "text/plain": [
       "281"
      ]
     },
     "execution_count": 38,
     "metadata": {},
     "output_type": "execute_result"
    }
   ],
   "source": [
    "# exercice 15\n",
    "df = pd.read_csv('./Ch7/Cereals.txt', sep='\\t')\n",
    "df.columns\n",
    "\n",
    "x = df['fiber']\n",
    "y = df['potass']\n",
    "\n",
    "\n",
    "38 + 27*9"
   ]
  },
  {
   "cell_type": "markdown",
   "id": "716c10f8-cf61-4dfb-93c3-4c039397725a",
   "metadata": {},
   "source": [
    "# Exercice 17 19\n",
    "We expect that, on average, an increase of 27 g of potassium for an increase of 1g of fiber\n",
    "\n",
    "It the residual is negative. It means that our model has overestimated the amount of potassium."
   ]
  },
  {
   "cell_type": "code",
   "execution_count": 40,
   "id": "790cab38-e777-4e6c-afb7-b672aa13f7f1",
   "metadata": {},
   "outputs": [
    {
     "name": "stdout",
     "output_type": "stream",
     "text": [
      " The fraction of the data explained by our model is 81.5 %\n"
     ]
    }
   ],
   "source": [
    "# Exercice 21\n",
    "r = 0.903\n",
    "r_s = r**2\n",
    "print(f' The fraction of the data explained by our model is {r_s * 100:3.1f}%')"
   ]
  },
  {
   "cell_type": "markdown",
   "id": "63d511a9-4828-4ba7-b860-32f099fb8cf3",
   "metadata": {},
   "source": [
    "# Exercice 23\n",
    "It means that the ditribution of error std 30.77. 68% of the prediction's error  is comprised between +30.77 g and -30.77g of potassium."
   ]
  },
  {
   "cell_type": "code",
   "execution_count": 5,
   "id": "8a433839-621a-4141-be30-dadf13f1aca3",
   "metadata": {},
   "outputs": [
    {
     "data": {
      "text/plain": [
       "Index(['Country', 'Region', 'Happiness score', 'Log (GDP Per Capita)',\n",
       "       'Social support', 'Healthy life expectancy',\n",
       "       'Freedom to make life choices', 'Generosity',\n",
       "       'Perceptions of corruption'],\n",
       "      dtype='object')"
      ]
     },
     "execution_count": 5,
     "metadata": {},
     "output_type": "execute_result"
    }
   ],
   "source": [
    "# Exercice 37\n",
    "df = pd.read_csv('./Ch7/World_happiness_2020.txt', sep='\\t')\n",
    "df.columns"
   ]
  },
  {
   "cell_type": "code",
   "execution_count": 23,
   "id": "bc42560c-135a-4635-8f74-28202099e66e",
   "metadata": {},
   "outputs": [
    {
     "data": {
      "text/plain": [
       "0.6012054613274322"
      ]
     },
     "execution_count": 23,
     "metadata": {},
     "output_type": "execute_result"
    }
   ],
   "source": [
    "x = df.iloc[:, 3]\n",
    "y = df.iloc[:, 2]\n",
    "\n",
    "r = df.iloc[:,3].corr(df.iloc[:, 2])\n",
    "b1 = r*y.std()/x.std()\n",
    "b0 = y.mean() - b1*x.mean()\n",
    "r_squared = r**2\n",
    "r_squared"
   ]
  },
  {
   "cell_type": "markdown",
   "id": "f185ab9c-a279-4cb5-be32-75fa7802d5b2",
   "metadata": {},
   "source": [
    "r = 77.5%. The linear model in Log GDP per Capita accounts for 77.5% of the variation in Happiness score."
   ]
  },
  {
   "cell_type": "code",
   "execution_count": 13,
   "id": "6eb027da-b1a5-4707-b1ab-8875ae2273ba",
   "metadata": {},
   "outputs": [
    {
     "name": "stdout",
     "output_type": "stream",
     "text": [
      "\n",
      "Regression equation: y_hat = -1.20 + 0.72 log_gdp per capita\n",
      "The slope means that for the happiness schore predicted by the model increase by 0.72 per one Log GDP PER CAPITA.\n",
      "\n"
     ]
    }
   ],
   "source": [
    "print(f'''\n",
    "Regression equation: y_hat = {b0:.2f} + {b1:.2f} log_gdp per capita\n",
    "The slope means that for the happiness schore predicted by the model increase by 0.72 per one Log GDP PER CAPITA.\n",
    "The intercept means that with 0 GDP, the score is negative which does not make any sense.\n",
    "\n",
    "''')"
   ]
  },
  {
   "cell_type": "code",
   "execution_count": 14,
   "id": "29c9640f-d48b-44d9-951a-c0c8d3fd2f3a",
   "metadata": {},
   "outputs": [],
   "source": [
    "usa_predicted_score = b0 + b1 * 10.92577"
   ]
  },
  {
   "cell_type": "code",
   "execution_count": 18,
   "id": "d0b778a6-b300-40ff-9404-ed198d99f3a4",
   "metadata": {},
   "outputs": [
    {
     "data": {
      "text/plain": [
       "0.29680033840460585"
      ]
     },
     "execution_count": 18,
     "metadata": {},
     "output_type": "execute_result"
    }
   ],
   "source": [
    "6.94 - usa_predicted_score"
   ]
  },
  {
   "cell_type": "code",
   "execution_count": 22,
   "id": "ea1535d4-32e8-45e8-89d9-c02d1240e150",
   "metadata": {},
   "outputs": [
    {
     "data": {
      "text/plain": [
       "<matplotlib.collections.PathCollection at 0x1623c648130>"
      ]
     },
     "execution_count": 22,
     "metadata": {},
     "output_type": "execute_result"
    },
    {
     "data": {
      "image/png": "[encoded data removed]",
      "text/plain": [
       "<Figure size 432x288 with 1 Axes>"
      ]
     },
     "metadata": {
      "needs_background": "light"
     },
     "output_type": "display_data"
    }
   ],
   "source": [
    "plt.scatter(x=y, y=x)"
   ]
  },
  {
   "cell_type": "code",
   "execution_count": 24,
   "id": "050490d9-b42b-4e40-b06d-8d58c2938a45",
   "metadata": {},
   "outputs": [
    {
     "data": {
      "text/plain": [
       "86.39999999999964"
      ]
     },
     "execution_count": 24,
     "metadata": {},
     "output_type": "execute_result"
    }
   ],
   "source": [
    "5715.9 - 2.78*2025"
   ]
  },
  {
   "cell_type": "code",
   "execution_count": 26,
   "id": "d6f37b4b-e224-4d56-a366-814943adb3e5",
   "metadata": {},
   "outputs": [
    {
     "data": {
      "text/plain": [
       "0.9022194854911968"
      ]
     },
     "execution_count": 26,
     "metadata": {},
     "output_type": "execute_result"
    }
   ],
   "source": [
    "sqrt(0.814)"
   ]
  },
  {
   "cell_type": "code",
   "execution_count": 27,
   "id": "24f1faa5-3a37-4ffa-b764-0e4b3680f458",
   "metadata": {},
   "outputs": [
    {
     "data": {
      "text/plain": [
       "0.396957"
      ]
     },
     "execution_count": 27,
     "metadata": {},
     "output_type": "execute_result"
    }
   ],
   "source": [
    "def model_cig(x):\n",
    "    return 0.148305 + 0.062163*x\n",
    "\n",
    "model_cig(4)"
   ]
  },
  {
   "cell_type": "code",
   "execution_count": 31,
   "id": "d7ae9329-4cfb-41cc-a709-691206a07693",
   "metadata": {},
   "outputs": [
    {
     "data": {
      "text/plain": [
       "0.583446"
      ]
     },
     "execution_count": 31,
     "metadata": {},
     "output_type": "execute_result"
    }
   ],
   "source": [
    "df = pd.read_csv('./Ch7/Cigarettes.txt', sep='\\t')\n",
    "x = df.TAR\n",
    "y = df.Nicotine\n",
    "b1 = x.corr(y)*y.std()/x.std()\n",
    "model_cig(7)"
   ]
  },
  {
   "cell_type": "code",
   "execution_count": 32,
   "id": "b7e0bfce-e82c-4fbe-a9c2-1b9cb41648a9",
   "metadata": {},
   "outputs": [
    {
     "data": {
      "text/plain": [
       "0.6334460000000001"
      ]
     },
     "execution_count": 32,
     "metadata": {},
     "output_type": "execute_result"
    }
   ],
   "source": [
    "0.583446 + 0.05"
   ]
  },
  {
   "cell_type": "code",
   "execution_count": 36,
   "id": "bb5f4129-826a-448e-931b-f2d930f8fd5c",
   "metadata": {},
   "outputs": [
    {
     "name": "stdout",
     "output_type": "stream",
     "text": [
      "HCI hat = -147.94 + 0.01 MFI\n",
      "MFI = 44 993, model predict 329.39\n"
     ]
    }
   ],
   "source": [
    "# Exercice 49\n",
    "r = 0.624\n",
    "y_mean = 342.3\n",
    "y_std = 119.07\n",
    "x_mean = 46210\n",
    "x_std = 7003.55\n",
    "\n",
    "b1 = r*y_std/x_std\n",
    "b0 = y_mean - b1*x_mean\n",
    "print(f'HCI hat = {b0:.2f} + {b1:.2f} MFI')\n",
    "\n",
    "def linear_hci(x):\n",
    "    return b0 + b1*x\n",
    "\n",
    "\n",
    "print(f'MFI = 44 993, model predict {linear_hci(44993):.2f}')"
   ]
  },
  {
   "cell_type": "code",
   "execution_count": 37,
   "id": "c9327b8c-ba05-407c-aaae-1c3a0c3d6c49",
   "metadata": {},
   "outputs": [
    {
     "data": {
      "text/plain": [
       "218.63098236751358"
      ]
     },
     "execution_count": 37,
     "metadata": {},
     "output_type": "execute_result"
    }
   ],
   "source": [
    "548.02 - linear_hci(44993)"
   ]
  },
  {
   "cell_type": "code",
   "execution_count": 2,
   "id": "71d358e5-cef4-4307-a3f9-ac7469c04fbf",
   "metadata": {},
   "outputs": [
    {
     "name": "stdout",
     "output_type": "stream",
     "text": [
      "a. The regression line equation is: purchase = 539.80 + 1.10 age\n"
     ]
    }
   ],
   "source": [
    "# Exercice 51\n",
    "r = 0.037\n",
    "age_mean = 29.67\n",
    "age_std = 8.51\n",
    "purchase_mean = 572.52\n",
    "purchase_std = 253.62\n",
    "\n",
    "b1 = r*purchase_std/age_std\n",
    "b0 = purchase_mean - b1*age_mean\n",
    "\n",
    "print(f'a. The regression line equation is: purchase = {b0:.2f} + {b1:.2f} age')"
   ]
  },
  {
   "cell_type": "markdown",
   "id": "aaaee3a0-f247-4070-be24-e103a2605670",
   "metadata": {},
   "source": [
    "b. not really, the scatter does not show a linear relationship."
   ]
  },
  {
   "cell_type": "code",
   "execution_count": 3,
   "id": "8134126f-84a0-41bd-8577-88626942d1fd",
   "metadata": {},
   "outputs": [
    {
     "name": "stdout",
     "output_type": "stream",
     "text": [
      "For a 18 years old, purchase prediction is 559.65, and for a 50 years old, prediction is 594.94\n"
     ]
    }
   ],
   "source": [
    "def predict(x):\n",
    "    return b0+b1*x\n",
    "\n",
    "print(f'For a 18 years old, purchase prediction is {predict(18):.2f}, and for a 50 years old, prediction is {predict(50):.2f}')"
   ]
  },
  {
   "cell_type": "code",
   "execution_count": 5,
   "id": "1c148231-b338-4e90-bfa5-4b1ba7e29c11",
   "metadata": {},
   "outputs": [
    {
     "name": "stdout",
     "output_type": "stream",
     "text": [
      "The age account for 0.14% of the variability in total purchase.\n"
     ]
    }
   ],
   "source": [
    "print(f'The age account for {r**2*100:.2f}% of the variability in total purchase.')"
   ]
  },
  {
   "cell_type": "code",
   "execution_count": 7,
   "id": "940b6258-964e-4de7-bc4b-88fe22c35251",
   "metadata": {},
   "outputs": [
    {
     "data": {
      "text/plain": [
       "Index(['Verbal', 'Math', 'Sex'], dtype='object')"
      ]
     },
     "execution_count": 7,
     "metadata": {},
     "output_type": "execute_result"
    }
   ],
   "source": [
    "df = pd.read_csv('./Ch7/SAT_scores.txt', sep='\\t')\n",
    "df.columns"
   ]
  },
  {
   "cell_type": "code",
   "execution_count": 12,
   "id": "aedb0dba-8dce-4f79-ad0c-0903ed432306",
   "metadata": {},
   "outputs": [
    {
     "data": {
      "image/png": "[encoded data removed]",
      "text/plain": [
       "<Figure size 432x288 with 1 Axes>"
      ]
     },
     "metadata": {
      "needs_background": "light"
     },
     "output_type": "display_data"
    },
    {
     "name": "stdout",
     "output_type": "stream",
     "text": [
      "r=0.68, r^2=46.87%, b1=0.68\n"
     ]
    }
   ],
   "source": [
    "x = df.Verbal\n",
    "y = df.Math\n",
    "r = x.corr(y)\n",
    "b1 = r*y.std()/x.std()\n",
    "b0 = y.mean() - b1*x.mean()\n",
    "\n",
    "plt.scatter(x, y)\n",
    "plt.xlabel('Verbal SAT')\n",
    "plt.ylabel('Math SAT')\n",
    "plt.plot(x, b0 + b1*x, color='red')\n",
    "plt.show()\n",
    "print(f'r={r:.2f}, r^2={r**2*100:.2f}%, b1={b1:.2f}')"
   ]
  },
  {
   "cell_type": "markdown",
   "id": "31fe8e20-974b-44dc-a74b-f696d25e3b77",
   "metadata": {},
   "source": [
    "Correlation is 0.68. It means there is an association bettwen verbal and math score.\n",
    "The slope means that there is an increase of the math score of .68 point for each point made in verbat sat."
   ]
  },
  {
   "cell_type": "code",
   "execution_count": 13,
   "id": "14044b23-d3d0-4f2d-9f0e-309131931dca",
   "metadata": {},
   "outputs": [
    {
     "data": {
      "text/plain": [
       "547.0915633845563"
      ]
     },
     "execution_count": 13,
     "metadata": {},
     "output_type": "execute_result"
    }
   ],
   "source": [
    "b0 + b1*500"
   ]
  },
  {
   "cell_type": "code",
   "execution_count": 16,
   "id": "1331f27c-5bb3-46cc-8a9f-f8bfd7fc9f18",
   "metadata": {},
   "outputs": [
    {
     "data": {
      "text/plain": [
       "50.38599946733075"
      ]
     },
     "execution_count": 16,
     "metadata": {},
     "output_type": "execute_result"
    }
   ],
   "source": [
    "800 - (b0+b1*800)"
   ]
  },
  {
   "cell_type": "markdown",
   "id": "77f42241-5842-4568-93a0-fab9116a95bb",
   "metadata": {},
   "source": [
    "# Exercice 57\n",
    "For each year, the number of fire is down by 221.575.\n",
    "It means that in 1985, there were 78 791.6.\n",
    "The residual std is 12 397 fire. The average distance to the mean is 12 397 fires.\n",
    "The r says that year account for 2.7% of the variability in fire."
   ]
  },
  {
   "cell_type": "code",
   "execution_count": 19,
   "id": "19a71f48-eaff-4a47-94c1-f6ec0deafebb",
   "metadata": {},
   "outputs": [],
   "source": [
    "df = pd.read_csv('./Ch7/Used_convertables_2020.txt', sep='\\t')\n",
    "x = df.Age\n",
    "y = df.Price"
   ]
  },
  {
   "cell_type": "code",
   "execution_count": 20,
   "id": "27812934-6228-4bde-987d-ab7bb6a3150c",
   "metadata": {},
   "outputs": [
    {
     "data": {
      "text/plain": [
       "Text(0, 0.5, 'Price')"
      ]
     },
     "execution_count": 20,
     "metadata": {},
     "output_type": "execute_result"
    },
    {
     "data": {
      "image/png": "[encoded data removed]",
      "text/plain": [
       "<Figure size 432x288 with 1 Axes>"
      ]
     },
     "metadata": {
      "needs_background": "light"
     },
     "output_type": "display_data"
    }
   ],
   "source": [
    "plt.scatter(x, y)\n",
    "plt.xlabel('Age')\n",
    "plt.ylabel('Price')"
   ]
  },
  {
   "cell_type": "markdown",
   "id": "6facb616-071a-4090-b626-82ec592969f1",
   "metadata": {},
   "source": [
    "b. The association is moderately strong, negative and linear.\n",
    "\n",
    "c. A linear model is appropriate. Both variables are quantitative, the scatter is straight enough and there is no obvious outlier."
   ]
  },
  {
   "cell_type": "code",
   "execution_count": 21,
   "id": "e5be72d3-6aff-4a8f-8af0-9b3c49628e2b",
   "metadata": {},
   "outputs": [
    {
     "data": {
      "text/plain": [
       "0.24124474998929077"
      ]
     },
     "execution_count": 21,
     "metadata": {},
     "output_type": "execute_result"
    }
   ],
   "source": [
    "r = x.corr(y)\n",
    "r**2"
   ]
  },
  {
   "cell_type": "code",
   "execution_count": 22,
   "id": "76599c5e-a721-485d-a18b-2b619ce8f46c",
   "metadata": {},
   "outputs": [
    {
     "data": {
      "text/plain": [
       "-0.49116672321044996"
      ]
     },
     "execution_count": 22,
     "metadata": {},
     "output_type": "execute_result"
    }
   ],
   "source": [
    "r"
   ]
  },
  {
   "cell_type": "markdown",
   "id": "6f18a9a4-fdda-4ee8-9b9f-ebc1a09bfceb",
   "metadata": {},
   "source": [
    "R squared means that age accounts for 24% of price variability.\n",
    "There must be other variable like the type, the specificities of the car."
   ]
  },
  {
   "cell_type": "code",
   "execution_count": 23,
   "id": "e3350380-8113-4bc9-bae1-de9598a8b622",
   "metadata": {},
   "outputs": [
    {
     "name": "stdout",
     "output_type": "stream",
     "text": [
      "Equation: price hat = 32791.12 + -984.49*age.\n"
     ]
    }
   ],
   "source": [
    "b1 = r*y.std()/x.std()\n",
    "b0 = y.mean() - b1*x.mean()\n",
    "\n",
    "print(f'Equation: price hat = {b0:.2f} + {b1:.2f}*age.')"
   ]
  },
  {
   "cell_type": "markdown",
   "id": "638df494-bd82-4d42-9658-11aa15675824",
   "metadata": {},
   "source": [
    "Each year, the car lose 984.49 dollars in value.\n",
    "\n",
    "every car should cost 32 791 which does not make sense because we knows car come with different prices."
   ]
  },
  {
   "cell_type": "code",
   "execution_count": 24,
   "id": "c5e6883a-0e7c-4e4f-8b19-647129206e3f",
   "metadata": {},
   "outputs": [
    {
     "data": {
      "text/plain": [
       "22946.2381251966"
      ]
     },
     "execution_count": 24,
     "metadata": {},
     "output_type": "execute_result"
    }
   ],
   "source": [
    "b0 + b1*10"
   ]
  },
  {
   "cell_type": "code",
   "execution_count": 25,
   "id": "e3a52ea3-ae3a-4476-ac4f-e4ef57d48208",
   "metadata": {},
   "outputs": [
    {
     "data": {
      "text/plain": [
       "26884.190311418683"
      ]
     },
     "execution_count": 25,
     "metadata": {},
     "output_type": "execute_result"
    }
   ],
   "source": [
    "b0 +b1*6"
   ]
  },
  {
   "cell_type": "markdown",
   "id": "1d8df9e4-313d-44ca-8000-54c19e5d1a00",
   "metadata": {},
   "source": [
    "There is a huge residual, this car must be special or sold in canadian dollars."
   ]
  },
  {
   "cell_type": "code",
   "execution_count": 26,
   "id": "c0b295fe-840a-4f07-9a7f-e2eeb9713aec",
   "metadata": {},
   "outputs": [],
   "source": [
    "b0 = 5.0112\n",
    "b1 = -0.00513\n",
    "r_s = 3.9\n",
    "s = 0.6912\n"
   ]
  },
  {
   "cell_type": "code",
   "execution_count": 27,
   "id": "5694ef37-b811-47bb-a8cb-e749dcb361bf",
   "metadata": {},
   "outputs": [
    {
     "data": {
      "text/plain": [
       "Index(['Year', 'Temp', 'CO2 '], dtype='object')"
      ]
     },
     "execution_count": 27,
     "metadata": {},
     "output_type": "execute_result"
    }
   ],
   "source": [
    "df = pd.read_csv('./Ch7/Climate_change_2019.txt', sep='\\t')\n",
    "df.columns"
   ]
  },
  {
   "cell_type": "code",
   "execution_count": 32,
   "id": "e4be4cf2-8b5a-4839-8767-77d8f7fe9489",
   "metadata": {},
   "outputs": [
    {
     "data": {
      "text/plain": [
       "0.957897931007594"
      ]
     },
     "execution_count": 32,
     "metadata": {},
     "output_type": "execute_result"
    }
   ],
   "source": [
    "x = df['CO2 ']\n",
    "y = df.Temp\n",
    "\n",
    "r = x.corr(y)\n",
    "r"
   ]
  },
  {
   "cell_type": "markdown",
   "id": "31270ed8-58dd-4d81-9eb3-6ac8a94ac2fe",
   "metadata": {},
   "source": [
    "It means that co2 account for 91.8% of the temperature variability."
   ]
  },
  {
   "cell_type": "code",
   "execution_count": 35,
   "id": "06f52e92-7752-480d-8278-39d4b74150d0",
   "metadata": {},
   "outputs": [
    {
     "name": "stdout",
     "output_type": "stream",
     "text": [
      " temp = -3.45 + 0.0106*co2\n"
     ]
    }
   ],
   "source": [
    "b1 = r*y.std()/x.std()\n",
    "b0 = y.mean() - b1*x.mean()\n",
    "print(f' temp = {b0:.2f} + {b1:.4f}*co2')"
   ]
  },
  {
   "cell_type": "markdown",
   "id": "723fc411-b57a-4eee-9b04-e7bc936001e8",
   "metadata": {},
   "source": [
    "It means that for an increase of 1ppm of CO2 in the air, the temperature increase by 0.01 degree C.\n",
    "\n",
    "The intercept is not meaningfull, there is always Co2 in the air. But without co2, the temperature would be -3.4527\n",
    "\n",
    "The scatter is equality spread thoughout the graph, no pattern, no curve, no outlier."
   ]
  },
  {
   "cell_type": "code",
   "execution_count": 34,
   "id": "32a59d42-cb3f-4e95-997e-29bb6c1249de",
   "metadata": {},
   "outputs": [
    {
     "data": {
      "text/plain": [
       "1.3377217299188793"
      ]
     },
     "execution_count": 34,
     "metadata": {},
     "output_type": "execute_result"
    }
   ],
   "source": [
    "b0 + b1*450"
   ]
  },
  {
   "cell_type": "markdown",
   "id": "607129bf-3469-4a29-9c6d-8a23df3afb36",
   "metadata": {},
   "source": [
    "No it is just a prediction. The true value will varie around this prediction."
   ]
  },
  {
   "cell_type": "code",
   "execution_count": 36,
   "id": "8b40bd93-39e8-4212-9c0c-c94c25ca7c0b",
   "metadata": {},
   "outputs": [
    {
     "data": {
      "text/plain": [
       "Index(['Density', 'Pct.BF', 'Age', 'Weight', 'Height', 'Neck', 'Chest',\n",
       "       'Abdomen', 'Waist', 'Hip', 'Thigh', 'Knee', 'Ankle', 'Bicep', 'Forearm',\n",
       "       'Wrist'],\n",
       "      dtype='object')"
      ]
     },
     "execution_count": 36,
     "metadata": {},
     "output_type": "execute_result"
    }
   ],
   "source": [
    "df = pd.read_csv('./ch7/Bodyfat.txt', sep='\\t')\n",
    "df.columns"
   ]
  },
  {
   "cell_type": "code",
   "execution_count": 48,
   "id": "d4cb3ce2-0a21-4626-86af-4188d3bfbd8d",
   "metadata": {},
   "outputs": [
    {
     "data": {
      "text/plain": [
       "(0.1893763394743042, -14.693144537870417)"
      ]
     },
     "execution_count": 48,
     "metadata": {},
     "output_type": "execute_result"
    },
    {
     "data": {
      "image/png": "[encoded data removed]",
      "text/plain": [
       "<Figure size 432x288 with 1 Axes>"
      ]
     },
     "metadata": {
      "needs_background": "light"
     },
     "output_type": "display_data"
    }
   ],
   "source": [
    "x = df.Weight\n",
    "y = df['Pct.BF']\n",
    "r = x.corr(y)\n",
    "\n",
    "b1 = r*y.std()/x.std()\n",
    "b0 = y.mean() - b1*x.mean()\n",
    "\n",
    "def model(x):\n",
    "    return b0+b1*x\n",
    "\n",
    "plt.scatter(x, y)\n",
    "plt.plot(x, model(x), 'red')\n",
    "b1, b0"
   ]
  },
  {
   "cell_type": "markdown",
   "id": "f6879f3d-5955-42c9-af3b-3d0dfdd78b31",
   "metadata": {},
   "source": [
    "The body fat pct predicted is increasing by 0.189 for each pound of weight."
   ]
  },
  {
   "cell_type": "code",
   "execution_count": 41,
   "id": "96653547-92c9-4759-b583-eea06e55e13d",
   "metadata": {},
   "outputs": [
    {
     "data": {
      "text/plain": [
       "0.3810585969374137"
      ]
     },
     "execution_count": 41,
     "metadata": {},
     "output_type": "execute_result"
    }
   ],
   "source": [
    "r**2"
   ]
  },
  {
   "cell_type": "code",
   "execution_count": 49,
   "id": "fc59c9ba-7d5c-4d33-9ffd-8a536a5a900d",
   "metadata": {},
   "outputs": [
    {
     "data": {
      "text/plain": [
       "6.525124783439735"
      ]
     },
     "execution_count": 49,
     "metadata": {},
     "output_type": "execute_result"
    }
   ],
   "source": [
    "predictions = [b0+b1*a for a in x]\n",
    "residuals = y - predictions\n",
    "residuals.std()"
   ]
  },
  {
   "cell_type": "code",
   "execution_count": 50,
   "id": "8c1931eb-c0d3-4c11-be01-de1314ea2765",
   "metadata": {},
   "outputs": [
    {
     "data": {
      "text/plain": [
       "Index(['Mortality', 'Calcium', 'Region'], dtype='object')"
      ]
     },
     "execution_count": 50,
     "metadata": {},
     "output_type": "execute_result"
    }
   ],
   "source": [
    "df = pd.read_csv('./Ch7/Hard_water.txt', sep='\\t')\n",
    "df.columns"
   ]
  },
  {
   "cell_type": "code",
   "execution_count": 88,
   "id": "38144a33-1f66-457a-8cf9-8cc8cbe20e85",
   "metadata": {},
   "outputs": [],
   "source": [
    "class linear_model:\n",
    "    def __init__(self, method='pearson'):\n",
    "        self.method = method\n",
    "        \n",
    "    def train(self, x, y):\n",
    "        self.b1 = x.corr(y, self.method)*y.std()/x.std()\n",
    "        self.b0 = y.mean() - self.b1*x.mean()\n",
    "        self.r = x.corr(y)\n",
    "        self.r_squared = self.r**2\n",
    "        self.x = x\n",
    "        self.y = y\n",
    "\n",
    "    def predict(self, value):\n",
    "        self.prediction = self.b0 + self.b1*value\n",
    "        self.residuals = self.y - self.prediction\n",
    "        return self.prediction\n",
    "    \n",
    "    def rundown_residuals(self):\n",
    "        self.e = sqrt(self.residuals.sum()**2)/(len(self.residuals)-2)\n",
    "        self.se = self.residuals.std()\n",
    "        return {'e': self.e,\n",
    "                'se': self.se,\n",
    "                'r^2':self.r_squared\n",
    "               }\n",
    "    \n",
    "    def plot_residuals(self):\n",
    "        plt.scatter(self.residuals, self.y)\n",
    "        plt.xlabel('Residuals')\n",
    "        plt.ylabel('Observed values')\n",
    "    \n",
    "    def parameters(self):\n",
    "        return self.b0, self.b1"
   ]
  },
  {
   "cell_type": "code",
   "execution_count": 89,
   "id": "0497dc83-609f-46d8-a5b0-d95619692c83",
   "metadata": {},
   "outputs": [
    {
     "data": {
      "image/png": "[encoded data removed]",
      "text/plain": [
       "<Figure size 432x288 with 1 Axes>"
      ]
     },
     "metadata": {
      "needs_background": "light"
     },
     "output_type": "display_data"
    }
   ],
   "source": [
    "x = df.Calcium\n",
    "y = df.Mortality\n",
    "r = x.corr(y)\n",
    "\n",
    "model = linear_model()\n",
    "model.train(x, y)\n",
    "plt.scatter(x, y)\n",
    "plt.plot(x, model.predict(x), 'red')\n",
    "plt.show()"
   ]
  },
  {
   "cell_type": "markdown",
   "id": "d0f25bf5-155b-43e8-ba28-21e937965c93",
   "metadata": {},
   "source": [
    "The scatter plot shows a negative, linear and moderately strong association. A linear model is appropriate, no outliers, straight enough, no obvious outliers."
   ]
  },
  {
   "cell_type": "code",
   "execution_count": 91,
   "id": "c673b8b1-166c-4fce-97ec-bd01b74075c0",
   "metadata": {},
   "outputs": [
    {
     "name": "stdout",
     "output_type": "stream",
     "text": [
      "{'e': 5.00992844196952e-14, 'se': 141.83255027047474, 'r^2': 0.4288267193124972}\n",
      "(1676.3556007011584, -3.226091606244151)\n"
     ]
    }
   ],
   "source": [
    "print(model.rundown_residuals())\n",
    "print(model.parameters())"
   ]
  },
  {
   "cell_type": "markdown",
   "id": "80bddd04-2ed1-484d-baa1-3f47f9ec791f",
   "metadata": {},
   "source": [
    "It means that the mortaly rate predicted by the model decrease by 3.23 for each ppm of calcium.\n",
    "\n",
    "It means that our model overestimated the prediction by 348.6 death per 100 000 people.\n",
    "\n",
    "It means that calcium concentration in water accounts for 43% of the death rate variability."
   ]
  },
  {
   "cell_type": "code",
   "execution_count": 92,
   "id": "e1f4bbc5-1835-49bd-9015-2a6897e55cc8",
   "metadata": {},
   "outputs": [
    {
     "data": {
      "text/plain": [
       "1353.7464400767433"
      ]
     },
     "execution_count": 92,
     "metadata": {},
     "output_type": "execute_result"
    }
   ],
   "source": [
    "model.predict(100)"
   ]
  },
  {
   "cell_type": "code",
   "execution_count": 123,
   "id": "34159799-390a-4c46-8040-dd2cc0ec9689",
   "metadata": {},
   "outputs": [
    {
     "data": {
      "text/plain": [
       "[<matplotlib.lines.Line2D at 0x26f0314b2e0>]"
      ]
     },
     "execution_count": 123,
     "metadata": {},
     "output_type": "execute_result"
    },
    {
     "data": {
      "image/png": "[encoded data removed]",
      "text/plain": [
       "<Figure size 432x288 with 1 Axes>"
      ]
     },
     "metadata": {
      "needs_background": "light"
     },
     "output_type": "display_data"
    }
   ],
   "source": [
    "# Exercice 77\n",
    "a = (10, 10)\n",
    "b = (20, 50)\n",
    "c = (40, 20)\n",
    "d = (50, 80)\n",
    "numbers = [a, b, c, d]\n",
    "\n",
    "b0 = 7\n",
    "b1 = 1.1\n",
    "\n",
    "def line(x):\n",
    "    return b0+1.1*x\n",
    "\n",
    "\n",
    "x = np.arange(0, 55, 1)\n",
    "plt.plot(x, line(x))\n",
    "plt.plot(10 , 10, marker='o')\n",
    "plt.plot(20 , 50, marker='o')\n",
    "plt.plot(40 , 20, marker='o')\n",
    "plt.plot(50 , 80, marker='o')"
   ]
  },
  {
   "cell_type": "code",
   "execution_count": null,
   "id": "b21e05af-b55b-4e01-88f8-7f119f11bb20",
   "metadata": {},
   "outputs": [],
   "source": []
  },
  {
   "cell_type": "markdown",
   "id": "49c86bfd-c137-4f92-b8e4-6be529c3c153",
   "metadata": {},
   "source": [
    "It is the line that have the minimun distance between the closest point on the line and the four points."
   ]
  },
  {
   "cell_type": "code",
   "execution_count": 116,
   "id": "bd04f8fa-7065-42bb-8909-d88415b8a7c9",
   "metadata": {},
   "outputs": [
    {
     "name": "stdout",
     "output_type": "stream",
     "text": [
      "-7.105427357601002e-15\n"
     ]
    }
   ],
   "source": [
    "a = 0\n",
    "\n",
    "for n in numbers:\n",
    "    residual = n[1] - line(n[0])\n",
    "    a += residual\n",
    "print(a)"
   ]
  },
  {
   "cell_type": "code",
   "execution_count": 124,
   "id": "d4d7ef75-177d-4864-b155-8abbe3239eeb",
   "metadata": {},
   "outputs": [
    {
     "name": "stdout",
     "output_type": "stream",
     "text": [
      "-7.105427357601002e-15\n"
     ]
    }
   ],
   "source": [
    "a = 0\n",
    "\n",
    "for n in numbers:\n",
    "    residual = n[1] - line(n[0])\n",
    "    a += residual\n",
    "print(a)"
   ]
  },
  {
   "cell_type": "code",
   "execution_count": null,
   "id": "2e14642b-8f2f-4d8e-8635-d6b71cd21880",
   "metadata": {},
   "outputs": [],
   "source": []
  }
 ],
 "metadata": {
  "kernelspec": {
   "display_name": "Python 3 (ipykernel)",
   "language": "python",
   "name": "python3"
  },
  "language_info": {
   "codemirror_mode": {
    "name": "ipython",
    "version": 3
   },
   "file_extension": ".py",
   "mimetype": "text/x-python",
   "name": "python",
   "nbconvert_exporter": "python",
   "pygments_lexer": "ipython3",
   "version": "3.9.7"
  }
 },
 "nbformat": 4,
 "nbformat_minor": 5
}
