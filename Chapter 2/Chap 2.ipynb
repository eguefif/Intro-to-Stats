{
 "cells": [
  {
   "cell_type": "code",
   "execution_count": 13,
   "id": "217c4d4f-7e6c-43e7-b949-284752fe5f3b",
   "metadata": {},
   "outputs": [],
   "source": [
    "import pandas as pd\n",
    "import seaborn as sns\n",
    "import numpy as np\n",
    "import statistics as stat\n",
    "df = pd.read_csv('./Ch2/COL_Worldwide_2020.txt', sep='\\t', index_col=0)"
   ]
  },
  {
   "cell_type": "code",
   "execution_count": 11,
   "id": "8098e984-a8a6-47a4-98e7-7d35437e13a4",
   "metadata": {},
   "outputs": [
    {
     "data": {
      "text/plain": [
       "<AxesSubplot:xlabel='Cost of Living', ylabel='Count'>"
      ]
     },
     "execution_count": 11,
     "metadata": {},
     "output_type": "execute_result"
    },
    {
     "data": {
      "image/png": "[encoded data removed]",
      "text/plain": [
       "<Figure size 432x288 with 1 Axes>"
      ]
     },
     "metadata": {
      "needs_background": "light"
     },
     "output_type": "display_data"
    }
   ],
   "source": [
    "sns.histplot(df['Cost of Living'], bins=20)"
   ]
  },
  {
   "cell_type": "code",
   "execution_count": 3,
   "id": "373ac57b-d6e1-4b3d-911e-0fbb1bebd0a9",
   "metadata": {},
   "outputs": [],
   "source": [
    "#df2 = pd.read_csv('./Ch2/Credit_card_charges.txt', sep='\\t', index_col=0)\n",
    "with open('./Ch2/Credit_card_charges.txt', 'r') as f:\n",
    "    df2 = f.readlines()\n",
    "    df2 = df2[1:]\n",
    "    df2 = [float(entry.strip('\\n')) for entry in df2]"
   ]
  },
  {
   "cell_type": "code",
   "execution_count": 4,
   "id": "757657c5-f1bd-4f03-a988-9f6d2cf340c9",
   "metadata": {},
   "outputs": [
    {
     "data": {
      "text/plain": [
       "<AxesSubplot:ylabel='Count'>"
      ]
     },
     "execution_count": 4,
     "metadata": {},
     "output_type": "execute_result"
    },
    {
     "data": {
      "image/png": "[encoded data removed]",
      "text/plain": [
       "<Figure size 432x288 with 1 Axes>"
      ]
     },
     "metadata": {
      "needs_background": "light"
     },
     "output_type": "display_data"
    }
   ],
   "source": [
    "sns.histplot(df2[1:], bins=30)"
   ]
  },
  {
   "cell_type": "code",
   "execution_count": 20,
   "id": "0df1f492-31ce-4aea-bc2a-a07323e6c685",
   "metadata": {},
   "outputs": [
    {
     "ename": "TypeError",
     "evalue": "'numpy.float64' object is not callable",
     "output_type": "error",
     "traceback": [
      "\u001b[1;31m---------------------------------------------------------------------------\u001b[0m",
      "\u001b[1;31mTypeError\u001b[0m                                 Traceback (most recent call last)",
      "\u001b[1;32m~\\AppData\\Local\\Temp/ipykernel_87780/2328866801.py\u001b[0m in \u001b[0;36m<module>\u001b[1;34m\u001b[0m\n\u001b[0;32m      1\u001b[0m \u001b[1;32mfrom\u001b[0m \u001b[0mscipy\u001b[0m \u001b[1;32mimport\u001b[0m \u001b[0mstats\u001b[0m \u001b[1;32mas\u001b[0m \u001b[0mst\u001b[0m\u001b[1;33m\u001b[0m\u001b[1;33m\u001b[0m\u001b[0m\n\u001b[0;32m      2\u001b[0m \u001b[0mm\u001b[0m \u001b[1;33m=\u001b[0m \u001b[0mstat\u001b[0m\u001b[1;33m.\u001b[0m\u001b[0mmean\u001b[0m\u001b[1;33m(\u001b[0m\u001b[0mdf2\u001b[0m\u001b[1;33m)\u001b[0m\u001b[1;33m\u001b[0m\u001b[1;33m\u001b[0m\u001b[0m\n\u001b[1;32m----> 3\u001b[1;33m \u001b[0miqr\u001b[0m \u001b[1;33m=\u001b[0m \u001b[0miqr\u001b[0m\u001b[1;33m(\u001b[0m\u001b[0mdf2\u001b[0m\u001b[1;33m)\u001b[0m\u001b[1;33m\u001b[0m\u001b[1;33m\u001b[0m\u001b[0m\n\u001b[0m\u001b[0;32m      4\u001b[0m \u001b[0msd\u001b[0m \u001b[1;33m=\u001b[0m \u001b[0mstat\u001b[0m\u001b[1;33m.\u001b[0m\u001b[0mstdev\u001b[0m\u001b[1;33m(\u001b[0m\u001b[0mdf2\u001b[0m\u001b[1;33m)\u001b[0m\u001b[1;33m\u001b[0m\u001b[1;33m\u001b[0m\u001b[0m\n\u001b[0;32m      5\u001b[0m \u001b[0mprint\u001b[0m\u001b[1;33m(\u001b[0m\u001b[0mm\u001b[0m\u001b[1;33m,\u001b[0m \u001b[0miqr\u001b[0m\u001b[1;33m,\u001b[0m \u001b[0msd\u001b[0m\u001b[1;33m)\u001b[0m\u001b[1;33m\u001b[0m\u001b[1;33m\u001b[0m\u001b[0m\n",
      "\u001b[1;31mTypeError\u001b[0m: 'numpy.float64' object is not callable"
     ]
    }
   ],
   "source": [
    "m = stat.mean(df2)\n",
    "iqr = iqr(df2)\n",
    "sd = stat.stdev(df2)\n",
    "print(m, iqr, sd)"
   ]
  },
  {
   "cell_type": "markdown",
   "id": "222cefd4-8572-4b6a-a648-84e2c47fc427",
   "metadata": {},
   "source": [
    "The mean and standard deviation should be avoided because the outlier tend to influence the mean and the SD more than the median and the IQR. In this situation, the mean and the IQR are better suited to describe the distribution."
   ]
  },
  {
   "cell_type": "code",
   "execution_count": 49,
   "id": "e5c64c25-2b1d-4096-b85c-3c068a203c56",
   "metadata": {},
   "outputs": [
    {
     "data": {
      "text/plain": [
       "<AxesSubplot:ylabel='Count'>"
      ]
     },
     "execution_count": 49,
     "metadata": {},
     "output_type": "execute_result"
    },
    {
     "data": {
      "image/png": "[encoded data removed]",
      "text/plain": [
       "<Figure size 432x288 with 1 Axes>"
      ]
     },
     "metadata": {
      "needs_background": "light"
     },
     "output_type": "display_data"
    }
   ],
   "source": [
    "sns.histplot(df3.values, bins=25)"
   ]
  },
  {
   "cell_type": "code",
   "execution_count": 18,
   "id": "1b4218e4-abfe-4c0a-b40b-967a27c92443",
   "metadata": {},
   "outputs": [
    {
     "data": {
      "text/plain": [
       "<AxesSubplot:ylabel='Count'>"
      ]
     },
     "execution_count": 18,
     "metadata": {},
     "output_type": "execute_result"
    },
    {
     "data": {
      "image/png": "[encoded data removed]",
      "text/plain": [
       "<Figure size 432x288 with 1 Axes>"
      ]
     },
     "metadata": {
      "needs_background": "light"
     },
     "output_type": "display_data"
    }
   ],
   "source": [
    "df = pd.read_csv('./Ch2/Nissan.txt', sep='\\t')\n",
    "sns.histplot(df, bins=25)"
   ]
  },
  {
   "cell_type": "markdown",
   "id": "8abef5c6-5ff8-4ea0-851a-9ba26f706dcd",
   "metadata": {},
   "source": [
    "The distribution is unimodal around 21 and skwed to the left. It has a slight hump at around 23.5. There are outliers and lower range. Some MPG are around 10 and 17.\n",
    "\n",
    "Who : author's car\n",
    "What: MPG\n",
    "When: the first 100 fill-ups.\n",
    "Where: on roads\n",
    "Why: to see if there is a problem with the car.\n",
    "How: record MPG"
   ]
  },
  {
   "cell_type": "code",
   "execution_count": 26,
   "id": "80f68745-b6e5-40a6-b4be-0f5f6b92b406",
   "metadata": {},
   "outputs": [
    {
     "name": "stdout",
     "output_type": "stream",
     "text": [
      "\n",
      "Mean:mpg    22.41199\n",
      "dtype: float64\n",
      "standard deviation: mpg    2.434871\n",
      "dtype: float64\n",
      "Median: 22.051000000000002\n",
      "IQR: 3.1422500000000007\n",
      "\n"
     ]
    }
   ],
   "source": [
    "import numpy as np\n",
    "import scipy.stats as st\n",
    "print(f'''\n",
    "Mean:{np.mean(df)}\n",
    "standard deviation: {np.std(df)}\n",
    "Median: {np.median(df)}\n",
    "IQR: {st.iqr(df)}\n",
    "''')\n"
   ]
  },
  {
   "cell_type": "code",
   "execution_count": 33,
   "id": "0b3f0aed-482f-4c64-af4b-6de3a23739f2",
   "metadata": {},
   "outputs": [
    {
     "data": {
      "text/html": [
       "<div>\n",
       "<style scoped>\n",
       "    .dataframe tbody tr th:only-of-type {\n",
       "        vertical-align: middle;\n",
       "    }\n",
       "\n",
       "    .dataframe tbody tr th {\n",
       "        vertical-align: top;\n",
       "    }\n",
       "\n",
       "    .dataframe thead th {\n",
       "        text-align: right;\n",
       "    }\n",
       "</style>\n",
       "<table border=\"1\" class=\"dataframe\">\n",
       "  <thead>\n",
       "    <tr style=\"text-align: right;\">\n",
       "      <th></th>\n",
       "      <th>mpg</th>\n",
       "    </tr>\n",
       "  </thead>\n",
       "  <tbody>\n",
       "    <tr>\n",
       "      <th>count</th>\n",
       "      <td>100.000000</td>\n",
       "    </tr>\n",
       "    <tr>\n",
       "      <th>mean</th>\n",
       "      <td>22.411990</td>\n",
       "    </tr>\n",
       "    <tr>\n",
       "      <th>std</th>\n",
       "      <td>2.447137</td>\n",
       "    </tr>\n",
       "    <tr>\n",
       "      <th>min</th>\n",
       "      <td>14.684000</td>\n",
       "    </tr>\n",
       "    <tr>\n",
       "      <th>25%</th>\n",
       "      <td>20.842000</td>\n",
       "    </tr>\n",
       "    <tr>\n",
       "      <th>50%</th>\n",
       "      <td>22.051000</td>\n",
       "    </tr>\n",
       "    <tr>\n",
       "      <th>75%</th>\n",
       "      <td>23.984250</td>\n",
       "    </tr>\n",
       "    <tr>\n",
       "      <th>max</th>\n",
       "      <td>28.175000</td>\n",
       "    </tr>\n",
       "  </tbody>\n",
       "</table>\n",
       "</div>"
      ],
      "text/plain": [
       "              mpg\n",
       "count  100.000000\n",
       "mean    22.411990\n",
       "std      2.447137\n",
       "min     14.684000\n",
       "25%     20.842000\n",
       "50%     22.051000\n",
       "75%     23.984250\n",
       "max     28.175000"
      ]
     },
     "execution_count": 33,
     "metadata": {},
     "output_type": "execute_result"
    }
   ],
   "source": [
    "df.describe()"
   ]
  },
  {
   "cell_type": "code",
   "execution_count": 36,
   "id": "f348513d-0c01-4b25-86da-f821bfb9599c",
   "metadata": {},
   "outputs": [
    {
     "data": {
      "text/plain": [
       "{'confortable': [289, 4.201802849665601],\n",
       " 'basic': [2657, 38.6304158185519],\n",
       " 'just meet': [3297, 47.935446350683335],\n",
       " 'not enough': [594, 8.636231462634488],\n",
       " \"don't know\": [41, 0.59610351846467]}"
      ]
     },
     "execution_count": 36,
     "metadata": {},
     "output_type": "execute_result"
    }
   ],
   "source": [
    "# Exercice 1\n",
    "total = 289 + 2657 + 3297 + 594 + 41\n",
    "table = {'confortable': [289, 289/total*100],\n",
    "         'basic': [2657, 2657/total*100],\n",
    "         'just meet': [3297, 3297/total*100],\n",
    "         'not enough': [594, 594/total*100],\n",
    "         'don\\'t know': [41, 41/total*100],\n",
    "        }\n",
    "table"
   ]
  },
  {
   "cell_type": "code",
   "execution_count": 61,
   "id": "43869c09-0c34-44fe-9aa4-90ec6fb5bc6f",
   "metadata": {},
   "outputs": [
    {
     "data": {
      "text/plain": [
       "1300"
      ]
     },
     "execution_count": 61,
     "metadata": {},
     "output_type": "execute_result"
    },
    {
     "data": {
      "image/png": "[encoded data removed]",
      "text/plain": [
       "<Figure size 360x360 with 1 Axes>"
      ]
     },
     "metadata": {
      "needs_background": "light"
     },
     "output_type": "display_data"
    }
   ],
   "source": [
    "# Exercice 2\n",
    "data = pd.read_csv('./Ch2/More_Movies.txt', sep='\\t')\n",
    "sns.catplot(data=data, x='Genre', kind='count')\n",
    "data['Genre'].\n",
    "# data.columns"
   ]
  },
  {
   "cell_type": "markdown",
   "id": "438bbb28-4cbd-4d82-99f4-d87c6add75c5",
   "metadata": {},
   "source": [
    "a. The pie chart gives an idea of the distribution but it would be easier to have a bar chart to compare type of movie distribution\n",
    "b. The least common was documentary"
   ]
  },
  {
   "cell_type": "markdown",
   "id": "33c8dfa2-cd84-44aa-b362-f714772a46d3",
   "metadata": {},
   "source": [
    "## Exercice 5\n",
    "2012=> D It has to be either D or B because the cat G is almost absent. In D there are more PG movies which is consistant with the year 2012\n",
    "2014 => B, elimination of D\n",
    "2006 => c because they are more PG13 movies\n",
    "2008 => A\n",
    "\n"
   ]
  },
  {
   "cell_type": "code",
   "execution_count": 2,
   "id": "df9187da-0456-4762-a327-1a2574b18453",
   "metadata": {},
   "outputs": [],
   "source": [
    "# Exercie 9\n",
    "df = pd.read_csv('./Ch2/Bodyfat.txt', sep='\\t')"
   ]
  },
  {
   "cell_type": "code",
   "execution_count": 3,
   "id": "cf169835-8df4-4cf9-b4c4-cc133d4bacf6",
   "metadata": {},
   "outputs": [
    {
     "data": {
      "text/plain": [
       "Index(['Density', 'Pct.BF', 'Age', 'Weight', 'Height', 'Neck', 'Chest',\n",
       "       'Abdomen', 'Waist', 'Hip', 'Thigh', 'Knee', 'Ankle', 'Bicep', 'Forearm',\n",
       "       'Wrist'],\n",
       "      dtype='object')"
      ]
     },
     "execution_count": 3,
     "metadata": {},
     "output_type": "execute_result"
    }
   ],
   "source": [
    "df.columns"
   ]
  },
  {
   "cell_type": "code",
   "execution_count": 6,
   "id": "c1c91397-cad6-4119-b8eb-0da07b184543",
   "metadata": {},
   "outputs": [
    {
     "data": {
      "text/plain": [
       "<AxesSubplot:xlabel='Bicep', ylabel='Count'>"
      ]
     },
     "execution_count": 6,
     "metadata": {},
     "output_type": "execute_result"
    },
    {
     "data": {
      "image/png": "[encoded data removed]",
      "text/plain": [
       "<Figure size 432x288 with 1 Axes>"
      ]
     },
     "metadata": {
      "needs_background": "light"
     },
     "output_type": "display_data"
    }
   ],
   "source": [
    "sns.histplot(data=df, x='Bicep')"
   ]
  },
  {
   "cell_type": "markdown",
   "id": "e5bb401b-5f1a-48c3-921f-cac2cbb425b2",
   "metadata": {},
   "source": [
    "The distribution is unimodal, a little bit skewd on the left with no outliers. The mode is around 32.\n",
    "\n",
    "It is mound-shaped, roughly a bell shape."
   ]
  },
  {
   "cell_type": "code",
   "execution_count": 15,
   "id": "b2155b09-e87c-48ef-923d-932e04ba6b4b",
   "metadata": {},
   "outputs": [
    {
     "data": {
      "text/plain": [
       "Index(['Brewpubs', 'Year'], dtype='object')"
      ]
     },
     "execution_count": 15,
     "metadata": {},
     "output_type": "execute_result"
    }
   ],
   "source": [
    "# Exercice 17\n",
    "df = pd.read_csv('./Ch2/Brewpubs.txt', sep='\\t')\n",
    "df.columns"
   ]
  },
  {
   "cell_type": "code",
   "execution_count": 12,
   "id": "7d9f015e-a31b-40fe-a094-1004eb23d439",
   "metadata": {},
   "outputs": [
    {
     "data": {
      "text/plain": [
       "<AxesSubplot:xlabel='Brewpubs', ylabel='Count'>"
      ]
     },
     "execution_count": 12,
     "metadata": {},
     "output_type": "execute_result"
    },
    {
     "data": {
      "image/png": "[encoded data removed]",
      "text/plain": [
       "<Figure size 432x288 with 1 Axes>"
      ]
     },
     "metadata": {
      "needs_background": "light"
     },
     "output_type": "display_data"
    }
   ],
   "source": [
    "sns.histplot(data=df, x='Brewpubs')"
   ]
  },
  {
   "cell_type": "markdown",
   "id": "9d04fb2c-c566-4ac1-afd4-1607950c9dcf",
   "metadata": {},
   "source": [
    "a. The mean will be bigger since the distribution is skewed to the right.\n",
    "It won't change much.\n",
    "b. The median would be better since the distribution is bot symetric and skewd to the right"
   ]
  },
  {
   "cell_type": "markdown",
   "id": "c305d226-d381-49dd-90a6-ef7582d97b93",
   "metadata": {},
   "source": [
    "# Exercice 21\n",
    "The IQR is more accurante because the distribution is skewed to the right. The STD, based on the mean, is less accurate."
   ]
  },
  {
   "cell_type": "markdown",
   "id": "762bdbe8-3b18-4c73-b64e-7be1e7eb9c14",
   "metadata": {},
   "source": [
    "# Exercice 25\n",
    "Graphs in the news: Find a bar chart of categorical data from a newspaper, a magazine, or the Internet.\n",
    "Link to the graph: https://www.nytimes.com/2018/11/29/learning/whats-going-on-in-this-graph-dec-5-2018.html\n",
    "\n",
    "Is the graph clearly labeled?\n",
    "yes\n",
    "\n",
    "Does it violate the area principle?\n",
    "No, there is no 3d. It is flat and respect areas. I checked visually the fractions\n",
    "\n",
    "Does the accompanying article tell the W’s of the variable?\n",
    "Who: Children who benefited from the de DACA program.\n",
    "What: states, numbers of children they called them Dreamers\n",
    "Why: For different articles in the NYTimes talking about the end of the program declared by Trump.\n",
    "Where: in the US\n",
    "When: december 2018\n",
    "How : they use the Immigration services numbers.\n",
    "\n",
    "Do you think the article correctly interprets the data? Explain.\n",
    "What they say is right but they could say more. They say that a typical Dreamers lives in LA. They could also say that most of the dreamers lives in states near the border with Mexico."
   ]
  },
  {
   "cell_type": "markdown",
   "id": "d77c6e1e-bcef-49ba-a253-1ed236f8b6b4",
   "metadata": {},
   "source": [
    "Histogram Find a histogram that shows the distribution of a variable in a newspaper, a magazine, or the Internet.\n",
    "https://www.nytimes.com/2018/11/22/learning/whats-going-on-in-this-graph-nov-28-2018.html\n",
    "\n",
    "Does the article identify the W’s?\n",
    "What: woman having their first baby\n",
    "Who: Age in years\n",
    "Where: in the ISA\n",
    "When: 1980 and 2016\n",
    "Why: the article wants to show differences between education and geography\n",
    "How: They gather birth certificate from the NCH statistics. They did not use cata from counties with less than 10 birth. They average data for each year with past two years. I don't really understand that.\n",
    "\n",
    "Discuss whether the display is appropriate.\n",
    "The display is appropriate. It is a quantitative variable. On the y-axis, they use a %. I think it is the percentage of the overall first baby mother.\n",
    "\n",
    "Discuss what the display reveals about the variable and its distribution.\n",
    "In the 2016 graph is roughly symetric, slightly skewed to the right. There is two mode, one at 20 and another one at 28. In the article, they explain that it could be because of the rural and city average or education. There is no outliers.\n",
    "\n",
    "Does the article accurately describe and interpret the data? Explain.\n",
    "They don't really talk about this graph. But we can understand why there are two mode. A first group of mother, who does not have a post-secondary school education, might have their first born earlier. The other group, educated with carreer job, might decide to deffer natality. Firstly because they don't have a good enough economic situation to have babies. Then, they might want to favor their carreer over fanily after there're graduaded.\n",
    "The other group don't have to think that way. Their economic situation, for most of them, does not allow them to have a carreer like an educated person.\n",
    "It could be interested to study the overlaps between education and geography. Most of the schools and post-seconary jobs are in big cities. People might move from the country to study side and stay in cities to work."
   ]
  },
  {
   "cell_type": "markdown",
   "id": "422bb5e2-284d-4750-8ca7-830d76ca93b3",
   "metadata": {
    "tags": []
   },
   "source": [
    "# Exercice 29\n",
    "Centers in the news Find an article in a newspaper, a magazine, or the Internet that discusses an “average.”\n",
    "\n",
    "Does the article discuss the W’s for the data?\n",
    "What are the units of the variable?\n",
    "Is the average used the median or the mean? How can you tell?\n",
    "Is the choice of median or mean appropriate for the situation? Explain."
   ]
  },
  {
   "cell_type": "markdown",
   "id": "713e9c48-226e-4681-a1e4-6ec0344f61e0",
   "metadata": {},
   "source": [
    "# exercice 35\n",
    "A. Thriller suspense were more common than adventure\n",
    "B. The bar chart is way easier since we can compare from a common perspective."
   ]
  },
  {
   "cell_type": "markdown",
   "id": "4562e717-32cb-45ae-b000-bd4b8dee4396",
   "metadata": {},
   "source": [
    "# Exercice 39\n",
    "a. yeah it is because the sum of these two makes 29.4%. It works in the case there is no overlap between categories.\n",
    "b.36.7\n"
   ]
  },
  {
   "cell_type": "code",
   "execution_count": 31,
   "id": "78bb66c9-9955-4eb6-b9c6-c7aa695efe80",
   "metadata": {},
   "outputs": [
    {
     "data": {
      "image/png": "[encoded data removed]",
      "text/plain": [
       "<Figure size 576x288 with 1 Axes>"
      ]
     },
     "metadata": {
      "needs_background": "light"
     },
     "output_type": "display_data"
    }
   ],
   "source": [
    "import matplotlib.pyplot as plt\n",
    "data = {'heart disease': 24.2,\n",
    "        'Cancer': 21.9,\n",
    "        'Accidents': 7.6,\n",
    "        'Lung diseases': 5.2,\n",
    "        'Stroke': 4.3,\n",
    "        'other': 36.7}\n",
    "labels = data.keys()\n",
    "values = data.values()\n",
    "plt.figure(figsize=(8, 4))\n",
    "plt.bar(labels, values)\n",
    "plt.show()"
   ]
  },
  {
   "cell_type": "markdown",
   "id": "26aa46f8-37e3-490c-83e5-3e090915c996",
   "metadata": {},
   "source": [
    "# Exercice 43\n",
    "This graph does not respect the are principle. It should be flat to do so.\n",
    "The sum of the % does not equel 100."
   ]
  },
  {
   "cell_type": "markdown",
   "id": "755b1b4d-2d40-46eb-81c0-72196503c2f4",
   "metadata": {},
   "source": [
    "# Exercice 47\n",
    "The mean might we higher than the STD because the graph is skewed to the right. A lot of high value pull the mean higher.\n",
    "b. The distribution is skewed to the right, It has two mode, One around8 and the other one is the first bin, around 2. There is no visible outlier. It is not symetric.\n",
    "c. I would use median and IQR because the distribution is not symetric."
   ]
  },
  {
   "cell_type": "code",
   "execution_count": 32,
   "id": "b05d8370-20ae-4b6f-9a97-7095cf4beccf",
   "metadata": {},
   "outputs": [],
   "source": [
    "df = pd.read_csv('./Ch2/Heart_attack_stays.txt', sep='\\t')"
   ]
  },
  {
   "cell_type": "code",
   "execution_count": 34,
   "id": "af4f8671-8b5b-40c2-ab5c-2d18a3cb65bf",
   "metadata": {},
   "outputs": [
    {
     "data": {
      "text/html": [
       "<div>\n",
       "<style scoped>\n",
       "    .dataframe tbody tr th:only-of-type {\n",
       "        vertical-align: middle;\n",
       "    }\n",
       "\n",
       "    .dataframe tbody tr th {\n",
       "        vertical-align: top;\n",
       "    }\n",
       "\n",
       "    .dataframe thead th {\n",
       "        text-align: right;\n",
       "    }\n",
       "</style>\n",
       "<table border=\"1\" class=\"dataframe\">\n",
       "  <thead>\n",
       "    <tr style=\"text-align: right;\">\n",
       "      <th></th>\n",
       "      <th>Stay(days)</th>\n",
       "      <th>Age(years)</th>\n",
       "    </tr>\n",
       "  </thead>\n",
       "  <tbody>\n",
       "    <tr>\n",
       "      <th>count</th>\n",
       "      <td>5065.000000</td>\n",
       "      <td>5065.000000</td>\n",
       "    </tr>\n",
       "    <tr>\n",
       "      <th>mean</th>\n",
       "      <td>8.242448</td>\n",
       "      <td>71.344126</td>\n",
       "    </tr>\n",
       "    <tr>\n",
       "      <th>std</th>\n",
       "      <td>5.716034</td>\n",
       "      <td>12.488171</td>\n",
       "    </tr>\n",
       "    <tr>\n",
       "      <th>min</th>\n",
       "      <td>0.000000</td>\n",
       "      <td>21.000000</td>\n",
       "    </tr>\n",
       "    <tr>\n",
       "      <th>25%</th>\n",
       "      <td>4.000000</td>\n",
       "      <td>64.000000</td>\n",
       "    </tr>\n",
       "    <tr>\n",
       "      <th>50%</th>\n",
       "      <td>7.000000</td>\n",
       "      <td>73.000000</td>\n",
       "    </tr>\n",
       "    <tr>\n",
       "      <th>75%</th>\n",
       "      <td>11.000000</td>\n",
       "      <td>80.000000</td>\n",
       "    </tr>\n",
       "    <tr>\n",
       "      <th>max</th>\n",
       "      <td>38.000000</td>\n",
       "      <td>102.000000</td>\n",
       "    </tr>\n",
       "  </tbody>\n",
       "</table>\n",
       "</div>"
      ],
      "text/plain": [
       "        Stay(days)   Age(years)\n",
       "count  5065.000000  5065.000000\n",
       "mean      8.242448    71.344126\n",
       "std       5.716034    12.488171\n",
       "min       0.000000    21.000000\n",
       "25%       4.000000    64.000000\n",
       "50%       7.000000    73.000000\n",
       "75%      11.000000    80.000000\n",
       "max      38.000000   102.000000"
      ]
     },
     "execution_count": 34,
     "metadata": {},
     "output_type": "execute_result"
    }
   ],
   "source": [
    "df.describe()"
   ]
  },
  {
   "cell_type": "markdown",
   "id": "95c9a1af-2b6b-4918-8417-3385e0667bf3",
   "metadata": {},
   "source": [
    "# Exercice 51\n",
    "a. We can see two mode. One around 76 and another one, lower, around 63.\n",
    "On each side of the low mode, the distribution is skewed to the right, the left fo the other one. I don't see any outliers.\n",
    "\n",
    "b. There is no proper center. Thus, center statistics might be misguiding. We might have two cluster that should be also studied separately. "
   ]
  },
  {
   "cell_type": "code",
   "execution_count": 37,
   "id": "56f8316d-76f1-48e0-8b1a-7fbb7b5194e2",
   "metadata": {},
   "outputs": [
    {
     "data": {
      "text/html": [
       "<div>\n",
       "<style scoped>\n",
       "    .dataframe tbody tr th:only-of-type {\n",
       "        vertical-align: middle;\n",
       "    }\n",
       "\n",
       "    .dataframe tbody tr th {\n",
       "        vertical-align: top;\n",
       "    }\n",
       "\n",
       "    .dataframe thead th {\n",
       "        text-align: right;\n",
       "    }\n",
       "</style>\n",
       "<table border=\"1\" class=\"dataframe\">\n",
       "  <thead>\n",
       "    <tr style=\"text-align: right;\">\n",
       "      <th></th>\n",
       "      <th>Floods</th>\n",
       "      <th>Year</th>\n",
       "    </tr>\n",
       "  </thead>\n",
       "  <tbody>\n",
       "    <tr>\n",
       "      <th>count</th>\n",
       "      <td>25.000000</td>\n",
       "      <td>25.000000</td>\n",
       "    </tr>\n",
       "    <tr>\n",
       "      <th>mean</th>\n",
       "      <td>85.400000</td>\n",
       "      <td>2007.000000</td>\n",
       "    </tr>\n",
       "    <tr>\n",
       "      <th>std</th>\n",
       "      <td>36.031236</td>\n",
       "      <td>7.359801</td>\n",
       "    </tr>\n",
       "    <tr>\n",
       "      <th>min</th>\n",
       "      <td>29.000000</td>\n",
       "      <td>1995.000000</td>\n",
       "    </tr>\n",
       "    <tr>\n",
       "      <th>25%</th>\n",
       "      <td>56.000000</td>\n",
       "      <td>2001.000000</td>\n",
       "    </tr>\n",
       "    <tr>\n",
       "      <th>50%</th>\n",
       "      <td>82.000000</td>\n",
       "      <td>2007.000000</td>\n",
       "    </tr>\n",
       "    <tr>\n",
       "      <th>75%</th>\n",
       "      <td>113.000000</td>\n",
       "      <td>2013.000000</td>\n",
       "    </tr>\n",
       "    <tr>\n",
       "      <th>max</th>\n",
       "      <td>176.000000</td>\n",
       "      <td>2019.000000</td>\n",
       "    </tr>\n",
       "  </tbody>\n",
       "</table>\n",
       "</div>"
      ],
      "text/plain": [
       "           Floods         Year\n",
       "count   25.000000    25.000000\n",
       "mean    85.400000  2007.000000\n",
       "std     36.031236     7.359801\n",
       "min     29.000000  1995.000000\n",
       "25%     56.000000  2001.000000\n",
       "50%     82.000000  2007.000000\n",
       "75%    113.000000  2013.000000\n",
       "max    176.000000  2019.000000"
      ]
     },
     "execution_count": 37,
     "metadata": {},
     "output_type": "execute_result"
    }
   ],
   "source": [
    "# Exercice 55\n",
    "df = pd.read_csv('./Ch2/Floods_2019.txt', sep='\\t')\n",
    "df.describe()"
   ]
  },
  {
   "cell_type": "markdown",
   "id": "62cb69aa-ab55-4d22-883b-ff707c027dc9",
   "metadata": {},
   "source": [
    "a. 85.4\n",
    "b. median 82, q1 56, q3 113\n",
    "c range: 147, IQR: 57"
   ]
  },
  {
   "cell_type": "code",
   "execution_count": 39,
   "id": "e006a491-1790-40bc-bba2-84dfa03bf38f",
   "metadata": {},
   "outputs": [],
   "source": [
    "# Exercice 61\n",
    "df = pd.read_csv('./Ch2/Pizza_prices.txt', sep='\\t')\n"
   ]
  },
  {
   "cell_type": "markdown",
   "id": "3598aa04-b5c7-4088-b36b-cde6bb672084",
   "metadata": {},
   "source": [
    "a. It would be closer than 2.6 because, other than the data after 3, it is not too high. Data are either -0.4 minimun and +0.6\n",
    "b. It will be 0.15 because the range is 1 and most of the data are in a more or less 0.2"
   ]
  },
  {
   "cell_type": "markdown",
   "id": "05832283-896f-495a-97cb-3141f0eb3f7b",
   "metadata": {},
   "source": [
    "# Exercice 65\n",
    "IQR = 18\n",
    "SD = 16.6\n",
    "a. Half of the movies are between 98 and 116 minutes long.\n",
    " The average distance to the mean is 16.6 minutes.\n",
    " Tipycally, mobie lengths varied from the mean run time by 16.6 minutes.\n",
    "b. There is one outlier around 40 minutes meaning that the SD might be not as accurate than the IQR."
   ]
  },
  {
   "cell_type": "markdown",
   "id": "904427a7-586e-425d-bd7c-9bd75aebffcd",
   "metadata": {},
   "source": [
    "# Exercice 67\n",
    "The industry uses the median. It is lower than the mean in this case because the distribution is heavely skewed to the right with a lot of outliers on the far right end. The watchdog uses the mean."
   ]
  },
  {
   "cell_type": "markdown",
   "id": "dde6a66d-6c83-4fc9-8881-9de31e797cd3",
   "metadata": {},
   "source": [
    "# Exercice 71\n",
    "Median is 4.5\n",
    "IQR = 5\n",
    "Q3 = 7.5\n",
    "Q1 = 2.5\n",
    "\n",
    "The distribution is skewed to the right. There is a mode at 4 which is also the median. There is an outlier at 37 and 32"
   ]
  },
  {
   "cell_type": "code",
   "execution_count": 6,
   "id": "b1916213-3393-47af-abc3-e787f8d75e6c",
   "metadata": {},
   "outputs": [],
   "source": [
    "# Exercice 75\n",
    "import pandas as pd\n",
    "import numpy as np\n",
    "import seaborn as sns\n",
    "import matplotlib.pyplot as plt"
   ]
  },
  {
   "cell_type": "code",
   "execution_count": 2,
   "id": "3306356a-0936-40c0-8b5e-19c96e62aa08",
   "metadata": {},
   "outputs": [],
   "source": [
    "df = pd.read_csv('./Ch2/A-Rod.txt', sep='\\t')"
   ]
  },
  {
   "cell_type": "code",
   "execution_count": 7,
   "id": "69e9a663-aab1-4cf4-b9eb-8ee980ebf1f2",
   "metadata": {},
   "outputs": [
    {
     "data": {
      "text/plain": [
       "<AxesSubplot:xlabel='Year', ylabel='HR'>"
      ]
     },
     "execution_count": 7,
     "metadata": {},
     "output_type": "execute_result"
    },
    {
     "data": {
      "image/png": "[encoded data removed]",
      "text/plain": [
       "<Figure size 648x288 with 1 Axes>"
      ]
     },
     "metadata": {
      "needs_background": "light"
     },
     "output_type": "display_data"
    }
   ],
   "source": [
    "plt.figure(figsize=(9, 4))\n",
    "sns.barplot(data=df, x='Year', y='HR')"
   ]
  },
  {
   "cell_type": "markdown",
   "id": "ce00b543-623f-4c2e-9778-bae16f8e6bc4",
   "metadata": {},
   "source": [
    "This grah is a time plot made with a histogram. It just shows trend and evolution over time."
   ]
  },
  {
   "cell_type": "code",
   "execution_count": 12,
   "id": "d6483346-50b3-4609-ac00-145a0cb175ac",
   "metadata": {},
   "outputs": [
    {
     "data": {
      "text/plain": [
       "<AxesSubplot:xlabel='HR', ylabel='Count'>"
      ]
     },
     "execution_count": 12,
     "metadata": {},
     "output_type": "execute_result"
    },
    {
     "data": {
      "image/png": "[encoded data removed]",
      "text/plain": [
       "<Figure size 432x288 with 1 Axes>"
      ]
     },
     "metadata": {
      "needs_background": "light"
     },
     "output_type": "display_data"
    }
   ],
   "source": [
    "sns.histplot(data=df, x='HR', bins=10)"
   ]
  },
  {
   "cell_type": "markdown",
   "id": "030a392f-44ab-401a-8c27-479a88e1683b",
   "metadata": {},
   "source": [
    "# Exercice 79\n",
    "The bars are way to big. It would be better to increase the number of bins to have a better picture."
   ]
  },
  {
   "cell_type": "code",
   "execution_count": 31,
   "id": "61bc8113-09ce-47c6-84ab-7bc34232cbf5",
   "metadata": {},
   "outputs": [
    {
     "data": {
      "text/plain": [
       "<AxesSubplot:xlabel='score', ylabel='Count'>"
      ]
     },
     "execution_count": 31,
     "metadata": {},
     "output_type": "execute_result"
    },
    {
     "data": {
      "image/png": "[encoded data removed]",
      "text/plain": [
       "<Figure size 432x288 with 1 Axes>"
      ]
     },
     "metadata": {
      "needs_background": "light"
     },
     "output_type": "display_data"
    }
   ],
   "source": [
    "# Exercie 83\n",
    "df = pd.read_csv('./Ch2/Math_scores_2019.txt', sep='\\t')\n",
    "df['score'] = df['score'].replace('*222', '222')\n",
    "df['score'] = df['score'].astype('int')\n",
    "sns.histplot(data=df, x='score')"
   ]
  },
  {
   "cell_type": "code",
   "execution_count": 30,
   "id": "b89ed595-e537-4bff-8f67-e40bc6b0cdc3",
   "metadata": {},
   "outputs": [
    {
     "data": {
      "text/html": [
       "<div>\n",
       "<style scoped>\n",
       "    .dataframe tbody tr th:only-of-type {\n",
       "        vertical-align: middle;\n",
       "    }\n",
       "\n",
       "    .dataframe tbody tr th {\n",
       "        vertical-align: top;\n",
       "    }\n",
       "\n",
       "    .dataframe thead th {\n",
       "        text-align: right;\n",
       "    }\n",
       "</style>\n",
       "<table border=\"1\" class=\"dataframe\">\n",
       "  <thead>\n",
       "    <tr style=\"text-align: right;\">\n",
       "      <th></th>\n",
       "      <th>score</th>\n",
       "    </tr>\n",
       "  </thead>\n",
       "  <tbody>\n",
       "    <tr>\n",
       "      <th>count</th>\n",
       "      <td>52.000000</td>\n",
       "    </tr>\n",
       "    <tr>\n",
       "      <th>mean</th>\n",
       "      <td>279.903846</td>\n",
       "    </tr>\n",
       "    <tr>\n",
       "      <th>std</th>\n",
       "      <td>10.142629</td>\n",
       "    </tr>\n",
       "    <tr>\n",
       "      <th>min</th>\n",
       "      <td>222.000000</td>\n",
       "    </tr>\n",
       "    <tr>\n",
       "      <th>25%</th>\n",
       "      <td>276.000000</td>\n",
       "    </tr>\n",
       "    <tr>\n",
       "      <th>50%</th>\n",
       "      <td>280.500000</td>\n",
       "    </tr>\n",
       "    <tr>\n",
       "      <th>75%</th>\n",
       "      <td>286.000000</td>\n",
       "    </tr>\n",
       "    <tr>\n",
       "      <th>max</th>\n",
       "      <td>294.000000</td>\n",
       "    </tr>\n",
       "  </tbody>\n",
       "</table>\n",
       "</div>"
      ],
      "text/plain": [
       "            score\n",
       "count   52.000000\n",
       "mean   279.903846\n",
       "std     10.142629\n",
       "min    222.000000\n",
       "25%    276.000000\n",
       "50%    280.500000\n",
       "75%    286.000000\n",
       "max    294.000000"
      ]
     },
     "execution_count": 30,
     "metadata": {},
     "output_type": "execute_result"
    }
   ],
   "source": [
    "df.describe()"
   ]
  },
  {
   "cell_type": "markdown",
   "id": "784e7ad5-40b2-4ed8-8957-15f9bee09c40",
   "metadata": {},
   "source": [
    "Median: 280.5\n",
    "IQR: 10\n",
    "Mean: 279.9\n",
    "SD: 10.14\n",
    "\n",
    "I would report the median and IQR since there is a huge outlier. But it seems they are pretty close.\n",
    "\n",
    "A typical four grader will score 280 in maths. The middle half of the population will score in a range between 276 and 286."
   ]
  },
  {
   "cell_type": "code",
   "execution_count": 32,
   "id": "2277b0c4-d179-46a6-8c41-c09eace27d3c",
   "metadata": {},
   "outputs": [
    {
     "data": {
      "text/html": [
       "<div>\n",
       "<style scoped>\n",
       "    .dataframe tbody tr th:only-of-type {\n",
       "        vertical-align: middle;\n",
       "    }\n",
       "\n",
       "    .dataframe tbody tr th {\n",
       "        vertical-align: top;\n",
       "    }\n",
       "\n",
       "    .dataframe thead th {\n",
       "        text-align: right;\n",
       "    }\n",
       "</style>\n",
       "<table border=\"1\" class=\"dataframe\">\n",
       "  <thead>\n",
       "    <tr style=\"text-align: right;\">\n",
       "      <th></th>\n",
       "      <th>score</th>\n",
       "    </tr>\n",
       "  </thead>\n",
       "  <tbody>\n",
       "    <tr>\n",
       "      <th>count</th>\n",
       "      <td>51.000000</td>\n",
       "    </tr>\n",
       "    <tr>\n",
       "      <th>mean</th>\n",
       "      <td>281.039216</td>\n",
       "    </tr>\n",
       "    <tr>\n",
       "      <th>std</th>\n",
       "      <td>6.046357</td>\n",
       "    </tr>\n",
       "    <tr>\n",
       "      <th>min</th>\n",
       "      <td>269.000000</td>\n",
       "    </tr>\n",
       "    <tr>\n",
       "      <th>25%</th>\n",
       "      <td>276.000000</td>\n",
       "    </tr>\n",
       "    <tr>\n",
       "      <th>50%</th>\n",
       "      <td>281.000000</td>\n",
       "    </tr>\n",
       "    <tr>\n",
       "      <th>75%</th>\n",
       "      <td>286.000000</td>\n",
       "    </tr>\n",
       "    <tr>\n",
       "      <th>max</th>\n",
       "      <td>294.000000</td>\n",
       "    </tr>\n",
       "  </tbody>\n",
       "</table>\n",
       "</div>"
      ],
      "text/plain": [
       "            score\n",
       "count   51.000000\n",
       "mean   281.039216\n",
       "std      6.046357\n",
       "min    269.000000\n",
       "25%    276.000000\n",
       "50%    281.000000\n",
       "75%    286.000000\n",
       "max    294.000000"
      ]
     },
     "execution_count": 32,
     "metadata": {},
     "output_type": "execute_result"
    }
   ],
   "source": [
    "df2 = df[df.score > 240]\n",
    "df2.describe()"
   ]
  },
  {
   "cell_type": "code",
   "execution_count": null,
   "id": "dd7b229d-2f6e-496c-bccc-3587c2c95691",
   "metadata": {},
   "outputs": [],
   "source": []
  }
 ],
 "metadata": {
  "kernelspec": {
   "display_name": "Python 3 (ipykernel)",
   "language": "python",
   "name": "python3"
  },
  "language_info": {
   "codemirror_mode": {
    "name": "ipython",
    "version": 3
   },
   "file_extension": ".py",
   "mimetype": "text/x-python",
   "name": "python",
   "nbconvert_exporter": "python",
   "pygments_lexer": "ipython3",
   "version": "3.9.7"
  }
 },
 "nbformat": 4,
 "nbformat_minor": 5
}
