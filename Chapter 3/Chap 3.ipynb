{
 "cells": [
  {
   "cell_type": "code",
   "execution_count": 1,
   "id": "541815e0-e5ea-455f-b931-8cc6db027250",
   "metadata": {},
   "outputs": [],
   "source": [
    "import pandas as pd\n",
    "import seaborn as sns"
   ]
  },
  {
   "cell_type": "code",
   "execution_count": 2,
   "id": "356700bc-eebf-44a6-b33f-96368587ff38",
   "metadata": {},
   "outputs": [
    {
     "data": {
      "text/plain": [
       "Index(['Gender', 'Do.you.believe.in.God', 'Pick.Random.Number', 'Height',\n",
       "       'Hand', 'Dates', 'FB.Friends', 'Weight', 'Drinks', 'Varsity', 'Songs',\n",
       "       'Diet', 'Politics.9Cat', 'Politics.numeric', 'Politics.3Cat'],\n",
       "      dtype='object')"
      ]
     },
     "execution_count": 2,
     "metadata": {},
     "output_type": "execute_result"
    }
   ],
   "source": [
    "# Exercice 5\n",
    "df = pd.read_csv('./Ch3/Student_survey.txt', sep='\\t')\n",
    "df.columns"
   ]
  },
  {
   "cell_type": "markdown",
   "id": "9eae2597-356d-42c9-a544-8462415b3785",
   "metadata": {},
   "source": [
    "a. Depending on what is your diet, student's political views change. There are no vegeterian conservative. The more students define your diet without meat, the more students are liberal or moderate.\n",
    "\n",
    "b. Differences are real because students say so. It is hard to know if it's the diet that makes the political view or vice-versa. Also, the absence of conservative in the vegetarian can be explain by a lack of students in the survey. The real difference in the student population might be pretty similar."
   ]
  },
  {
   "cell_type": "code",
   "execution_count": null,
   "id": "ffba707b-97ba-4520-aea9-a9ba56953c8e",
   "metadata": {},
   "outputs": [],
   "source": [
    "# Exercice 9\n"
   ]
  }
 ],
 "metadata": {
  "kernelspec": {
   "display_name": "Python 3 (ipykernel)",
   "language": "python",
   "name": "python3"
  },
  "language_info": {
   "codemirror_mode": {
    "name": "ipython",
    "version": 3
   },
   "file_extension": ".py",
   "mimetype": "text/x-python",
   "name": "python",
   "nbconvert_exporter": "python",
   "pygments_lexer": "ipython3",
   "version": "3.9.7"
  }
 },
 "nbformat": 4,
 "nbformat_minor": 5
}
