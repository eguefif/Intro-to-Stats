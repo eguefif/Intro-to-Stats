{
 "cells": [
  {
   "cell_type": "code",
   "execution_count": 14,
   "id": "217d5c45-f6fa-4ea4-97d2-16cf10dd1940",
   "metadata": {},
   "outputs": [],
   "source": [
    "import pandas as pd\n",
    "import seaborn as sns\n",
    "from math import log10\n",
    "\n",
    "df = pd.read_csv('./Scorecard.txt', sep='\\t')"
   ]
  },
  {
   "cell_type": "code",
   "execution_count": 3,
   "id": "ccb4a3a6-e7f1-4ec3-a186-916e852654a0",
   "metadata": {},
   "outputs": [
    {
     "data": {
      "text/plain": [
       "Index(['UNITID', 'OPEID', 'NAME', 'CITY', 'STATE', 'ZIP', 'MAINCAMPUS',\n",
       "       'HIGHESTDEG', 'TYPE', 'LOCALE', 'LOCALE 2', 'LATITUDE', 'LONGITUDE',\n",
       "       'CARNEGIE', 'CARNEGIE.ABBREV', 'UGPROFILE', 'UGPROFILE.ABBREV',\n",
       "       'SIZE.SETTING', 'TWO.YR.FOUR.YR', 'HIST.BLACK', 'PRED.BLACK',\n",
       "       'ALASKA.HAWAII', 'TRIBAL', 'AANAPII', 'HISPANIC', 'NATIVE.AM',\n",
       "       'MENONLY', 'WOMENONLY', 'UGDS', 'EXP.PER.STD', 'TUITFTE',\n",
       "       'LOG(TUITION)', 'MEDIAN.DEBT', 'PCTPELL', 'AVE.AGE', 'FEMALE.PCT',\n",
       "       'FIRST_GEN', 'FAMILY.INC', 'MED.INC.AFT6'],\n",
       "      dtype='object')"
      ]
     },
     "execution_count": 3,
     "metadata": {},
     "output_type": "execute_result"
    }
   ],
   "source": [
    "df.columns"
   ]
  },
  {
   "cell_type": "code",
   "execution_count": 5,
   "id": "27e0c5f0-9a91-4107-9afd-4927f3a69b2a",
   "metadata": {},
   "outputs": [
    {
     "data": {
      "text/plain": [
       "<AxesSubplot:xlabel='EXP.PER.STD', ylabel='Count'>"
      ]
     },
     "execution_count": 5,
     "metadata": {},
     "output_type": "execute_result"
    },
    {
     "data": {
      "image/png": "[encoded data removed]",
      "text/plain": [
       "<Figure size 432x288 with 1 Axes>"
      ]
     },
     "metadata": {
      "needs_background": "light"
     },
     "output_type": "display_data"
    }
   ],
   "source": [
    "sns.histplot(data=df, x='EXP.PER.STD')"
   ]
  },
  {
   "cell_type": "markdown",
   "id": "6249019f-aee5-4ffe-b2d8-8c9aba00269b",
   "metadata": {},
   "source": [
    "The distribution is skewed to the right. It is unimodal with ouliers on the far end."
   ]
  },
  {
   "cell_type": "code",
   "execution_count": 12,
   "id": "2e876fe3-b354-4d19-9f14-acdd666df373",
   "metadata": {},
   "outputs": [],
   "source": [
    "s = df['EXP.PER.STD'].std()\n",
    "y = df['EXP.PER.STD'].mean()\n",
    "df['EXP.Z'] = (df['EXP.PER.STD'] - y) / s"
   ]
  },
  {
   "cell_type": "code",
   "execution_count": 13,
   "id": "5cf06bbd-6c9a-4d40-b9a8-c938603037be",
   "metadata": {},
   "outputs": [
    {
     "data": {
      "text/plain": [
       "UNITID                                                         100654\n",
       "OPEID                                                          100200\n",
       "NAME                                         Alabama A & M University\n",
       "CITY                                                           Normal\n",
       "STATE                                                              AL\n",
       "ZIP                                                             35762\n",
       "MAINCAMPUS                                                Main campus\n",
       "HIGHESTDEG                                            Graduate degree\n",
       "TYPE                                                           Public\n",
       "LOCALE              City: Midsize (population of at least 100,000 ...\n",
       "LOCALE 2                                                         City\n",
       "LATITUDE                                                    34.783368\n",
       "LONGITUDE                                                  -86.568502\n",
       "CARNEGIE            Master's Colleges & Universities: Larger Programs\n",
       "CARNEGIE.ABBREV                                               Masters\n",
       "UGPROFILE           Four-year, full-time, inclusive, lower transfe...\n",
       "UGPROFILE.ABBREV                        Four Year Full-Time Inclusive\n",
       "SIZE.SETTING                    Four-year, medium, highly residential\n",
       "TWO.YR.FOUR.YR                                                    4YR\n",
       "HIST.BLACK                                                        Yes\n",
       "PRED.BLACK                                                         No\n",
       "ALASKA.HAWAII                                                      No\n",
       "TRIBAL                                                             No\n",
       "AANAPII                                                            No\n",
       "HISPANIC                                                           No\n",
       "NATIVE.AM                                                          No\n",
       "MENONLY                                                            No\n",
       "WOMENONLY                                                          No\n",
       "UGDS                                                             4990\n",
       "EXP.PER.STD                                                      5384\n",
       "TUITFTE                                                        7413.0\n",
       "LOG(TUITION)                                                 3.869994\n",
       "MEDIAN.DEBT                                                   15000.0\n",
       "PCTPELL                                                        0.7067\n",
       "AVE.AGE                                                     20.283741\n",
       "FEMALE.PCT                                                    0.56403\n",
       "FIRST_GEN                                                    0.365828\n",
       "FAMILY.INC                                               32362.826114\n",
       "MED.INC.AFT6                                                  25200.0\n",
       "EXP.Z                                                       -0.391351\n",
       "Name: 0, dtype: object"
      ]
     },
     "execution_count": 13,
     "metadata": {},
     "output_type": "execute_result"
    }
   ],
   "source": [
    "df.iloc[0]"
   ]
  },
  {
   "cell_type": "markdown",
   "id": "914bb999-9e17-4304-81d7-fe910eebcf26",
   "metadata": {},
   "source": [
    "For Alabama A&M University, the expenditure per full time student is -0.4SD than the mean. It is not unsual."
   ]
  },
  {
   "cell_type": "code",
   "execution_count": 25,
   "id": "d83ab81b-03df-4f95-9584-fed48c17e5a9",
   "metadata": {},
   "outputs": [],
   "source": [
    "def transform(x):\n",
    "    return log10(x+(1/6))\n",
    "\n",
    "\n",
    "df = pd.read_csv('./Scorecard.txt', sep='\\t')\n",
    "\n",
    "s = df['EXP.PER.STD'].std()\n",
    "y = df['EXP.PER.STD'].mean()\n",
    "df['EXP.Z'] = (df['EXP.PER.STD'] - y) / s\n",
    "\n",
    "\n",
    "df['EXP.LOG'] = df['EXP.PER.STD'].apply(transform)\n",
    "y_log = df['EXP.LOG'].mean()\n",
    "st_log = df['EXP.LOG'].std()\n",
    "\n",
    "df['EXP.LOG.Z'] = (df['EXP.LOG']-y_log)/st_log"
   ]
  },
  {
   "cell_type": "code",
   "execution_count": 26,
   "id": "5453b8e7-00b7-459d-9412-b34cc334e67f",
   "metadata": {},
   "outputs": [
    {
     "data": {
      "text/plain": [
       "UNITID                                                         100654\n",
       "OPEID                                                          100200\n",
       "NAME                                         Alabama A & M University\n",
       "CITY                                                           Normal\n",
       "STATE                                                              AL\n",
       "ZIP                                                             35762\n",
       "MAINCAMPUS                                                Main campus\n",
       "HIGHESTDEG                                            Graduate degree\n",
       "TYPE                                                           Public\n",
       "LOCALE              City: Midsize (population of at least 100,000 ...\n",
       "LOCALE 2                                                         City\n",
       "LATITUDE                                                    34.783368\n",
       "LONGITUDE                                                  -86.568502\n",
       "CARNEGIE            Master's Colleges & Universities: Larger Programs\n",
       "CARNEGIE.ABBREV                                               Masters\n",
       "UGPROFILE           Four-year, full-time, inclusive, lower transfe...\n",
       "UGPROFILE.ABBREV                        Four Year Full-Time Inclusive\n",
       "SIZE.SETTING                    Four-year, medium, highly residential\n",
       "TWO.YR.FOUR.YR                                                    4YR\n",
       "HIST.BLACK                                                        Yes\n",
       "PRED.BLACK                                                         No\n",
       "ALASKA.HAWAII                                                      No\n",
       "TRIBAL                                                             No\n",
       "AANAPII                                                            No\n",
       "HISPANIC                                                           No\n",
       "NATIVE.AM                                                          No\n",
       "MENONLY                                                            No\n",
       "WOMENONLY                                                          No\n",
       "UGDS                                                             4990\n",
       "EXP.PER.STD                                                      5384\n",
       "TUITFTE                                                        7413.0\n",
       "LOG(TUITION)                                                 3.869994\n",
       "MEDIAN.DEBT                                                   15000.0\n",
       "PCTPELL                                                        0.7067\n",
       "AVE.AGE                                                     20.283741\n",
       "FEMALE.PCT                                                    0.56403\n",
       "FIRST_GEN                                                    0.365828\n",
       "FAMILY.INC                                               32362.826114\n",
       "MED.INC.AFT6                                                  25200.0\n",
       "EXP.Z                                                       -0.391351\n",
       "EXP.LOG                                                      3.731118\n",
       "EXP.LOG.Z                                                   -0.371001\n",
       "Name: 0, dtype: object"
      ]
     },
     "execution_count": 26,
     "metadata": {},
     "output_type": "execute_result"
    }
   ],
   "source": [
    "df.iloc[0]"
   ]
  },
  {
   "cell_type": "code",
   "execution_count": 29,
   "id": "8aa2033e-2435-4a64-b703-1ec070cc7402",
   "metadata": {},
   "outputs": [
    {
     "data": {
      "text/plain": [
       "<AxesSubplot:xlabel='EXP.LOG', ylabel='Count'>"
      ]
     },
     "execution_count": 29,
     "metadata": {},
     "output_type": "execute_result"
    },
    {
     "data": {
      "image/png": "[encoded data removed]",
      "text/plain": [
       "<Figure size 432x288 with 1 Axes>"
      ]
     },
     "metadata": {
      "needs_background": "light"
     },
     "output_type": "display_data"
    }
   ],
   "source": [
    "sns.histplot(data=df[df.TYPE == df.iloc[0].TYPE], x='EXP.LOG')"
   ]
  },
  {
   "cell_type": "code",
   "execution_count": 30,
   "id": "d15e3362-6f60-4f28-b6a1-14556f6a89d5",
   "metadata": {},
   "outputs": [
    {
     "data": {
      "text/plain": [
       "<AxesSubplot:xlabel='EXP.PER.STD', ylabel='Count'>"
      ]
     },
     "execution_count": 30,
     "metadata": {},
     "output_type": "execute_result"
    },
    {
     "data": {
      "image/png": "[encoded data removed]",
      "text/plain": [
       "<Figure size 432x288 with 1 Axes>"
      ]
     },
     "metadata": {
      "needs_background": "light"
     },
     "output_type": "display_data"
    }
   ],
   "source": [
    "sns.histplot(data=df[df.TYPE == df.iloc[0].TYPE], x='EXP.PER.STD')"
   ]
  },
  {
   "cell_type": "code",
   "execution_count": 38,
   "id": "ef27dde8-22b2-4f92-bbe1-1bc706bb4d65",
   "metadata": {},
   "outputs": [
    {
     "data": {
      "text/plain": [
       "UNITID                                                         100663\n",
       "OPEID                                                          105200\n",
       "NAME                              University of Alabama at Birmingham\n",
       "CITY                                                       Birmingham\n",
       "STATE                                                              AL\n",
       "ZIP                                                        35294-0110\n",
       "MAINCAMPUS                                                Main campus\n",
       "HIGHESTDEG                                            Graduate degree\n",
       "TYPE                                                           Public\n",
       "LOCALE              City: Midsize (population of at least 100,000 ...\n",
       "LOCALE 2                                                         City\n",
       "LATITUDE                                                    33.505697\n",
       "LONGITUDE                                                  -86.799345\n",
       "CARNEGIE            Doctoral Universities: Very High Research Acti...\n",
       "CARNEGIE.ABBREV                                         Doctoral/Prof\n",
       "UGPROFILE           Four-year, medium full-time , selective, highe...\n",
       "UGPROFILE.ABBREV                 Four Year Medium Full-Time Selective\n",
       "SIZE.SETTING               Four-year, large, primarily nonresidential\n",
       "TWO.YR.FOUR.YR                                                    4YR\n",
       "HIST.BLACK                                                         No\n",
       "PRED.BLACK                                                         No\n",
       "ALASKA.HAWAII                                                      No\n",
       "TRIBAL                                                             No\n",
       "AANAPII                                                            No\n",
       "HISPANIC                                                           No\n",
       "NATIVE.AM                                                          No\n",
       "MENONLY                                                            No\n",
       "WOMENONLY                                                          No\n",
       "UGDS                                                            13186\n",
       "EXP.PER.STD                                                     16454\n",
       "TUITFTE                                                       13177.0\n",
       "LOG(TUITION)                                                 4.119817\n",
       "MEDIAN.DEBT                                                   15000.0\n",
       "PCTPELL                                                        0.3632\n",
       "AVE.AGE                                                     23.607975\n",
       "FEMALE.PCT                                                   0.639091\n",
       "FIRST_GEN                                                    0.341224\n",
       "FAMILY.INC                                               51306.674306\n",
       "MED.INC.AFT6                                                  35100.0\n",
       "EXP.Z                                                        0.874154\n",
       "EXP.LOG                                                      4.216276\n",
       "EXP.LOG.Z                                                    1.265638\n",
       "Name: 1, dtype: object"
      ]
     },
     "execution_count": 38,
     "metadata": {},
     "output_type": "execute_result"
    }
   ],
   "source": [
    "df[df.TYPE == df.iloc[0].TYPE].iloc[1]"
   ]
  },
  {
   "cell_type": "code",
   "execution_count": 39,
   "id": "13f7f2e4-8a3f-4f73-a429-57c567d1fd79",
   "metadata": {},
   "outputs": [],
   "source": [
    "df2 = df[df.TYPE == df.iloc[0].TYPE]"
   ]
  },
  {
   "cell_type": "code",
   "execution_count": 40,
   "id": "cf001ba0-524b-4687-ba69-2f39214bb4c4",
   "metadata": {},
   "outputs": [
    {
     "name": "stdout",
     "output_type": "stream",
     "text": [
      "-0.3616342206991374\n"
     ]
    },
    {
     "data": {
      "text/plain": [
       "0.9915514530509906"
      ]
     },
     "execution_count": 40,
     "metadata": {},
     "output_type": "execute_result"
    }
   ],
   "source": [
    "y2 = df2['EXP.PER.STD'].mean()\n",
    "s2 = df2['EXP.PER.STD'].std()\n",
    "print((df2['EXP.PER.STD'].iloc[0] - y2) / s2)\n",
    "(df2['EXP.PER.STD'].iloc[1] - y2) / s2"
   ]
  },
  {
   "cell_type": "code",
   "execution_count": null,
   "id": "5fe675ec-6bfc-402b-b17b-ad0c89ba3de1",
   "metadata": {},
   "outputs": [],
   "source": []
  }
 ],
 "metadata": {
  "kernelspec": {
   "display_name": "Python 3 (ipykernel)",
   "language": "python",
   "name": "python3"
  },
  "language_info": {
   "codemirror_mode": {
    "name": "ipython",
    "version": 3
   },
   "file_extension": ".py",
   "mimetype": "text/x-python",
   "name": "python",
   "nbconvert_exporter": "python",
   "pygments_lexer": "ipython3",
   "version": "3.9.7"
  }
 },
 "nbformat": 4,
 "nbformat_minor": 5
}
