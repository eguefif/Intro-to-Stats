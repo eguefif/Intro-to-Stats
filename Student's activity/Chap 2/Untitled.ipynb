{
 "cells": [
  {
   "cell_type": "code",
   "execution_count": 24,
   "id": "5d237ba2-7955-44fb-803b-ae77aad11b4e",
   "metadata": {},
   "outputs": [],
   "source": [
    "import pandas as pd\n",
    "import seaborn as sns\n",
    "import matplotlib.pyplot as plt\n",
    "\n",
    "df = pd.read_csv('./Scorecard.txt', sep='\\t')"
   ]
  },
  {
   "cell_type": "code",
   "execution_count": 8,
   "id": "500b917b-4991-4daf-bc3f-c4e09377dc91",
   "metadata": {
    "tags": []
   },
   "outputs": [
    {
     "data": {
      "text/plain": [
       "Index(['UNITID', 'OPEID', 'NAME', 'CITY', 'STATE', 'ZIP', 'MAINCAMPUS',\n",
       "       'HIGHESTDEG', 'TYPE', 'LOCALE', 'LOCALE 2', 'LATITUDE', 'LONGITUDE',\n",
       "       'CARNEGIE', 'CARNEGIE.ABBREV', 'UGPROFILE', 'UGPROFILE.ABBREV',\n",
       "       'SIZE.SETTING', 'TWO.YR.FOUR.YR', 'HIST.BLACK', 'PRED.BLACK',\n",
       "       'ALASKA.HAWAII', 'TRIBAL', 'AANAPII', 'HISPANIC', 'NATIVE.AM',\n",
       "       'MENONLY', 'WOMENONLY', 'UGDS', 'EXP.PER.STD', 'TUITFTE',\n",
       "       'LOG(TUITION)', 'MEDIAN.DEBT', 'PCTPELL', 'AVE.AGE', 'FEMALE.PCT',\n",
       "       'FIRST_GEN', 'FAMILY.INC', 'MED.INC.AFT6'],\n",
       "      dtype='object')"
      ]
     },
     "execution_count": 8,
     "metadata": {},
     "output_type": "execute_result"
    }
   ],
   "source": [
    "df.columns"
   ]
  },
  {
   "cell_type": "markdown",
   "id": "262be7a6-709e-4c7c-b5cc-eb16cf298f2c",
   "metadata": {
    "tags": []
   },
   "source": [
    "# Step 2\n",
    "We can use UNITID which is the unit ID of the institution.\n",
    "We can also use the institution's name.\n",
    "We can use OPEID which is another numerical identifier."
   ]
  },
  {
   "cell_type": "code",
   "execution_count": 10,
   "id": "c991b7f1-e660-4077-8c63-c94f925e6287",
   "metadata": {},
   "outputs": [
    {
     "data": {
      "text/plain": [
       "array(['Masters', 'Doctoral/Prof', 'Associate', 'College',\n",
       "       'Special Focus', 'Special 2yr', 'Tribal', 'BA/Assoc'], dtype=object)"
      ]
     },
     "execution_count": 10,
     "metadata": {},
     "output_type": "execute_result"
    }
   ],
   "source": [
    "df['CARNEGIE.ABBREV'].unique()"
   ]
  },
  {
   "cell_type": "code",
   "execution_count": 31,
   "id": "8179d792-5179-48d7-a1fe-20fda3ab61ba",
   "metadata": {},
   "outputs": [
    {
     "data": {
      "image/png": "[encoded data removed]",
      "text/plain": [
       "<Figure size 648x288 with 1 Axes>"
      ]
     },
     "metadata": {
      "needs_background": "light"
     },
     "output_type": "display_data"
    }
   ],
   "source": [
    "plt.figure(figsize=(9, 4))\n",
    "ax = sns.countplot(data=df, x='CARNEGIE.ABBREV',)\n",
    "ax.set_xticklabels(ax.get_xticklabels(), rotation=40, ha=\"right\")\n",
    "plt.tight_layout()\n",
    "plt.show()"
   ]
  },
  {
   "cell_type": "markdown",
   "id": "76200de7-2e20-4872-b651-80c42ddeed70",
   "metadata": {},
   "source": [
    "# Step 3\n",
    "This variable's values can be the type of institution and education it provides. See df['CARNEGIE.ABBREV'].unique().\n",
    "We can see that associate institution are the more common while Tribal are the least common. Masters and college institution have the same count."
   ]
  },
  {
   "cell_type": "markdown",
   "id": "03093c3c-fdf9-4905-9eda-78559f548671",
   "metadata": {},
   "source": [
    "# Step 4\n",
    "I choose FAMILY.INC. We might see the average annual income of the student's family in dollar.\n",
    "\n",
    "The histogram is unimodal with its mode around 20 000 dollars. It is heavely skewed on the right. We can see an outlier at around 175 000 dollars"
   ]
  },
  {
   "cell_type": "code",
   "execution_count": 33,
   "id": "c84c786e-9abe-412a-8603-d51a889ebada",
   "metadata": {},
   "outputs": [
    {
     "data": {
      "text/plain": [
       "<AxesSubplot:xlabel='FAMILY.INC', ylabel='Count'>"
      ]
     },
     "execution_count": 33,
     "metadata": {},
     "output_type": "execute_result"
    },
    {
     "data": {
      "image/png": "[encoded data removed]",
      "text/plain": [
       "<Figure size 432x288 with 1 Axes>"
      ]
     },
     "metadata": {
      "needs_background": "light"
     },
     "output_type": "display_data"
    }
   ],
   "source": [
    "sns.histplot(data=df, x='FAMILY.INC')"
   ]
  },
  {
   "cell_type": "code",
   "execution_count": 34,
   "id": "02504264-2f00-4ea7-9f8a-e21624799edb",
   "metadata": {},
   "outputs": [
    {
     "data": {
      "text/plain": [
       "count      3613.000000\n",
       "mean      47112.680175\n",
       "std       25763.967436\n",
       "min        4180.539017\n",
       "25%       27099.480000\n",
       "50%       40356.605603\n",
       "75%       61769.140000\n",
       "max      174263.250000\n",
       "Name: FAMILY.INC, dtype: float64"
      ]
     },
     "execution_count": 34,
     "metadata": {},
     "output_type": "execute_result"
    }
   ],
   "source": [
    "df['FAMILY.INC'].describe()"
   ]
  },
  {
   "cell_type": "code",
   "execution_count": null,
   "id": "d4b4a017-94ab-4098-b780-9475c34309ef",
   "metadata": {},
   "outputs": [],
   "source": []
  }
 ],
 "metadata": {
  "kernelspec": {
   "display_name": "Python 3 (ipykernel)",
   "language": "python",
   "name": "python3"
  },
  "language_info": {
   "codemirror_mode": {
    "name": "ipython",
    "version": 3
   },
   "file_extension": ".py",
   "mimetype": "text/x-python",
   "name": "python",
   "nbconvert_exporter": "python",
   "pygments_lexer": "ipython3",
   "version": "3.9.7"
  }
 },
 "nbformat": 4,
 "nbformat_minor": 5
}
