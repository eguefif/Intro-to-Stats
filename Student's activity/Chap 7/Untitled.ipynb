{
 "cells": [
  {
   "cell_type": "code",
   "execution_count": 1,
   "id": "1ecad7dc-402f-4edd-852d-8222efa78f76",
   "metadata": {},
   "outputs": [],
   "source": [
    "import pandas as pd\n",
    "import numpy as np\n",
    "import matplotlib.pyplot as plt\n",
    "import math"
   ]
  },
  {
   "cell_type": "code",
   "execution_count": 52,
   "id": "8c0a177b-a6a6-4abe-979d-062c55792ec6",
   "metadata": {},
   "outputs": [],
   "source": [
    "# Class that fit a linear regression to two variable x and y\n",
    "class LinearModel:\n",
    "    \"\"\"\n",
    "    Fit a regression model for two variables.\n",
    "    \n",
    "    >>>model = LinearModel()\n",
    "    >>>model.fit(x, y)\n",
    "    >>>model.predict('22')\n",
    "    return a prediction for a particular value.\n",
    "    >>>model.model_evaluation()\n",
    "    (error, error std, r squared)\n",
    "    \"\"\"\n",
    "    def __init__(self, method: str = 'pearson') -> None:\n",
    "        \"\"\"\n",
    "        Initialize the class with the correlation calculation method.\n",
    "        \n",
    "        :param method: string correlation calculation method\n",
    "        \"\"\"\n",
    "        \n",
    "        self.method = method\n",
    "        \n",
    "    def fit(self, x: list, y: list) -> None:\n",
    "        \"\"\"\n",
    "        Define the value of b0 and b1 for the equation\n",
    "               y_hat = b0 + b1 * x\n",
    "        Param: x list of float predictor\n",
    "        :param: y list of float data known\n",
    "        \n",
    "        \"\"\"\n",
    "        self.b1 = x.corr(y, self.method)*y.std()/x.std()\n",
    "        self.b0 = y.mean() - self.b1*x.mean()\n",
    "        self.r = x.corr(y)\n",
    "        self.r_squared = self.r**2\n",
    "        self.x = x\n",
    "        self.y = y\n",
    "        self.prediction = self.b0 + self.b1*self.x\n",
    "        self.residuals = self.y - self.prediction\n",
    "        \n",
    "        self.e = (self.residuals.sum()**2)**(1/2)/(len(self.residuals)-2)\n",
    "        self.se = self.residuals.std()\n",
    "\n",
    "\n",
    "    def predict(self, value: float) -> float:\n",
    "        \"\"\"\n",
    "        Use the model to calculate a prediction.\n",
    "        \"\"\"\n",
    "        self.prediction = self.b0 + self.b1*value\n",
    "        self.residuals = self.y - self.prediction\n",
    "\n",
    "        return self.prediction\n",
    "    \n",
    "    def model_evaluation(self) -> (float, float, float):\n",
    "\n",
    "        return {'e': self.e,\n",
    "                'se': self.se,\n",
    "                'r^2':self.r_squared\n",
    "               }\n",
    "    \n",
    "    def plot_residuals(self) -> None:\n",
    "        \"\"\"\n",
    "        Plot the residual against the predictor variable\n",
    "        \"\"\"\n",
    "        plt.scatter(self.residuals, self.x)\n",
    "        plt.xlabel('Residuals')\n",
    "        plt.ylabel('Predictor')\n",
    "    \n",
    "    def parameters(self) -> (float, float):\n",
    "        \"\"\"\n",
    "        Return the b0 and b1 of the linear model equation.\n",
    "        \"\"\"\n",
    "        return self.b0, self.b1\n",
    "    \n",
    "    def print_equation(self) -> None:\n",
    "        print(f'Linear model equation: y_hat = {self.b0:.2f} + {self.b1:.2f}*x')"
   ]
  },
  {
   "cell_type": "code",
   "execution_count": 51,
   "id": "1fe96625-ae3b-4280-807c-8821ecf6981f",
   "metadata": {},
   "outputs": [
    {
     "data": {
      "text/plain": [
       "Index(['state', 'county', 'trump16_pct', 'clinton16_pct', 'otherpres16_pct',\n",
       "       'romney12_pct', 'obama12_pct', 'otherpres12_pct', 'senaterace16',\n",
       "       'houserace16', 'govrace16', 'total_population', 'cvap',\n",
       "       'voterturnout16_pct', 'voterturnout12_pct', 'voterturnout_pct_diff',\n",
       "       'white_pct', 'nonwhite_pct', 'black_pct', 'hispanic_pct',\n",
       "       'foreignborn_pct', 'female_pct', 'age29andunder_pct',\n",
       "       'age65andolder_pct', 'median_hh_inc', 'clf_unemploy_pct', 'lesshs_pct',\n",
       "       'lesscollege_pct', 'rural_pct'],\n",
       "      dtype='object')"
      ]
     },
     "execution_count": 51,
     "metadata": {},
     "output_type": "execute_result"
    }
   ],
   "source": [
    "df = pd.read_csv('./Election.txt', sep='\\t')\n",
    "df.columns"
   ]
  },
  {
   "cell_type": "code",
   "execution_count": 53,
   "id": "0b41b446-ff38-4ab5-acb8-1feb12f4fd8e",
   "metadata": {},
   "outputs": [
    {
     "name": "stdout",
     "output_type": "stream",
     "text": [
      "Linear model equation: y_hat = 0.08 + 0.90*x\n"
     ]
    },
    {
     "data": {
      "image/png": "[encoded data removed]",
      "text/plain": [
       "<Figure size 432x288 with 1 Axes>"
      ]
     },
     "metadata": {
      "needs_background": "light"
     },
     "output_type": "display_data"
    }
   ],
   "source": [
    "x = df['voterturnout12_pct']\n",
    "y = df['voterturnout16_pct']\n",
    "\n",
    "model = LinearModel()\n",
    "model.fit(x, y)\n",
    "model.print_equation()\n",
    "model.plot_residuals()"
   ]
  },
  {
   "cell_type": "markdown",
   "id": "b6397c46-0aad-4209-8618-b6d6e28462c4",
   "metadata": {},
   "source": [
    "Step 2:\n",
    "The intetcept means that if the 2012 turnout was 0, the 2016 turnout predicted would be 8%. It does not make any sense since we don't really have records of a case where turnout was 0.\n",
    "The slope means that our model, on average, predict an increase of 0.9 percentage point in the 2016 election for 1 percentage point in 2012.\n",
    "\n",
    "Step 3\n",
    "The conditions are not really met. The scatter plot of residuals against 2012 turnout shows patterns. A big bowl and a few points scattered. "
   ]
  },
  {
   "cell_type": "code",
   "execution_count": 54,
   "id": "edccfa5c-a056-4a1b-9c62-372080466230",
   "metadata": {},
   "outputs": [
    {
     "data": {
      "text/plain": [
       "0.5421874335354311"
      ]
     },
     "execution_count": 54,
     "metadata": {},
     "output_type": "execute_result"
    }
   ],
   "source": [
    "p = model.predict(0.52)\n",
    "p"
   ]
  },
  {
   "cell_type": "code",
   "execution_count": 35,
   "id": "b053dfaf-6c34-43ca-a395-563e3d0402b9",
   "metadata": {},
   "outputs": [],
   "source": [
    "y_gila = df[df.county == 'Gila'].voterturnout16_pct"
   ]
  },
  {
   "cell_type": "code",
   "execution_count": 42,
   "id": "46842364-2d90-4c0f-879c-49ea219ea7c2",
   "metadata": {},
   "outputs": [],
   "source": [
    "y_gila = y_gila.values[0]"
   ]
  },
  {
   "cell_type": "code",
   "execution_count": 57,
   "id": "17274ff4-ab18-4cb6-94fa-9382088bb5f2",
   "metadata": {},
   "outputs": [
    {
     "data": {
      "text/plain": [
       "3.5681000444083546"
      ]
     },
     "execution_count": 57,
     "metadata": {},
     "output_type": "execute_result"
    }
   ],
   "source": [
    "model.model_evaluation()['se']*100"
   ]
  },
  {
   "cell_type": "code",
   "execution_count": 58,
   "id": "f63130cd-b650-4cf2-82c6-8226d46eddd4",
   "metadata": {},
   "outputs": [],
   "source": [
    "r_gila = y_gila - p"
   ]
  },
  {
   "cell_type": "code",
   "execution_count": 59,
   "id": "6019d266-bce8-4135-bf16-000a802c878a",
   "metadata": {},
   "outputs": [
    {
     "data": {
      "text/plain": [
       "0.3465749786645689"
      ]
     },
     "execution_count": 59,
     "metadata": {},
     "output_type": "execute_result"
    }
   ],
   "source": [
    "r_gila"
   ]
  },
  {
   "cell_type": "markdown",
   "id": "3ce12aa2-a209-4eef-8e42-e54d0b41e7b4",
   "metadata": {},
   "source": [
    "The residual for gila is 34.6%. It is a very unusual value sinces the 1se for the residual is 3.6%"
   ]
  },
  {
   "cell_type": "code",
   "execution_count": 61,
   "id": "deb9a104-f5af-45de-9478-f87025c59e18",
   "metadata": {},
   "outputs": [
    {
     "data": {
      "text/plain": [
       "0.8543481603988562"
      ]
     },
     "execution_count": 61,
     "metadata": {},
     "output_type": "execute_result"
    }
   ],
   "source": [
    "x.corr(y)**2"
   ]
  },
  {
   "cell_type": "code",
   "execution_count": null,
   "id": "07d594f0-23f0-41c8-a80d-a8f9eea4c788",
   "metadata": {},
   "outputs": [],
   "source": []
  }
 ],
 "metadata": {
  "kernelspec": {
   "display_name": "Python 3 (ipykernel)",
   "language": "python",
   "name": "python3"
  },
  "language_info": {
   "codemirror_mode": {
    "name": "ipython",
    "version": 3
   },
   "file_extension": ".py",
   "mimetype": "text/x-python",
   "name": "python",
   "nbconvert_exporter": "python",
   "pygments_lexer": "ipython3",
   "version": "3.9.7"
  }
 },
 "nbformat": 4,
 "nbformat_minor": 5
}
