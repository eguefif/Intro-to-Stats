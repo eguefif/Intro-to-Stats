{
 "cells": [
  {
   "cell_type": "code",
   "execution_count": 1,
   "id": "d841d34e-aafd-43ac-9e54-cbe791814711",
   "metadata": {},
   "outputs": [],
   "source": [
    "import pandas as pd\n",
    "import matplotlib.pyplot as plt\n",
    "import numpy as np"
   ]
  },
  {
   "cell_type": "code",
   "execution_count": 5,
   "id": "968d671c-1883-49c0-9c89-610e81cec672",
   "metadata": {},
   "outputs": [
    {
     "data": {
      "text/plain": [
       "Index(['state', 'county', 'trump16_pct', 'clinton16_pct', 'otherpres16_pct',\n",
       "       'romney12_pct', 'obama12_pct', 'otherpres12_pct', 'senaterace16',\n",
       "       'houserace16', 'govrace16', 'total_population', 'cvap',\n",
       "       'voterturnout16_pct', 'voterturnout12_pct', 'voterturnout_pct_diff',\n",
       "       'white_pct', 'nonwhite_pct', 'black_pct', 'hispanic_pct',\n",
       "       'foreignborn_pct', 'female_pct', 'age29andunder_pct',\n",
       "       'age65andolder_pct', 'median_hh_inc', 'clf_unemploy_pct', 'lesshs_pct',\n",
       "       'lesscollege_pct', 'rural_pct'],\n",
       "      dtype='object')"
      ]
     },
     "execution_count": 5,
     "metadata": {},
     "output_type": "execute_result"
    }
   ],
   "source": [
    "df = pd.read_csv('./Election.txt', sep='\\t')\n",
    "df.columns"
   ]
  },
  {
   "cell_type": "markdown",
   "id": "682e9c2b-adc7-478f-b0ae-7e1cdc16cb17",
   "metadata": {},
   "source": [
    "# Step1\n",
    "Intest about politics is a reason to vote. A sens a citizenship duty is an other one. Being scared by a candidate. A direct intest on the aftermath of the election. "
   ]
  },
  {
   "cell_type": "code",
   "execution_count": 7,
   "id": "c2437724-366f-421f-968b-3c55dc8ff862",
   "metadata": {},
   "outputs": [
    {
     "data": {
      "text/plain": [
       "<matplotlib.collections.PathCollection at 0x176baab3940>"
      ]
     },
     "execution_count": 7,
     "metadata": {},
     "output_type": "execute_result"
    },
    {
     "data": {
      "image/png": "[encoded data removed]",
      "text/plain": [
       "<Figure size 432x288 with 1 Axes>"
      ]
     },
     "metadata": {
      "needs_background": "light"
     },
     "output_type": "display_data"
    }
   ],
   "source": [
    "# Step 2\n",
    "plt.scatter(df.voterturnout16_pct, df.voterturnout12_pct)"
   ]
  },
  {
   "cell_type": "code",
   "execution_count": 15,
   "id": "58cce4e1-b28c-4f88-9d43-cee4edd78e42",
   "metadata": {},
   "outputs": [
    {
     "name": "stdout",
     "output_type": "stream",
     "text": [
      "0.9240125441115077\n"
     ]
    },
    {
     "data": {
      "text/plain": [
       "0.9243095587512099"
      ]
     },
     "execution_count": 15,
     "metadata": {},
     "output_type": "execute_result"
    }
   ],
   "source": [
    "def correlation(data1, data2):\n",
    "    y1 = np.mean(data1)\n",
    "    sd1 = np.std(data1)\n",
    "    z1 = (data1 - y1)/sd1\n",
    "    \n",
    "    y2 = np.mean(data2)\n",
    "    sd2 = np.std(data2)\n",
    "    z2=(data2 - y1) / sd2\n",
    "    \n",
    "    n = data1.shape[0]\n",
    "    \n",
    "    return sum(z1*z2)/(n+1)\n",
    "\n",
    "print(correlation(df.voterturnout16_pct, df.voterturnout12_pct))\n",
    "df['voterturnout16_pct'].corr(df['voterturnout12_pct'])"
   ]
  },
  {
   "cell_type": "code",
   "execution_count": 18,
   "id": "6ef52050-2913-4196-aa45-c89621c9b2bb",
   "metadata": {},
   "outputs": [
    {
     "data": {
      "text/plain": [
       "271     San Juan\n",
       "1776     Harding\n",
       "2642      Loving\n",
       "2647    McMullen\n",
       "Name: county, dtype: object"
      ]
     },
     "execution_count": 18,
     "metadata": {},
     "output_type": "execute_result"
    }
   ],
   "source": [
    "df.county[df['voterturnout16_pct'] > 1]"
   ]
  },
  {
   "cell_type": "code",
   "execution_count": 23,
   "id": "10eb878d-181e-42b3-9924-5b9153117f1d",
   "metadata": {},
   "outputs": [],
   "source": [
    "df.drop(labels=[271, 1776, 2642, 2647], axis=0, inplace=True)"
   ]
  },
  {
   "cell_type": "code",
   "execution_count": 24,
   "id": "6d9c4d0e-e1fc-4f48-b745-6bec2c0a76bf",
   "metadata": {},
   "outputs": [
    {
     "name": "stdout",
     "output_type": "stream",
     "text": [
      "0.9214846038125588\n"
     ]
    },
    {
     "data": {
      "image/png": "[encoded data removed]",
      "text/plain": [
       "<Figure size 432x288 with 1 Axes>"
      ]
     },
     "metadata": {
      "needs_background": "light"
     },
     "output_type": "display_data"
    }
   ],
   "source": [
    "# Step 2\n",
    "plt.scatter(df.voterturnout16_pct, df.voterturnout12_pct)\n",
    "print(correlation(df.voterturnout16_pct, df.voterturnout12_pct))"
   ]
  },
  {
   "cell_type": "code",
   "execution_count": 25,
   "id": "40fb6ddb-d0b0-42cc-a044-5da484e6e4d4",
   "metadata": {},
   "outputs": [
    {
     "data": {
      "text/plain": [
       "Index(['state', 'county', 'trump16_pct', 'clinton16_pct', 'otherpres16_pct',\n",
       "       'romney12_pct', 'obama12_pct', 'otherpres12_pct', 'senaterace16',\n",
       "       'houserace16', 'govrace16', 'total_population', 'cvap',\n",
       "       'voterturnout16_pct', 'voterturnout12_pct', 'voterturnout_pct_diff',\n",
       "       'white_pct', 'nonwhite_pct', 'black_pct', 'hispanic_pct',\n",
       "       'foreignborn_pct', 'female_pct', 'age29andunder_pct',\n",
       "       'age65andolder_pct', 'median_hh_inc', 'clf_unemploy_pct', 'lesshs_pct',\n",
       "       'lesscollege_pct', 'rural_pct'],\n",
       "      dtype='object')"
      ]
     },
     "execution_count": 25,
     "metadata": {},
     "output_type": "execute_result"
    }
   ],
   "source": [
    "df.columns"
   ]
  },
  {
   "cell_type": "code",
   "execution_count": 40,
   "id": "752547b3-6cf2-4068-9c97-fa20b86449c4",
   "metadata": {},
   "outputs": [
    {
     "data": {
      "text/plain": [
       "0.06740766365028708"
      ]
     },
     "execution_count": 40,
     "metadata": {},
     "output_type": "execute_result"
    },
    {
     "data": {
      "image/png": "[encoded data removed]",
      "text/plain": [
       "<Figure size 432x288 with 1 Axes>"
      ]
     },
     "metadata": {
      "needs_background": "light"
     },
     "output_type": "display_data"
    }
   ],
   "source": [
    "predictor = df.rural_pct\n",
    "plt.scatter(df.voterturnout16_pct, predictor)\n",
    "correlation(df.voterturnout16_pct, predictor)"
   ]
  },
  {
   "cell_type": "code",
   "execution_count": null,
   "id": "a3c3d577-fe65-434b-ba91-7615c5be69d9",
   "metadata": {},
   "outputs": [],
   "source": []
  }
 ],
 "metadata": {
  "kernelspec": {
   "display_name": "Python 3 (ipykernel)",
   "language": "python",
   "name": "python3"
  },
  "language_info": {
   "codemirror_mode": {
    "name": "ipython",
    "version": 3
   },
   "file_extension": ".py",
   "mimetype": "text/x-python",
   "name": "python",
   "nbconvert_exporter": "python",
   "pygments_lexer": "ipython3",
   "version": "3.9.7"
  }
 },
 "nbformat": 4,
 "nbformat_minor": 5
}
